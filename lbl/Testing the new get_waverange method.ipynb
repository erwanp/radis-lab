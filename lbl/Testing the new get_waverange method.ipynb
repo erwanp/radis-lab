{
 "cells": [
  {
   "cell_type": "code",
   "execution_count": 1,
   "metadata": {},
   "outputs": [],
   "source": [
    "from astropy import units as u"
   ]
  },
  {
   "cell_type": "code",
   "execution_count": 2,
   "metadata": {},
   "outputs": [],
   "source": [
    "def convert_and_strip_units(quantity, output_unit=None, digit=10):\n",
    "    \"\"\"\n",
    "    Strips units and return the numerical value.\n",
    "\n",
    "    Parameters\n",
    "    ----------\n",
    "    quantity : int or float or list or None or ~astropy.units.quantity.Quantity\n",
    "        Numerical quantity. Pass it without including units if default units are intended.\n",
    "    output_unit : ~astropy.units.core.UnitBase or ~astropy.units.quantity.Quantity\n",
    "        The default units in which the quantity is to be converted before extracting the value.\n",
    "\n",
    "    Other Parameters\n",
    "    ----------------\n",
    "    \n",
    "    round: int\n",
    "        round to that number of digit after conversion. Default ``10``. Set to \n",
    "        ``None`` to disable.\n",
    "\n",
    "    Returns\n",
    "    -------\n",
    "    int or float or None or ~numpy.ndarray\n",
    "        The numerical value extracted from ``quantity``\n",
    "\n",
    "    Examples\n",
    "    --------\n",
    "    \n",
    "        >>> convert_and_strip_units(4.5 * u.um, u.nm)\n",
    "        <<< 4500.0\n",
    "\n",
    "        >>> convert_and_strip_units(200000 * (u.m)**-1, 1/u.cm)\n",
    "        <<< 2000.0\n",
    "\n",
    "    Raises\n",
    "    ------\n",
    "    TypeError\n",
    "        Raised when ``quantity`` is a astropy.units quantity and ``output_unit`` is ``None``.\n",
    "    \n",
    "    \"\"\"\n",
    "    if isinstance(quantity, u.Quantity):\n",
    "        if output_unit in (u.deg_C, u.imperial.deg_F, u.K):\n",
    "            quantity = quantity.to_value(output_unit, equivalencies=u.temperature())\n",
    "        elif isinstance(output_unit, (u.UnitBase, u.Quantity)):\n",
    "            quantity = quantity.to_value(output_unit, equivalencies=u.spectral())\n",
    "        else:\n",
    "            raise TypeError(\n",
    "                \"'output_unit' parameter is not a valid astropy unit: {0}\".format(\n",
    "                    output_unit\n",
    "                )\n",
    "            )\n",
    "\n",
    "        if digit:\n",
    "            quantity = round(quantity, digit)\n",
    "\n",
    "    return quantity"
   ]
  },
  {
   "cell_type": "code",
   "execution_count": 3,
   "metadata": {},
   "outputs": [],
   "source": [
    "def air2vacuum(wv):\n",
    "    return 1.2*wv"
   ]
  },
  {
   "cell_type": "code",
   "execution_count": 4,
   "metadata": {},
   "outputs": [],
   "source": [
    "def nm2cm(wv):\n",
    "    return wv/(10**7)"
   ]
  },
  {
   "cell_type": "code",
   "execution_count": 6,
   "metadata": {},
   "outputs": [],
   "source": [
    "class Default:\n",
    "    \"\"\" Contains a value\n",
    "    \n",
    "    Examples\n",
    "    --------\n",
    "    \n",
    "    ::\n",
    "    \n",
    "        a = Default(\"42\")\n",
    "        isinstance(a, Default)\n",
    "        >>> True\n",
    "        \n",
    "        a.value\n",
    "        >>> 42\n",
    "    \"\"\"\n",
    "\n",
    "    def __init__(self, value):\n",
    "        self.value = value\n"
   ]
  },
  {
   "cell_type": "code",
   "execution_count": 7,
   "metadata": {},
   "outputs": [],
   "source": [
    "def get_waverange(\n",
    "    wmin=None,\n",
    "    wmax=None,\n",
    "    wunit=Default(\"cm-1\"),   #is none in the actual code because cal\n",
    "    wavenum_min=None,\n",
    "    wavenum_max=None,\n",
    "    wavelength_min=None,\n",
    "    wavelength_max=None,\n",
    "    medium=\"air\",\n",
    "):\n",
    "    represent_wavelength = False\n",
    "    represent_wavenum = False\n",
    "    \n",
    "    # user did not pass wunit\n",
    "    if isinstance(wunit, Default):\n",
    "        wunit = wunit.value\n",
    "        # user did not pass wmin or wmax\n",
    "        if wmin is None or wmax is None:\n",
    "            assert wmin is None and wmax is None\n",
    "        else:\n",
    "            assert wmin is not None\n",
    "            assert wmax is not None\n",
    "            # user passes wmin/wmax with unit\n",
    "            if isinstance(wmin, u.Quantity) or isinstance(wmax, u.Quantity):\n",
    "                assert wmin.unit.is_equivalent(u.m) or wmin.unit.is_equivalent(1 / u.m)\n",
    "                assert wmax.unit.is_equivalent(u.m) or wmax.unit.is_equivalent(1 / u.m)\n",
    "                assert wmin.unit.is_equivalent(wmax.unit)\n",
    "                if wmin.unit.is_equivalent(u.m):\n",
    "                    represent_wavelength = True\n",
    "                else:\n",
    "                    represent_wavenum = True\n",
    "            # user did not pass wmin/wmax with unit\n",
    "            else:\n",
    "                assert not isinstance(wmin, u.Quantity)\n",
    "                assert not isinstance(wmax, u.Quantity)\n",
    "                wmin = wmin * u.Unit(wunit)\n",
    "                wmax = wmax * u.Unit(wunit)\n",
    "                represent_wavenum = True\n",
    "\n",
    "    # user passed wunit explicitly\n",
    "    else:\n",
    "        # user did not pass wmin/wmax\n",
    "        if wmin is None or wmax is None:\n",
    "            raise ValueError(\"Please enter value of wmin and wmax when passing wunit\")\n",
    "        # user passes wmin/wmax along with wunit\n",
    "        else:\n",
    "            assert wmin is not None\n",
    "            assert wmax is not None\n",
    "            # wmin/wmax values come with unit\n",
    "            if isinstance(wmin, u.Quantity) or isinstance(wmax, u.Quantity):\n",
    "                assert wmin.unit.is_equivalent(u.m) or wmin.unit.is_equivalent(1 / u.m)\n",
    "                assert wmax.unit.is_equivalent(u.m) or wmax.unit.is_equivalent(1 / u.m)\n",
    "                assert wmin.unit.is_equivalent(wmax.unit)\n",
    "                # wmin and wunit are the same units\n",
    "                if wmin.unit == u.Unit(wunit):\n",
    "                    if wmin.unit.is_equivalent(u.m):\n",
    "                        represent_wavelength = True\n",
    "                    else:\n",
    "                        represent_wavenum = True\n",
    "                # wmin and wunit have different units\n",
    "                else:\n",
    "                    raise ValueError(\n",
    "                        \"Conflicting units entered for wmin/wmax and wunit\"\n",
    "                    )\n",
    "            # wmin/wmax do not have units\n",
    "            else:\n",
    "                wmin = wmin * u.Unit(wunit)\n",
    "                wmax = wmax * u.Unit(wunit)\n",
    "                if wmin.unit.is_equivalent(u.m):\n",
    "                    represent_wavelength = True\n",
    "                else:\n",
    "                    represent_wavenum = True\n",
    "\n",
    "    if represent_wavenum:\n",
    "        wmin = convert_and_strip_units(wmin, 1 / u.cm)\n",
    "        wmax = convert_and_strip_units(wmax, 1 / u.cm)\n",
    "    if represent_wavelength:\n",
    "        wmin = convert_and_strip_units(wmin, u.nm)\n",
    "        wmax = convert_and_strip_units(wmax, u.nm)\n",
    "\n",
    "    wavelength_min = convert_and_strip_units(wavelength_min, u.nm)\n",
    "    wavelength_max = convert_and_strip_units(wavelength_max, u.nm)\n",
    "    wavenum_min = convert_and_strip_units(wavenum_min, 1 / u.cm)\n",
    "    wavenum_max = convert_and_strip_units(wavenum_max, 1 / u.cm)\n",
    "    if (\n",
    "        wmin is None\n",
    "        and wmax is None\n",
    "        and wavelength_min is None\n",
    "        and wavelength_max is None\n",
    "        and wavenum_min is None\n",
    "        and wavenum_max is None\n",
    "    ):\n",
    "        raise ValueError(\"Give wavenumber or wavelength\")\n",
    "\n",
    "    # check if only one pair of values has been passed\n",
    "    w_present = wmin is not None or wmax is not None\n",
    "    wavenum_present = wavenum_min is not None or wavenum_max is not None\n",
    "    wavelength_present = wavelength_min is not None or wavelength_max is not None\n",
    "    if w_present + wavenum_present + wavelength_present >= 2:\n",
    "        raise ValueError(\"Cannot pass more than one set of values as input\")\n",
    "    assert medium in [\"air\", \"vacuum\"]\n",
    "\n",
    "    # user has passed valid wmin/wmax with units\n",
    "    if represent_wavelength:\n",
    "        assert wmin < wmax\n",
    "        wavelength_min = wmin\n",
    "        wavelength_max = wmax\n",
    "    elif represent_wavenum:\n",
    "        assert wmin < wmax\n",
    "        wavenum_min = wmin\n",
    "        wavenum_max = wmax\n",
    "\n",
    "    # ... Input is in wavelength:\n",
    "    if wavenum_min is None and wavenum_max is None:\n",
    "        assert wavelength_max is not None\n",
    "        assert wavelength_min is not None\n",
    "        # Test range is correct:\n",
    "        assert wavelength_min < wavelength_max\n",
    "\n",
    "        # In wavelength mode, the propagating medium matters. Convert to\n",
    "        # calculation medium (vacuum) if needed:\n",
    "        if medium == \"air\":\n",
    "            wavelength_min_vac = air2vacuum(wavelength_min)\n",
    "            wavelength_max_vac = air2vacuum(wavelength_max)\n",
    "        else:\n",
    "            wavelength_min_vac = wavelength_min\n",
    "            wavelength_max_vac = wavelength_max\n",
    "\n",
    "        wavenum_min = nm2cm(wavelength_max_vac)\n",
    "        wavenum_max = nm2cm(wavelength_min_vac)\n",
    "    # ... or input is in wavenumber:\n",
    "    else:\n",
    "        assert wavenum_min is not None\n",
    "        assert wavenum_max is not None\n",
    "        # Test range is correct:\n",
    "        assert wavenum_min < wavenum_max\n",
    "\n",
    "    return wavenum_min, wavenum_max"
   ]
  },
  {
   "cell_type": "markdown",
   "metadata": {},
   "source": [
    "## wunit is none"
   ]
  },
  {
   "cell_type": "markdown",
   "metadata": {},
   "source": [
    "### wmin/wmax is none "
   ]
  },
  {
   "cell_type": "markdown",
   "metadata": {},
   "source": [
    "#### wavenumber is passed"
   ]
  },
  {
   "cell_type": "code",
   "execution_count": 8,
   "metadata": {},
   "outputs": [
    {
     "data": {
      "text/plain": [
       "(10, 20)"
      ]
     },
     "execution_count": 8,
     "metadata": {},
     "output_type": "execute_result"
    }
   ],
   "source": [
    "get_waverange(wavenum_min = 10, wavenum_max = 20)"
   ]
  },
  {
   "cell_type": "markdown",
   "metadata": {},
   "source": [
    "#### wavelength is passed"
   ]
  },
  {
   "cell_type": "code",
   "execution_count": 9,
   "metadata": {},
   "outputs": [
    {
     "data": {
      "text/plain": [
       "(2e-07, 1e-07)"
      ]
     },
     "execution_count": 9,
     "metadata": {},
     "output_type": "execute_result"
    }
   ],
   "source": [
    "get_waverange(wavelength_min = 1, wavelength_max = 2, medium=\"vacuum\") #assumes default as nm for wavelength"
   ]
  },
  {
   "cell_type": "markdown",
   "metadata": {},
   "source": [
    "#### both are passed"
   ]
  },
  {
   "cell_type": "code",
   "execution_count": 10,
   "metadata": {},
   "outputs": [
    {
     "ename": "ValueError",
     "evalue": "Cannot pass more than one set of values as input",
     "output_type": "error",
     "traceback": [
      "\u001b[0;31m---------------------------------------------------------------------------\u001b[0m",
      "\u001b[0;31mValueError\u001b[0m                                Traceback (most recent call last)",
      "\u001b[0;32m<ipython-input-10-cb8a241fa379>\u001b[0m in \u001b[0;36m<module>\u001b[0;34m\u001b[0m\n\u001b[1;32m      1\u001b[0m get_waverange(wavenum_min=1000, wavenum_max=2000,\n\u001b[0;32m----> 2\u001b[0;31m             wavelength_min=1, wavelength_max=2, medium=\"vacuum\")\n\u001b[0m",
      "\u001b[0;32m<ipython-input-7-c7feddd5c68b>\u001b[0m in \u001b[0;36mget_waverange\u001b[0;34m(wmin, wmax, wunit, wavenum_min, wavenum_max, wavelength_min, wavelength_max, medium)\u001b[0m\n\u001b[1;32m     98\u001b[0m     \u001b[0mwavelength_present\u001b[0m \u001b[0;34m=\u001b[0m \u001b[0mwavelength_min\u001b[0m \u001b[0;32mis\u001b[0m \u001b[0;32mnot\u001b[0m \u001b[0;32mNone\u001b[0m \u001b[0;32mor\u001b[0m \u001b[0mwavelength_max\u001b[0m \u001b[0;32mis\u001b[0m \u001b[0;32mnot\u001b[0m \u001b[0;32mNone\u001b[0m\u001b[0;34m\u001b[0m\u001b[0;34m\u001b[0m\u001b[0m\n\u001b[1;32m     99\u001b[0m     \u001b[0;32mif\u001b[0m \u001b[0mw_present\u001b[0m \u001b[0;34m+\u001b[0m \u001b[0mwavenum_present\u001b[0m \u001b[0;34m+\u001b[0m \u001b[0mwavelength_present\u001b[0m \u001b[0;34m>=\u001b[0m \u001b[0;36m2\u001b[0m\u001b[0;34m:\u001b[0m\u001b[0;34m\u001b[0m\u001b[0;34m\u001b[0m\u001b[0m\n\u001b[0;32m--> 100\u001b[0;31m         \u001b[0;32mraise\u001b[0m \u001b[0mValueError\u001b[0m\u001b[0;34m(\u001b[0m\u001b[0;34m\"Cannot pass more than one set of values as input\"\u001b[0m\u001b[0;34m)\u001b[0m\u001b[0;34m\u001b[0m\u001b[0;34m\u001b[0m\u001b[0m\n\u001b[0m\u001b[1;32m    101\u001b[0m     \u001b[0;32massert\u001b[0m \u001b[0mmedium\u001b[0m \u001b[0;32min\u001b[0m \u001b[0;34m[\u001b[0m\u001b[0;34m\"air\"\u001b[0m\u001b[0;34m,\u001b[0m \u001b[0;34m\"vacuum\"\u001b[0m\u001b[0;34m]\u001b[0m\u001b[0;34m\u001b[0m\u001b[0;34m\u001b[0m\u001b[0m\n\u001b[1;32m    102\u001b[0m \u001b[0;34m\u001b[0m\u001b[0m\n",
      "\u001b[0;31mValueError\u001b[0m: Cannot pass more than one set of values as input"
     ]
    }
   ],
   "source": [
    "get_waverange(wavenum_min=1000, wavenum_max=2000,\n",
    "            wavelength_min=1, wavelength_max=2, medium=\"vacuum\")"
   ]
  },
  {
   "cell_type": "markdown",
   "metadata": {},
   "source": [
    "#### none are passed"
   ]
  },
  {
   "cell_type": "code",
   "execution_count": 11,
   "metadata": {},
   "outputs": [
    {
     "ename": "ValueError",
     "evalue": "Give wavenumber or wavelength",
     "output_type": "error",
     "traceback": [
      "\u001b[0;31m---------------------------------------------------------------------------\u001b[0m",
      "\u001b[0;31mValueError\u001b[0m                                Traceback (most recent call last)",
      "\u001b[0;32m<ipython-input-11-7147e2944cd2>\u001b[0m in \u001b[0;36m<module>\u001b[0;34m\u001b[0m\n\u001b[0;32m----> 1\u001b[0;31m \u001b[0mget_waverange\u001b[0m\u001b[0;34m(\u001b[0m\u001b[0;34m)\u001b[0m\u001b[0;34m\u001b[0m\u001b[0;34m\u001b[0m\u001b[0m\n\u001b[0m",
      "\u001b[0;32m<ipython-input-7-c7feddd5c68b>\u001b[0m in \u001b[0;36mget_waverange\u001b[0;34m(wmin, wmax, wunit, wavenum_min, wavenum_max, wavelength_min, wavelength_max, medium)\u001b[0m\n\u001b[1;32m     91\u001b[0m         \u001b[0;32mand\u001b[0m \u001b[0mwavenum_max\u001b[0m \u001b[0;32mis\u001b[0m \u001b[0;32mNone\u001b[0m\u001b[0;34m\u001b[0m\u001b[0;34m\u001b[0m\u001b[0m\n\u001b[1;32m     92\u001b[0m     ):\n\u001b[0;32m---> 93\u001b[0;31m         \u001b[0;32mraise\u001b[0m \u001b[0mValueError\u001b[0m\u001b[0;34m(\u001b[0m\u001b[0;34m\"Give wavenumber or wavelength\"\u001b[0m\u001b[0;34m)\u001b[0m\u001b[0;34m\u001b[0m\u001b[0;34m\u001b[0m\u001b[0m\n\u001b[0m\u001b[1;32m     94\u001b[0m \u001b[0;34m\u001b[0m\u001b[0m\n\u001b[1;32m     95\u001b[0m     \u001b[0;31m# check if only one pair of values has been passed\u001b[0m\u001b[0;34m\u001b[0m\u001b[0;34m\u001b[0m\u001b[0;34m\u001b[0m\u001b[0m\n",
      "\u001b[0;31mValueError\u001b[0m: Give wavenumber or wavelength"
     ]
    }
   ],
   "source": [
    "get_waverange()"
   ]
  },
  {
   "cell_type": "markdown",
   "metadata": {},
   "source": [
    "### wmin/wmax is value only"
   ]
  },
  {
   "cell_type": "markdown",
   "metadata": {},
   "source": [
    "#### wavenumber is passed"
   ]
  },
  {
   "cell_type": "code",
   "execution_count": 12,
   "metadata": {},
   "outputs": [
    {
     "ename": "ValueError",
     "evalue": "Cannot pass more than one set of values as input",
     "output_type": "error",
     "traceback": [
      "\u001b[0;31m---------------------------------------------------------------------------\u001b[0m",
      "\u001b[0;31mValueError\u001b[0m                                Traceback (most recent call last)",
      "\u001b[0;32m<ipython-input-12-c4311350ac32>\u001b[0m in \u001b[0;36m<module>\u001b[0;34m\u001b[0m\n\u001b[0;32m----> 1\u001b[0;31m \u001b[0mget_waverange\u001b[0m\u001b[0;34m(\u001b[0m\u001b[0mwavenum_min\u001b[0m\u001b[0;34m=\u001b[0m\u001b[0;36m1\u001b[0m\u001b[0;34m,\u001b[0m \u001b[0mwavenum_max\u001b[0m\u001b[0;34m=\u001b[0m\u001b[0;36m2\u001b[0m\u001b[0;34m,\u001b[0m \u001b[0mwmin\u001b[0m \u001b[0;34m=\u001b[0m \u001b[0;36m10\u001b[0m\u001b[0;34m,\u001b[0m \u001b[0mwmax\u001b[0m \u001b[0;34m=\u001b[0m \u001b[0;36m20\u001b[0m\u001b[0;34m)\u001b[0m\u001b[0;34m\u001b[0m\u001b[0;34m\u001b[0m\u001b[0m\n\u001b[0m",
      "\u001b[0;32m<ipython-input-7-c7feddd5c68b>\u001b[0m in \u001b[0;36mget_waverange\u001b[0;34m(wmin, wmax, wunit, wavenum_min, wavenum_max, wavelength_min, wavelength_max, medium)\u001b[0m\n\u001b[1;32m     98\u001b[0m     \u001b[0mwavelength_present\u001b[0m \u001b[0;34m=\u001b[0m \u001b[0mwavelength_min\u001b[0m \u001b[0;32mis\u001b[0m \u001b[0;32mnot\u001b[0m \u001b[0;32mNone\u001b[0m \u001b[0;32mor\u001b[0m \u001b[0mwavelength_max\u001b[0m \u001b[0;32mis\u001b[0m \u001b[0;32mnot\u001b[0m \u001b[0;32mNone\u001b[0m\u001b[0;34m\u001b[0m\u001b[0;34m\u001b[0m\u001b[0m\n\u001b[1;32m     99\u001b[0m     \u001b[0;32mif\u001b[0m \u001b[0mw_present\u001b[0m \u001b[0;34m+\u001b[0m \u001b[0mwavenum_present\u001b[0m \u001b[0;34m+\u001b[0m \u001b[0mwavelength_present\u001b[0m \u001b[0;34m>=\u001b[0m \u001b[0;36m2\u001b[0m\u001b[0;34m:\u001b[0m\u001b[0;34m\u001b[0m\u001b[0;34m\u001b[0m\u001b[0m\n\u001b[0;32m--> 100\u001b[0;31m         \u001b[0;32mraise\u001b[0m \u001b[0mValueError\u001b[0m\u001b[0;34m(\u001b[0m\u001b[0;34m\"Cannot pass more than one set of values as input\"\u001b[0m\u001b[0;34m)\u001b[0m\u001b[0;34m\u001b[0m\u001b[0;34m\u001b[0m\u001b[0m\n\u001b[0m\u001b[1;32m    101\u001b[0m     \u001b[0;32massert\u001b[0m \u001b[0mmedium\u001b[0m \u001b[0;32min\u001b[0m \u001b[0;34m[\u001b[0m\u001b[0;34m\"air\"\u001b[0m\u001b[0;34m,\u001b[0m \u001b[0;34m\"vacuum\"\u001b[0m\u001b[0;34m]\u001b[0m\u001b[0;34m\u001b[0m\u001b[0;34m\u001b[0m\u001b[0m\n\u001b[1;32m    102\u001b[0m \u001b[0;34m\u001b[0m\u001b[0m\n",
      "\u001b[0;31mValueError\u001b[0m: Cannot pass more than one set of values as input"
     ]
    }
   ],
   "source": [
    "get_waverange(wavenum_min=1, wavenum_max=2, wmin = 10, wmax = 20)"
   ]
  },
  {
   "cell_type": "markdown",
   "metadata": {},
   "source": [
    "#### wavelength is passed"
   ]
  },
  {
   "cell_type": "code",
   "execution_count": 13,
   "metadata": {},
   "outputs": [
    {
     "ename": "ValueError",
     "evalue": "Cannot pass more than one set of values as input",
     "output_type": "error",
     "traceback": [
      "\u001b[0;31m---------------------------------------------------------------------------\u001b[0m",
      "\u001b[0;31mValueError\u001b[0m                                Traceback (most recent call last)",
      "\u001b[0;32m<ipython-input-13-0414a9817458>\u001b[0m in \u001b[0;36m<module>\u001b[0;34m\u001b[0m\n\u001b[0;32m----> 1\u001b[0;31m \u001b[0mget_waverange\u001b[0m\u001b[0;34m(\u001b[0m\u001b[0mwmin\u001b[0m \u001b[0;34m=\u001b[0m \u001b[0;36m10\u001b[0m\u001b[0;34m,\u001b[0m \u001b[0mwmax\u001b[0m \u001b[0;34m=\u001b[0m \u001b[0;36m20\u001b[0m\u001b[0;34m,\u001b[0m \u001b[0mwavelength_min\u001b[0m\u001b[0;34m=\u001b[0m\u001b[0;36m1\u001b[0m\u001b[0;34m,\u001b[0m \u001b[0mwavelength_max\u001b[0m\u001b[0;34m=\u001b[0m\u001b[0;36m2\u001b[0m\u001b[0;34m)\u001b[0m\u001b[0;34m\u001b[0m\u001b[0;34m\u001b[0m\u001b[0m\n\u001b[0m",
      "\u001b[0;32m<ipython-input-7-c7feddd5c68b>\u001b[0m in \u001b[0;36mget_waverange\u001b[0;34m(wmin, wmax, wunit, wavenum_min, wavenum_max, wavelength_min, wavelength_max, medium)\u001b[0m\n\u001b[1;32m     98\u001b[0m     \u001b[0mwavelength_present\u001b[0m \u001b[0;34m=\u001b[0m \u001b[0mwavelength_min\u001b[0m \u001b[0;32mis\u001b[0m \u001b[0;32mnot\u001b[0m \u001b[0;32mNone\u001b[0m \u001b[0;32mor\u001b[0m \u001b[0mwavelength_max\u001b[0m \u001b[0;32mis\u001b[0m \u001b[0;32mnot\u001b[0m \u001b[0;32mNone\u001b[0m\u001b[0;34m\u001b[0m\u001b[0;34m\u001b[0m\u001b[0m\n\u001b[1;32m     99\u001b[0m     \u001b[0;32mif\u001b[0m \u001b[0mw_present\u001b[0m \u001b[0;34m+\u001b[0m \u001b[0mwavenum_present\u001b[0m \u001b[0;34m+\u001b[0m \u001b[0mwavelength_present\u001b[0m \u001b[0;34m>=\u001b[0m \u001b[0;36m2\u001b[0m\u001b[0;34m:\u001b[0m\u001b[0;34m\u001b[0m\u001b[0;34m\u001b[0m\u001b[0m\n\u001b[0;32m--> 100\u001b[0;31m         \u001b[0;32mraise\u001b[0m \u001b[0mValueError\u001b[0m\u001b[0;34m(\u001b[0m\u001b[0;34m\"Cannot pass more than one set of values as input\"\u001b[0m\u001b[0;34m)\u001b[0m\u001b[0;34m\u001b[0m\u001b[0;34m\u001b[0m\u001b[0m\n\u001b[0m\u001b[1;32m    101\u001b[0m     \u001b[0;32massert\u001b[0m \u001b[0mmedium\u001b[0m \u001b[0;32min\u001b[0m \u001b[0;34m[\u001b[0m\u001b[0;34m\"air\"\u001b[0m\u001b[0;34m,\u001b[0m \u001b[0;34m\"vacuum\"\u001b[0m\u001b[0;34m]\u001b[0m\u001b[0;34m\u001b[0m\u001b[0;34m\u001b[0m\u001b[0m\n\u001b[1;32m    102\u001b[0m \u001b[0;34m\u001b[0m\u001b[0m\n",
      "\u001b[0;31mValueError\u001b[0m: Cannot pass more than one set of values as input"
     ]
    }
   ],
   "source": [
    "get_waverange(wmin = 10, wmax = 20, wavelength_min=1, wavelength_max=2)"
   ]
  },
  {
   "cell_type": "markdown",
   "metadata": {},
   "source": [
    "#### both are passed"
   ]
  },
  {
   "cell_type": "code",
   "execution_count": 14,
   "metadata": {},
   "outputs": [
    {
     "ename": "ValueError",
     "evalue": "Cannot pass more than one set of values as input",
     "output_type": "error",
     "traceback": [
      "\u001b[0;31m---------------------------------------------------------------------------\u001b[0m",
      "\u001b[0;31mValueError\u001b[0m                                Traceback (most recent call last)",
      "\u001b[0;32m<ipython-input-14-c72cce2c4fd9>\u001b[0m in \u001b[0;36m<module>\u001b[0;34m\u001b[0m\n\u001b[1;32m      1\u001b[0m get_waverange(wmin=1, wmax =2, wavenum_min=10, wavenum_max=20,\n\u001b[0;32m----> 2\u001b[0;31m               wavelength_min = 100, wavelength_max=200)\n\u001b[0m",
      "\u001b[0;32m<ipython-input-7-c7feddd5c68b>\u001b[0m in \u001b[0;36mget_waverange\u001b[0;34m(wmin, wmax, wunit, wavenum_min, wavenum_max, wavelength_min, wavelength_max, medium)\u001b[0m\n\u001b[1;32m     98\u001b[0m     \u001b[0mwavelength_present\u001b[0m \u001b[0;34m=\u001b[0m \u001b[0mwavelength_min\u001b[0m \u001b[0;32mis\u001b[0m \u001b[0;32mnot\u001b[0m \u001b[0;32mNone\u001b[0m \u001b[0;32mor\u001b[0m \u001b[0mwavelength_max\u001b[0m \u001b[0;32mis\u001b[0m \u001b[0;32mnot\u001b[0m \u001b[0;32mNone\u001b[0m\u001b[0;34m\u001b[0m\u001b[0;34m\u001b[0m\u001b[0m\n\u001b[1;32m     99\u001b[0m     \u001b[0;32mif\u001b[0m \u001b[0mw_present\u001b[0m \u001b[0;34m+\u001b[0m \u001b[0mwavenum_present\u001b[0m \u001b[0;34m+\u001b[0m \u001b[0mwavelength_present\u001b[0m \u001b[0;34m>=\u001b[0m \u001b[0;36m2\u001b[0m\u001b[0;34m:\u001b[0m\u001b[0;34m\u001b[0m\u001b[0;34m\u001b[0m\u001b[0m\n\u001b[0;32m--> 100\u001b[0;31m         \u001b[0;32mraise\u001b[0m \u001b[0mValueError\u001b[0m\u001b[0;34m(\u001b[0m\u001b[0;34m\"Cannot pass more than one set of values as input\"\u001b[0m\u001b[0;34m)\u001b[0m\u001b[0;34m\u001b[0m\u001b[0;34m\u001b[0m\u001b[0m\n\u001b[0m\u001b[1;32m    101\u001b[0m     \u001b[0;32massert\u001b[0m \u001b[0mmedium\u001b[0m \u001b[0;32min\u001b[0m \u001b[0;34m[\u001b[0m\u001b[0;34m\"air\"\u001b[0m\u001b[0;34m,\u001b[0m \u001b[0;34m\"vacuum\"\u001b[0m\u001b[0;34m]\u001b[0m\u001b[0;34m\u001b[0m\u001b[0;34m\u001b[0m\u001b[0m\n\u001b[1;32m    102\u001b[0m \u001b[0;34m\u001b[0m\u001b[0m\n",
      "\u001b[0;31mValueError\u001b[0m: Cannot pass more than one set of values as input"
     ]
    }
   ],
   "source": [
    "get_waverange(wmin=1, wmax =2, wavenum_min=10, wavenum_max=20,\n",
    "              wavelength_min = 100, wavelength_max=200)"
   ]
  },
  {
   "cell_type": "markdown",
   "metadata": {},
   "source": [
    "#### none are passed"
   ]
  },
  {
   "cell_type": "code",
   "execution_count": 15,
   "metadata": {},
   "outputs": [
    {
     "data": {
      "text/plain": [
       "(10.0, 20.0)"
      ]
     },
     "execution_count": 15,
     "metadata": {},
     "output_type": "execute_result"
    }
   ],
   "source": [
    "get_waverange(wmin=10, wmax=20)"
   ]
  },
  {
   "cell_type": "markdown",
   "metadata": {},
   "source": [
    "### wmin/wmax is value and unit"
   ]
  },
  {
   "cell_type": "markdown",
   "metadata": {},
   "source": [
    "#### wavenumber is passed"
   ]
  },
  {
   "cell_type": "code",
   "execution_count": 16,
   "metadata": {},
   "outputs": [
    {
     "ename": "ValueError",
     "evalue": "Cannot pass more than one set of values as input",
     "output_type": "error",
     "traceback": [
      "\u001b[0;31m---------------------------------------------------------------------------\u001b[0m",
      "\u001b[0;31mValueError\u001b[0m                                Traceback (most recent call last)",
      "\u001b[0;32m<ipython-input-16-0400ed018468>\u001b[0m in \u001b[0;36m<module>\u001b[0;34m\u001b[0m\n\u001b[0;32m----> 1\u001b[0;31m \u001b[0mget_waverange\u001b[0m\u001b[0;34m(\u001b[0m\u001b[0mwavenum_min\u001b[0m \u001b[0;34m=\u001b[0m \u001b[0;36m10\u001b[0m\u001b[0;34m,\u001b[0m \u001b[0mwavenum_max\u001b[0m \u001b[0;34m=\u001b[0m \u001b[0;36m20\u001b[0m\u001b[0;34m,\u001b[0m \u001b[0mwmin\u001b[0m \u001b[0;34m=\u001b[0m \u001b[0;36m100\u001b[0m \u001b[0;34m*\u001b[0m \u001b[0;34m(\u001b[0m\u001b[0;36m1\u001b[0m\u001b[0;34m/\u001b[0m\u001b[0mu\u001b[0m\u001b[0;34m.\u001b[0m\u001b[0mcm\u001b[0m\u001b[0;34m)\u001b[0m\u001b[0;34m,\u001b[0m \u001b[0mwmax\u001b[0m \u001b[0;34m=\u001b[0m \u001b[0;36m200\u001b[0m \u001b[0;34m*\u001b[0m \u001b[0;34m(\u001b[0m\u001b[0;36m1\u001b[0m\u001b[0;34m/\u001b[0m\u001b[0mu\u001b[0m\u001b[0;34m.\u001b[0m\u001b[0mcm\u001b[0m\u001b[0;34m)\u001b[0m\u001b[0;34m)\u001b[0m\u001b[0;34m\u001b[0m\u001b[0;34m\u001b[0m\u001b[0m\n\u001b[0m",
      "\u001b[0;32m<ipython-input-7-c7feddd5c68b>\u001b[0m in \u001b[0;36mget_waverange\u001b[0;34m(wmin, wmax, wunit, wavenum_min, wavenum_max, wavelength_min, wavelength_max, medium)\u001b[0m\n\u001b[1;32m     98\u001b[0m     \u001b[0mwavelength_present\u001b[0m \u001b[0;34m=\u001b[0m \u001b[0mwavelength_min\u001b[0m \u001b[0;32mis\u001b[0m \u001b[0;32mnot\u001b[0m \u001b[0;32mNone\u001b[0m \u001b[0;32mor\u001b[0m \u001b[0mwavelength_max\u001b[0m \u001b[0;32mis\u001b[0m \u001b[0;32mnot\u001b[0m \u001b[0;32mNone\u001b[0m\u001b[0;34m\u001b[0m\u001b[0;34m\u001b[0m\u001b[0m\n\u001b[1;32m     99\u001b[0m     \u001b[0;32mif\u001b[0m \u001b[0mw_present\u001b[0m \u001b[0;34m+\u001b[0m \u001b[0mwavenum_present\u001b[0m \u001b[0;34m+\u001b[0m \u001b[0mwavelength_present\u001b[0m \u001b[0;34m>=\u001b[0m \u001b[0;36m2\u001b[0m\u001b[0;34m:\u001b[0m\u001b[0;34m\u001b[0m\u001b[0;34m\u001b[0m\u001b[0m\n\u001b[0;32m--> 100\u001b[0;31m         \u001b[0;32mraise\u001b[0m \u001b[0mValueError\u001b[0m\u001b[0;34m(\u001b[0m\u001b[0;34m\"Cannot pass more than one set of values as input\"\u001b[0m\u001b[0;34m)\u001b[0m\u001b[0;34m\u001b[0m\u001b[0;34m\u001b[0m\u001b[0m\n\u001b[0m\u001b[1;32m    101\u001b[0m     \u001b[0;32massert\u001b[0m \u001b[0mmedium\u001b[0m \u001b[0;32min\u001b[0m \u001b[0;34m[\u001b[0m\u001b[0;34m\"air\"\u001b[0m\u001b[0;34m,\u001b[0m \u001b[0;34m\"vacuum\"\u001b[0m\u001b[0;34m]\u001b[0m\u001b[0;34m\u001b[0m\u001b[0;34m\u001b[0m\u001b[0m\n\u001b[1;32m    102\u001b[0m \u001b[0;34m\u001b[0m\u001b[0m\n",
      "\u001b[0;31mValueError\u001b[0m: Cannot pass more than one set of values as input"
     ]
    }
   ],
   "source": [
    "get_waverange(wavenum_min = 10, wavenum_max = 20, wmin = 100 * (1/u.cm), wmax = 200 * (1/u.cm))"
   ]
  },
  {
   "cell_type": "markdown",
   "metadata": {},
   "source": [
    "#### wavelength is passed"
   ]
  },
  {
   "cell_type": "code",
   "execution_count": 17,
   "metadata": {},
   "outputs": [
    {
     "ename": "ValueError",
     "evalue": "Cannot pass more than one set of values as input",
     "output_type": "error",
     "traceback": [
      "\u001b[0;31m---------------------------------------------------------------------------\u001b[0m",
      "\u001b[0;31mValueError\u001b[0m                                Traceback (most recent call last)",
      "\u001b[0;32m<ipython-input-17-b1b7300a4464>\u001b[0m in \u001b[0;36m<module>\u001b[0;34m\u001b[0m\n\u001b[1;32m      1\u001b[0m get_waverange(wmin = 100 * (1/u.cm), wmax = 200 * (1/u.cm),\n\u001b[0;32m----> 2\u001b[0;31m              wavelength_min = 10, wavelength_max = 20)\n\u001b[0m",
      "\u001b[0;32m<ipython-input-7-c7feddd5c68b>\u001b[0m in \u001b[0;36mget_waverange\u001b[0;34m(wmin, wmax, wunit, wavenum_min, wavenum_max, wavelength_min, wavelength_max, medium)\u001b[0m\n\u001b[1;32m     98\u001b[0m     \u001b[0mwavelength_present\u001b[0m \u001b[0;34m=\u001b[0m \u001b[0mwavelength_min\u001b[0m \u001b[0;32mis\u001b[0m \u001b[0;32mnot\u001b[0m \u001b[0;32mNone\u001b[0m \u001b[0;32mor\u001b[0m \u001b[0mwavelength_max\u001b[0m \u001b[0;32mis\u001b[0m \u001b[0;32mnot\u001b[0m \u001b[0;32mNone\u001b[0m\u001b[0;34m\u001b[0m\u001b[0;34m\u001b[0m\u001b[0m\n\u001b[1;32m     99\u001b[0m     \u001b[0;32mif\u001b[0m \u001b[0mw_present\u001b[0m \u001b[0;34m+\u001b[0m \u001b[0mwavenum_present\u001b[0m \u001b[0;34m+\u001b[0m \u001b[0mwavelength_present\u001b[0m \u001b[0;34m>=\u001b[0m \u001b[0;36m2\u001b[0m\u001b[0;34m:\u001b[0m\u001b[0;34m\u001b[0m\u001b[0;34m\u001b[0m\u001b[0m\n\u001b[0;32m--> 100\u001b[0;31m         \u001b[0;32mraise\u001b[0m \u001b[0mValueError\u001b[0m\u001b[0;34m(\u001b[0m\u001b[0;34m\"Cannot pass more than one set of values as input\"\u001b[0m\u001b[0;34m)\u001b[0m\u001b[0;34m\u001b[0m\u001b[0;34m\u001b[0m\u001b[0m\n\u001b[0m\u001b[1;32m    101\u001b[0m     \u001b[0;32massert\u001b[0m \u001b[0mmedium\u001b[0m \u001b[0;32min\u001b[0m \u001b[0;34m[\u001b[0m\u001b[0;34m\"air\"\u001b[0m\u001b[0;34m,\u001b[0m \u001b[0;34m\"vacuum\"\u001b[0m\u001b[0;34m]\u001b[0m\u001b[0;34m\u001b[0m\u001b[0;34m\u001b[0m\u001b[0m\n\u001b[1;32m    102\u001b[0m \u001b[0;34m\u001b[0m\u001b[0m\n",
      "\u001b[0;31mValueError\u001b[0m: Cannot pass more than one set of values as input"
     ]
    }
   ],
   "source": [
    "get_waverange(wmin = 100 * (1/u.cm), wmax = 200 * (1/u.cm),\n",
    "             wavelength_min = 10, wavelength_max = 20)"
   ]
  },
  {
   "cell_type": "markdown",
   "metadata": {},
   "source": [
    "#### both are passed"
   ]
  },
  {
   "cell_type": "code",
   "execution_count": 18,
   "metadata": {},
   "outputs": [
    {
     "ename": "ValueError",
     "evalue": "Cannot pass more than one set of values as input",
     "output_type": "error",
     "traceback": [
      "\u001b[0;31m---------------------------------------------------------------------------\u001b[0m",
      "\u001b[0;31mValueError\u001b[0m                                Traceback (most recent call last)",
      "\u001b[0;32m<ipython-input-18-fb78e13be0b2>\u001b[0m in \u001b[0;36m<module>\u001b[0;34m\u001b[0m\n\u001b[1;32m      1\u001b[0m get_waverange(wavenum_min = 10, wavenum_max = 20,\n\u001b[1;32m      2\u001b[0m               \u001b[0mwmin\u001b[0m \u001b[0;34m=\u001b[0m \u001b[0;36m100\u001b[0m \u001b[0;34m*\u001b[0m \u001b[0;34m(\u001b[0m\u001b[0;36m1\u001b[0m\u001b[0;34m/\u001b[0m\u001b[0mu\u001b[0m\u001b[0;34m.\u001b[0m\u001b[0mcm\u001b[0m\u001b[0;34m)\u001b[0m\u001b[0;34m,\u001b[0m \u001b[0mwmax\u001b[0m \u001b[0;34m=\u001b[0m \u001b[0;36m200\u001b[0m \u001b[0;34m*\u001b[0m \u001b[0;34m(\u001b[0m\u001b[0;36m1\u001b[0m\u001b[0;34m/\u001b[0m\u001b[0mu\u001b[0m\u001b[0;34m.\u001b[0m\u001b[0mcm\u001b[0m\u001b[0;34m)\u001b[0m\u001b[0;34m,\u001b[0m\u001b[0;34m\u001b[0m\u001b[0;34m\u001b[0m\u001b[0m\n\u001b[0;32m----> 3\u001b[0;31m              wavelength_min = 10, wavelength_max = 20)\n\u001b[0m",
      "\u001b[0;32m<ipython-input-7-c7feddd5c68b>\u001b[0m in \u001b[0;36mget_waverange\u001b[0;34m(wmin, wmax, wunit, wavenum_min, wavenum_max, wavelength_min, wavelength_max, medium)\u001b[0m\n\u001b[1;32m     98\u001b[0m     \u001b[0mwavelength_present\u001b[0m \u001b[0;34m=\u001b[0m \u001b[0mwavelength_min\u001b[0m \u001b[0;32mis\u001b[0m \u001b[0;32mnot\u001b[0m \u001b[0;32mNone\u001b[0m \u001b[0;32mor\u001b[0m \u001b[0mwavelength_max\u001b[0m \u001b[0;32mis\u001b[0m \u001b[0;32mnot\u001b[0m \u001b[0;32mNone\u001b[0m\u001b[0;34m\u001b[0m\u001b[0;34m\u001b[0m\u001b[0m\n\u001b[1;32m     99\u001b[0m     \u001b[0;32mif\u001b[0m \u001b[0mw_present\u001b[0m \u001b[0;34m+\u001b[0m \u001b[0mwavenum_present\u001b[0m \u001b[0;34m+\u001b[0m \u001b[0mwavelength_present\u001b[0m \u001b[0;34m>=\u001b[0m \u001b[0;36m2\u001b[0m\u001b[0;34m:\u001b[0m\u001b[0;34m\u001b[0m\u001b[0;34m\u001b[0m\u001b[0m\n\u001b[0;32m--> 100\u001b[0;31m         \u001b[0;32mraise\u001b[0m \u001b[0mValueError\u001b[0m\u001b[0;34m(\u001b[0m\u001b[0;34m\"Cannot pass more than one set of values as input\"\u001b[0m\u001b[0;34m)\u001b[0m\u001b[0;34m\u001b[0m\u001b[0;34m\u001b[0m\u001b[0m\n\u001b[0m\u001b[1;32m    101\u001b[0m     \u001b[0;32massert\u001b[0m \u001b[0mmedium\u001b[0m \u001b[0;32min\u001b[0m \u001b[0;34m[\u001b[0m\u001b[0;34m\"air\"\u001b[0m\u001b[0;34m,\u001b[0m \u001b[0;34m\"vacuum\"\u001b[0m\u001b[0;34m]\u001b[0m\u001b[0;34m\u001b[0m\u001b[0;34m\u001b[0m\u001b[0m\n\u001b[1;32m    102\u001b[0m \u001b[0;34m\u001b[0m\u001b[0m\n",
      "\u001b[0;31mValueError\u001b[0m: Cannot pass more than one set of values as input"
     ]
    }
   ],
   "source": [
    "get_waverange(wavenum_min = 10, wavenum_max = 20,\n",
    "              wmin = 100 * (1/u.cm), wmax = 200 * (1/u.cm),\n",
    "             wavelength_min = 10, wavelength_max = 20)"
   ]
  },
  {
   "cell_type": "markdown",
   "metadata": {},
   "source": [
    "#### none are passed"
   ]
  },
  {
   "cell_type": "code",
   "execution_count": 19,
   "metadata": {},
   "outputs": [
    {
     "data": {
      "text/plain": [
       "(100.0, 200.0)"
      ]
     },
     "execution_count": 19,
     "metadata": {},
     "output_type": "execute_result"
    }
   ],
   "source": [
    "get_waverange(wmin = 100 * (1/u.cm), wmax = 200 * (1/u.cm))"
   ]
  },
  {
   "cell_type": "code",
   "execution_count": 20,
   "metadata": {},
   "outputs": [
    {
     "data": {
      "text/plain": [
       "(2.0, 1.0)"
      ]
     },
     "execution_count": 20,
     "metadata": {},
     "output_type": "execute_result"
    }
   ],
   "source": [
    "get_waverange(wmin = 1 * u.cm, wmax = 2 * u.cm, medium = \"vacuum\")"
   ]
  },
  {
   "cell_type": "code",
   "execution_count": null,
   "metadata": {},
   "outputs": [],
   "source": [
    "get_waverange2(wavelength_min = 1*u.cm, wavelength_max=2*u.cm, medium=\"vacuum\")"
   ]
  },
  {
   "cell_type": "markdown",
   "metadata": {},
   "source": [
    "## WUNIT is NOT None"
   ]
  },
  {
   "cell_type": "markdown",
   "metadata": {},
   "source": [
    "### wmin wmax is none"
   ]
  },
  {
   "cell_type": "markdown",
   "metadata": {},
   "source": [
    "#### wavenumber is passed"
   ]
  },
  {
   "cell_type": "code",
   "execution_count": 21,
   "metadata": {},
   "outputs": [
    {
     "ename": "ValueError",
     "evalue": "Please enter value of wmin and wmax when passing wunit",
     "output_type": "error",
     "traceback": [
      "\u001b[0;31m---------------------------------------------------------------------------\u001b[0m",
      "\u001b[0;31mValueError\u001b[0m                                Traceback (most recent call last)",
      "\u001b[0;32m<ipython-input-21-bb145af1fe29>\u001b[0m in \u001b[0;36m<module>\u001b[0;34m\u001b[0m\n\u001b[0;32m----> 1\u001b[0;31m \u001b[0mget_waverange\u001b[0m\u001b[0;34m(\u001b[0m\u001b[0mwavenum_min\u001b[0m \u001b[0;34m=\u001b[0m \u001b[0;36m1\u001b[0m\u001b[0;34m,\u001b[0m \u001b[0mwavenum_max\u001b[0m \u001b[0;34m=\u001b[0m \u001b[0;36m2\u001b[0m \u001b[0;34m,\u001b[0m \u001b[0mwunit\u001b[0m\u001b[0;34m=\u001b[0m\u001b[0;34m\"cm\"\u001b[0m\u001b[0;34m)\u001b[0m\u001b[0;34m\u001b[0m\u001b[0;34m\u001b[0m\u001b[0m\n\u001b[0m",
      "\u001b[0;32m<ipython-input-7-c7feddd5c68b>\u001b[0m in \u001b[0;36mget_waverange\u001b[0;34m(wmin, wmax, wunit, wavenum_min, wavenum_max, wavelength_min, wavelength_max, medium)\u001b[0m\n\u001b[1;32m     42\u001b[0m         \u001b[0;31m# user did not pass wmin/wmax\u001b[0m\u001b[0;34m\u001b[0m\u001b[0;34m\u001b[0m\u001b[0;34m\u001b[0m\u001b[0m\n\u001b[1;32m     43\u001b[0m         \u001b[0;32mif\u001b[0m \u001b[0mwmin\u001b[0m \u001b[0;32mis\u001b[0m \u001b[0;32mNone\u001b[0m \u001b[0;32mor\u001b[0m \u001b[0mwmax\u001b[0m \u001b[0;32mis\u001b[0m \u001b[0;32mNone\u001b[0m\u001b[0;34m:\u001b[0m\u001b[0;34m\u001b[0m\u001b[0;34m\u001b[0m\u001b[0m\n\u001b[0;32m---> 44\u001b[0;31m             \u001b[0;32mraise\u001b[0m \u001b[0mValueError\u001b[0m\u001b[0;34m(\u001b[0m\u001b[0;34m\"Please enter value of wmin and wmax when passing wunit\"\u001b[0m\u001b[0;34m)\u001b[0m\u001b[0;34m\u001b[0m\u001b[0;34m\u001b[0m\u001b[0m\n\u001b[0m\u001b[1;32m     45\u001b[0m         \u001b[0;31m# user passes wmin/wmax along with wunit\u001b[0m\u001b[0;34m\u001b[0m\u001b[0;34m\u001b[0m\u001b[0;34m\u001b[0m\u001b[0m\n\u001b[1;32m     46\u001b[0m         \u001b[0;32melse\u001b[0m\u001b[0;34m:\u001b[0m\u001b[0;34m\u001b[0m\u001b[0;34m\u001b[0m\u001b[0m\n",
      "\u001b[0;31mValueError\u001b[0m: Please enter value of wmin and wmax when passing wunit"
     ]
    }
   ],
   "source": [
    "get_waverange(wavenum_min = 1, wavenum_max = 2 , wunit=\"cm\")"
   ]
  },
  {
   "cell_type": "markdown",
   "metadata": {},
   "source": [
    "#### wavelength is passed"
   ]
  },
  {
   "cell_type": "code",
   "execution_count": 22,
   "metadata": {},
   "outputs": [
    {
     "ename": "ValueError",
     "evalue": "Please enter value of wmin and wmax when passing wunit",
     "output_type": "error",
     "traceback": [
      "\u001b[0;31m---------------------------------------------------------------------------\u001b[0m",
      "\u001b[0;31mValueError\u001b[0m                                Traceback (most recent call last)",
      "\u001b[0;32m<ipython-input-22-ffba0890ac38>\u001b[0m in \u001b[0;36m<module>\u001b[0;34m\u001b[0m\n\u001b[0;32m----> 1\u001b[0;31m \u001b[0mget_waverange\u001b[0m\u001b[0;34m(\u001b[0m\u001b[0mwavelength_min\u001b[0m \u001b[0;34m=\u001b[0m \u001b[0;36m1\u001b[0m\u001b[0;34m,\u001b[0m \u001b[0mwavelength_max\u001b[0m \u001b[0;34m=\u001b[0m \u001b[0;36m2\u001b[0m \u001b[0;34m,\u001b[0m \u001b[0mwunit\u001b[0m\u001b[0;34m=\u001b[0m\u001b[0;34m\"cm\"\u001b[0m\u001b[0;34m)\u001b[0m\u001b[0;34m\u001b[0m\u001b[0;34m\u001b[0m\u001b[0m\n\u001b[0m",
      "\u001b[0;32m<ipython-input-7-c7feddd5c68b>\u001b[0m in \u001b[0;36mget_waverange\u001b[0;34m(wmin, wmax, wunit, wavenum_min, wavenum_max, wavelength_min, wavelength_max, medium)\u001b[0m\n\u001b[1;32m     42\u001b[0m         \u001b[0;31m# user did not pass wmin/wmax\u001b[0m\u001b[0;34m\u001b[0m\u001b[0;34m\u001b[0m\u001b[0;34m\u001b[0m\u001b[0m\n\u001b[1;32m     43\u001b[0m         \u001b[0;32mif\u001b[0m \u001b[0mwmin\u001b[0m \u001b[0;32mis\u001b[0m \u001b[0;32mNone\u001b[0m \u001b[0;32mor\u001b[0m \u001b[0mwmax\u001b[0m \u001b[0;32mis\u001b[0m \u001b[0;32mNone\u001b[0m\u001b[0;34m:\u001b[0m\u001b[0;34m\u001b[0m\u001b[0;34m\u001b[0m\u001b[0m\n\u001b[0;32m---> 44\u001b[0;31m             \u001b[0;32mraise\u001b[0m \u001b[0mValueError\u001b[0m\u001b[0;34m(\u001b[0m\u001b[0;34m\"Please enter value of wmin and wmax when passing wunit\"\u001b[0m\u001b[0;34m)\u001b[0m\u001b[0;34m\u001b[0m\u001b[0;34m\u001b[0m\u001b[0m\n\u001b[0m\u001b[1;32m     45\u001b[0m         \u001b[0;31m# user passes wmin/wmax along with wunit\u001b[0m\u001b[0;34m\u001b[0m\u001b[0;34m\u001b[0m\u001b[0;34m\u001b[0m\u001b[0m\n\u001b[1;32m     46\u001b[0m         \u001b[0;32melse\u001b[0m\u001b[0;34m:\u001b[0m\u001b[0;34m\u001b[0m\u001b[0;34m\u001b[0m\u001b[0m\n",
      "\u001b[0;31mValueError\u001b[0m: Please enter value of wmin and wmax when passing wunit"
     ]
    }
   ],
   "source": [
    "get_waverange(wavelength_min = 1, wavelength_max = 2 , wunit=\"cm\")"
   ]
  },
  {
   "cell_type": "markdown",
   "metadata": {},
   "source": [
    "#### both are passed"
   ]
  },
  {
   "cell_type": "code",
   "execution_count": 23,
   "metadata": {},
   "outputs": [
    {
     "ename": "ValueError",
     "evalue": "Please enter value of wmin and wmax when passing wunit",
     "output_type": "error",
     "traceback": [
      "\u001b[0;31m---------------------------------------------------------------------------\u001b[0m",
      "\u001b[0;31mValueError\u001b[0m                                Traceback (most recent call last)",
      "\u001b[0;32m<ipython-input-23-99f6f6313717>\u001b[0m in \u001b[0;36m<module>\u001b[0;34m\u001b[0m\n\u001b[0;32m----> 1\u001b[0;31m \u001b[0mget_waverange\u001b[0m\u001b[0;34m(\u001b[0m\u001b[0mwavenum_min\u001b[0m\u001b[0;34m=\u001b[0m \u001b[0;36m1\u001b[0m\u001b[0;34m,\u001b[0m \u001b[0mwavenum_max\u001b[0m \u001b[0;34m=\u001b[0m \u001b[0;36m2\u001b[0m\u001b[0;34m,\u001b[0m \u001b[0mwavelength_min\u001b[0m \u001b[0;34m=\u001b[0m \u001b[0;36m10\u001b[0m\u001b[0;34m,\u001b[0m \u001b[0mwavelength_max\u001b[0m \u001b[0;34m=\u001b[0m \u001b[0;36m20\u001b[0m \u001b[0;34m,\u001b[0m \u001b[0mwunit\u001b[0m\u001b[0;34m=\u001b[0m\u001b[0;34m\"cm\"\u001b[0m\u001b[0;34m)\u001b[0m\u001b[0;34m\u001b[0m\u001b[0;34m\u001b[0m\u001b[0m\n\u001b[0m",
      "\u001b[0;32m<ipython-input-7-c7feddd5c68b>\u001b[0m in \u001b[0;36mget_waverange\u001b[0;34m(wmin, wmax, wunit, wavenum_min, wavenum_max, wavelength_min, wavelength_max, medium)\u001b[0m\n\u001b[1;32m     42\u001b[0m         \u001b[0;31m# user did not pass wmin/wmax\u001b[0m\u001b[0;34m\u001b[0m\u001b[0;34m\u001b[0m\u001b[0;34m\u001b[0m\u001b[0m\n\u001b[1;32m     43\u001b[0m         \u001b[0;32mif\u001b[0m \u001b[0mwmin\u001b[0m \u001b[0;32mis\u001b[0m \u001b[0;32mNone\u001b[0m \u001b[0;32mor\u001b[0m \u001b[0mwmax\u001b[0m \u001b[0;32mis\u001b[0m \u001b[0;32mNone\u001b[0m\u001b[0;34m:\u001b[0m\u001b[0;34m\u001b[0m\u001b[0;34m\u001b[0m\u001b[0m\n\u001b[0;32m---> 44\u001b[0;31m             \u001b[0;32mraise\u001b[0m \u001b[0mValueError\u001b[0m\u001b[0;34m(\u001b[0m\u001b[0;34m\"Please enter value of wmin and wmax when passing wunit\"\u001b[0m\u001b[0;34m)\u001b[0m\u001b[0;34m\u001b[0m\u001b[0;34m\u001b[0m\u001b[0m\n\u001b[0m\u001b[1;32m     45\u001b[0m         \u001b[0;31m# user passes wmin/wmax along with wunit\u001b[0m\u001b[0;34m\u001b[0m\u001b[0;34m\u001b[0m\u001b[0;34m\u001b[0m\u001b[0m\n\u001b[1;32m     46\u001b[0m         \u001b[0;32melse\u001b[0m\u001b[0;34m:\u001b[0m\u001b[0;34m\u001b[0m\u001b[0;34m\u001b[0m\u001b[0m\n",
      "\u001b[0;31mValueError\u001b[0m: Please enter value of wmin and wmax when passing wunit"
     ]
    }
   ],
   "source": [
    "get_waverange(wavenum_min= 1, wavenum_max = 2, wavelength_min = 10, wavelength_max = 20 , wunit=\"cm\")"
   ]
  },
  {
   "cell_type": "markdown",
   "metadata": {},
   "source": [
    "#### none are passed"
   ]
  },
  {
   "cell_type": "code",
   "execution_count": 24,
   "metadata": {},
   "outputs": [
    {
     "ename": "ValueError",
     "evalue": "Please enter value of wmin and wmax when passing wunit",
     "output_type": "error",
     "traceback": [
      "\u001b[0;31m---------------------------------------------------------------------------\u001b[0m",
      "\u001b[0;31mValueError\u001b[0m                                Traceback (most recent call last)",
      "\u001b[0;32m<ipython-input-24-3c291d0cecff>\u001b[0m in \u001b[0;36m<module>\u001b[0;34m\u001b[0m\n\u001b[0;32m----> 1\u001b[0;31m \u001b[0mget_waverange\u001b[0m\u001b[0;34m(\u001b[0m\u001b[0mwunit\u001b[0m\u001b[0;34m=\u001b[0m\u001b[0;34m\"cm\"\u001b[0m\u001b[0;34m)\u001b[0m\u001b[0;34m\u001b[0m\u001b[0;34m\u001b[0m\u001b[0m\n\u001b[0m",
      "\u001b[0;32m<ipython-input-7-c7feddd5c68b>\u001b[0m in \u001b[0;36mget_waverange\u001b[0;34m(wmin, wmax, wunit, wavenum_min, wavenum_max, wavelength_min, wavelength_max, medium)\u001b[0m\n\u001b[1;32m     42\u001b[0m         \u001b[0;31m# user did not pass wmin/wmax\u001b[0m\u001b[0;34m\u001b[0m\u001b[0;34m\u001b[0m\u001b[0;34m\u001b[0m\u001b[0m\n\u001b[1;32m     43\u001b[0m         \u001b[0;32mif\u001b[0m \u001b[0mwmin\u001b[0m \u001b[0;32mis\u001b[0m \u001b[0;32mNone\u001b[0m \u001b[0;32mor\u001b[0m \u001b[0mwmax\u001b[0m \u001b[0;32mis\u001b[0m \u001b[0;32mNone\u001b[0m\u001b[0;34m:\u001b[0m\u001b[0;34m\u001b[0m\u001b[0;34m\u001b[0m\u001b[0m\n\u001b[0;32m---> 44\u001b[0;31m             \u001b[0;32mraise\u001b[0m \u001b[0mValueError\u001b[0m\u001b[0;34m(\u001b[0m\u001b[0;34m\"Please enter value of wmin and wmax when passing wunit\"\u001b[0m\u001b[0;34m)\u001b[0m\u001b[0;34m\u001b[0m\u001b[0;34m\u001b[0m\u001b[0m\n\u001b[0m\u001b[1;32m     45\u001b[0m         \u001b[0;31m# user passes wmin/wmax along with wunit\u001b[0m\u001b[0;34m\u001b[0m\u001b[0;34m\u001b[0m\u001b[0;34m\u001b[0m\u001b[0m\n\u001b[1;32m     46\u001b[0m         \u001b[0;32melse\u001b[0m\u001b[0;34m:\u001b[0m\u001b[0;34m\u001b[0m\u001b[0;34m\u001b[0m\u001b[0m\n",
      "\u001b[0;31mValueError\u001b[0m: Please enter value of wmin and wmax when passing wunit"
     ]
    }
   ],
   "source": [
    "get_waverange(wunit=\"cm\")"
   ]
  },
  {
   "cell_type": "markdown",
   "metadata": {},
   "source": [
    "### wmin wmax is value only"
   ]
  },
  {
   "cell_type": "markdown",
   "metadata": {},
   "source": [
    "#### wavenumber is passed"
   ]
  },
  {
   "cell_type": "code",
   "execution_count": 25,
   "metadata": {},
   "outputs": [
    {
     "ename": "ValueError",
     "evalue": "Cannot pass more than one set of values as input",
     "output_type": "error",
     "traceback": [
      "\u001b[0;31m---------------------------------------------------------------------------\u001b[0m",
      "\u001b[0;31mValueError\u001b[0m                                Traceback (most recent call last)",
      "\u001b[0;32m<ipython-input-25-6f1880ca133d>\u001b[0m in \u001b[0;36m<module>\u001b[0;34m\u001b[0m\n\u001b[0;32m----> 1\u001b[0;31m \u001b[0mget_waverange\u001b[0m\u001b[0;34m(\u001b[0m\u001b[0mwmin\u001b[0m \u001b[0;34m=\u001b[0m\u001b[0;36m1\u001b[0m\u001b[0;34m,\u001b[0m \u001b[0mwmax\u001b[0m \u001b[0;34m=\u001b[0m \u001b[0;36m2\u001b[0m\u001b[0;34m,\u001b[0m\u001b[0mwavenum_min\u001b[0m \u001b[0;34m=\u001b[0m \u001b[0;36m10\u001b[0m\u001b[0;34m,\u001b[0m \u001b[0mwavenum_max\u001b[0m \u001b[0;34m=\u001b[0m \u001b[0;36m20\u001b[0m\u001b[0;34m,\u001b[0m \u001b[0mwunit\u001b[0m \u001b[0;34m=\u001b[0m \u001b[0;34m\"cm\"\u001b[0m\u001b[0;34m)\u001b[0m\u001b[0;34m\u001b[0m\u001b[0;34m\u001b[0m\u001b[0m\n\u001b[0m",
      "\u001b[0;32m<ipython-input-7-c7feddd5c68b>\u001b[0m in \u001b[0;36mget_waverange\u001b[0;34m(wmin, wmax, wunit, wavenum_min, wavenum_max, wavelength_min, wavelength_max, medium)\u001b[0m\n\u001b[1;32m     98\u001b[0m     \u001b[0mwavelength_present\u001b[0m \u001b[0;34m=\u001b[0m \u001b[0mwavelength_min\u001b[0m \u001b[0;32mis\u001b[0m \u001b[0;32mnot\u001b[0m \u001b[0;32mNone\u001b[0m \u001b[0;32mor\u001b[0m \u001b[0mwavelength_max\u001b[0m \u001b[0;32mis\u001b[0m \u001b[0;32mnot\u001b[0m \u001b[0;32mNone\u001b[0m\u001b[0;34m\u001b[0m\u001b[0;34m\u001b[0m\u001b[0m\n\u001b[1;32m     99\u001b[0m     \u001b[0;32mif\u001b[0m \u001b[0mw_present\u001b[0m \u001b[0;34m+\u001b[0m \u001b[0mwavenum_present\u001b[0m \u001b[0;34m+\u001b[0m \u001b[0mwavelength_present\u001b[0m \u001b[0;34m>=\u001b[0m \u001b[0;36m2\u001b[0m\u001b[0;34m:\u001b[0m\u001b[0;34m\u001b[0m\u001b[0;34m\u001b[0m\u001b[0m\n\u001b[0;32m--> 100\u001b[0;31m         \u001b[0;32mraise\u001b[0m \u001b[0mValueError\u001b[0m\u001b[0;34m(\u001b[0m\u001b[0;34m\"Cannot pass more than one set of values as input\"\u001b[0m\u001b[0;34m)\u001b[0m\u001b[0;34m\u001b[0m\u001b[0;34m\u001b[0m\u001b[0m\n\u001b[0m\u001b[1;32m    101\u001b[0m     \u001b[0;32massert\u001b[0m \u001b[0mmedium\u001b[0m \u001b[0;32min\u001b[0m \u001b[0;34m[\u001b[0m\u001b[0;34m\"air\"\u001b[0m\u001b[0;34m,\u001b[0m \u001b[0;34m\"vacuum\"\u001b[0m\u001b[0;34m]\u001b[0m\u001b[0;34m\u001b[0m\u001b[0;34m\u001b[0m\u001b[0m\n\u001b[1;32m    102\u001b[0m \u001b[0;34m\u001b[0m\u001b[0m\n",
      "\u001b[0;31mValueError\u001b[0m: Cannot pass more than one set of values as input"
     ]
    }
   ],
   "source": [
    "get_waverange(wmin =1, wmax = 2,wavenum_min = 10, wavenum_max = 20, wunit = \"cm\")"
   ]
  },
  {
   "cell_type": "markdown",
   "metadata": {},
   "source": [
    "#### wavelength is passed"
   ]
  },
  {
   "cell_type": "code",
   "execution_count": 26,
   "metadata": {},
   "outputs": [
    {
     "ename": "ValueError",
     "evalue": "Cannot pass more than one set of values as input",
     "output_type": "error",
     "traceback": [
      "\u001b[0;31m---------------------------------------------------------------------------\u001b[0m",
      "\u001b[0;31mValueError\u001b[0m                                Traceback (most recent call last)",
      "\u001b[0;32m<ipython-input-26-2c4341682ca1>\u001b[0m in \u001b[0;36m<module>\u001b[0;34m\u001b[0m\n\u001b[0;32m----> 1\u001b[0;31m \u001b[0mget_waverange\u001b[0m\u001b[0;34m(\u001b[0m\u001b[0mwmin\u001b[0m \u001b[0;34m=\u001b[0m\u001b[0;36m1\u001b[0m\u001b[0;34m,\u001b[0m \u001b[0mwmax\u001b[0m \u001b[0;34m=\u001b[0m \u001b[0;36m2\u001b[0m\u001b[0;34m,\u001b[0m\u001b[0mwavelength_min\u001b[0m \u001b[0;34m=\u001b[0m \u001b[0;36m10\u001b[0m\u001b[0;34m,\u001b[0m \u001b[0mwavelength_max\u001b[0m \u001b[0;34m=\u001b[0m \u001b[0;36m20\u001b[0m\u001b[0;34m,\u001b[0m \u001b[0mwunit\u001b[0m \u001b[0;34m=\u001b[0m \u001b[0;34m\"cm\"\u001b[0m\u001b[0;34m)\u001b[0m\u001b[0;34m\u001b[0m\u001b[0;34m\u001b[0m\u001b[0m\n\u001b[0m",
      "\u001b[0;32m<ipython-input-7-c7feddd5c68b>\u001b[0m in \u001b[0;36mget_waverange\u001b[0;34m(wmin, wmax, wunit, wavenum_min, wavenum_max, wavelength_min, wavelength_max, medium)\u001b[0m\n\u001b[1;32m     98\u001b[0m     \u001b[0mwavelength_present\u001b[0m \u001b[0;34m=\u001b[0m \u001b[0mwavelength_min\u001b[0m \u001b[0;32mis\u001b[0m \u001b[0;32mnot\u001b[0m \u001b[0;32mNone\u001b[0m \u001b[0;32mor\u001b[0m \u001b[0mwavelength_max\u001b[0m \u001b[0;32mis\u001b[0m \u001b[0;32mnot\u001b[0m \u001b[0;32mNone\u001b[0m\u001b[0;34m\u001b[0m\u001b[0;34m\u001b[0m\u001b[0m\n\u001b[1;32m     99\u001b[0m     \u001b[0;32mif\u001b[0m \u001b[0mw_present\u001b[0m \u001b[0;34m+\u001b[0m \u001b[0mwavenum_present\u001b[0m \u001b[0;34m+\u001b[0m \u001b[0mwavelength_present\u001b[0m \u001b[0;34m>=\u001b[0m \u001b[0;36m2\u001b[0m\u001b[0;34m:\u001b[0m\u001b[0;34m\u001b[0m\u001b[0;34m\u001b[0m\u001b[0m\n\u001b[0;32m--> 100\u001b[0;31m         \u001b[0;32mraise\u001b[0m \u001b[0mValueError\u001b[0m\u001b[0;34m(\u001b[0m\u001b[0;34m\"Cannot pass more than one set of values as input\"\u001b[0m\u001b[0;34m)\u001b[0m\u001b[0;34m\u001b[0m\u001b[0;34m\u001b[0m\u001b[0m\n\u001b[0m\u001b[1;32m    101\u001b[0m     \u001b[0;32massert\u001b[0m \u001b[0mmedium\u001b[0m \u001b[0;32min\u001b[0m \u001b[0;34m[\u001b[0m\u001b[0;34m\"air\"\u001b[0m\u001b[0;34m,\u001b[0m \u001b[0;34m\"vacuum\"\u001b[0m\u001b[0;34m]\u001b[0m\u001b[0;34m\u001b[0m\u001b[0;34m\u001b[0m\u001b[0m\n\u001b[1;32m    102\u001b[0m \u001b[0;34m\u001b[0m\u001b[0m\n",
      "\u001b[0;31mValueError\u001b[0m: Cannot pass more than one set of values as input"
     ]
    }
   ],
   "source": [
    "get_waverange(wmin =1, wmax = 2,wavelength_min = 10, wavelength_max = 20, wunit = \"cm\")"
   ]
  },
  {
   "cell_type": "markdown",
   "metadata": {},
   "source": [
    "#### both are passed"
   ]
  },
  {
   "cell_type": "code",
   "execution_count": 27,
   "metadata": {},
   "outputs": [
    {
     "ename": "ValueError",
     "evalue": "Cannot pass more than one set of values as input",
     "output_type": "error",
     "traceback": [
      "\u001b[0;31m---------------------------------------------------------------------------\u001b[0m",
      "\u001b[0;31mValueError\u001b[0m                                Traceback (most recent call last)",
      "\u001b[0;32m<ipython-input-27-7130abdf2003>\u001b[0m in \u001b[0;36m<module>\u001b[0;34m\u001b[0m\n\u001b[0;32m----> 1\u001b[0;31m \u001b[0mget_waverange\u001b[0m\u001b[0;34m(\u001b[0m\u001b[0mwmin\u001b[0m \u001b[0;34m=\u001b[0m\u001b[0;36m1\u001b[0m\u001b[0;34m,\u001b[0m \u001b[0mwmax\u001b[0m \u001b[0;34m=\u001b[0m \u001b[0;36m2\u001b[0m\u001b[0;34m,\u001b[0m\u001b[0mwavenum_min\u001b[0m \u001b[0;34m=\u001b[0m \u001b[0;36m10\u001b[0m\u001b[0;34m,\u001b[0m \u001b[0mwavenum_max\u001b[0m \u001b[0;34m=\u001b[0m \u001b[0;36m20\u001b[0m\u001b[0;34m,\u001b[0m \u001b[0mwavelength_min\u001b[0m \u001b[0;34m=\u001b[0m \u001b[0;36m100\u001b[0m\u001b[0;34m,\u001b[0m \u001b[0mwavelength_max\u001b[0m\u001b[0;34m=\u001b[0m\u001b[0;36m200\u001b[0m\u001b[0;34m,\u001b[0m \u001b[0mwunit\u001b[0m \u001b[0;34m=\u001b[0m \u001b[0;34m\"cm\"\u001b[0m\u001b[0;34m)\u001b[0m\u001b[0;34m\u001b[0m\u001b[0;34m\u001b[0m\u001b[0m\n\u001b[0m",
      "\u001b[0;32m<ipython-input-7-c7feddd5c68b>\u001b[0m in \u001b[0;36mget_waverange\u001b[0;34m(wmin, wmax, wunit, wavenum_min, wavenum_max, wavelength_min, wavelength_max, medium)\u001b[0m\n\u001b[1;32m     98\u001b[0m     \u001b[0mwavelength_present\u001b[0m \u001b[0;34m=\u001b[0m \u001b[0mwavelength_min\u001b[0m \u001b[0;32mis\u001b[0m \u001b[0;32mnot\u001b[0m \u001b[0;32mNone\u001b[0m \u001b[0;32mor\u001b[0m \u001b[0mwavelength_max\u001b[0m \u001b[0;32mis\u001b[0m \u001b[0;32mnot\u001b[0m \u001b[0;32mNone\u001b[0m\u001b[0;34m\u001b[0m\u001b[0;34m\u001b[0m\u001b[0m\n\u001b[1;32m     99\u001b[0m     \u001b[0;32mif\u001b[0m \u001b[0mw_present\u001b[0m \u001b[0;34m+\u001b[0m \u001b[0mwavenum_present\u001b[0m \u001b[0;34m+\u001b[0m \u001b[0mwavelength_present\u001b[0m \u001b[0;34m>=\u001b[0m \u001b[0;36m2\u001b[0m\u001b[0;34m:\u001b[0m\u001b[0;34m\u001b[0m\u001b[0;34m\u001b[0m\u001b[0m\n\u001b[0;32m--> 100\u001b[0;31m         \u001b[0;32mraise\u001b[0m \u001b[0mValueError\u001b[0m\u001b[0;34m(\u001b[0m\u001b[0;34m\"Cannot pass more than one set of values as input\"\u001b[0m\u001b[0;34m)\u001b[0m\u001b[0;34m\u001b[0m\u001b[0;34m\u001b[0m\u001b[0m\n\u001b[0m\u001b[1;32m    101\u001b[0m     \u001b[0;32massert\u001b[0m \u001b[0mmedium\u001b[0m \u001b[0;32min\u001b[0m \u001b[0;34m[\u001b[0m\u001b[0;34m\"air\"\u001b[0m\u001b[0;34m,\u001b[0m \u001b[0;34m\"vacuum\"\u001b[0m\u001b[0;34m]\u001b[0m\u001b[0;34m\u001b[0m\u001b[0;34m\u001b[0m\u001b[0m\n\u001b[1;32m    102\u001b[0m \u001b[0;34m\u001b[0m\u001b[0m\n",
      "\u001b[0;31mValueError\u001b[0m: Cannot pass more than one set of values as input"
     ]
    }
   ],
   "source": [
    "get_waverange(wmin =1, wmax = 2,wavenum_min = 10, wavenum_max = 20, wavelength_min = 100, wavelength_max=200, wunit = \"cm\")"
   ]
  },
  {
   "cell_type": "markdown",
   "metadata": {},
   "source": [
    "#### none are passed"
   ]
  },
  {
   "cell_type": "code",
   "execution_count": 28,
   "metadata": {},
   "outputs": [
    {
     "data": {
      "text/plain": [
       "(2.4, 1.2)"
      ]
     },
     "execution_count": 28,
     "metadata": {},
     "output_type": "execute_result"
    }
   ],
   "source": [
    "get_waverange(wmin =1, wmax = 2, wunit = \"cm\")"
   ]
  },
  {
   "cell_type": "code",
   "execution_count": 29,
   "metadata": {},
   "outputs": [
    {
     "data": {
      "text/plain": [
       "(1.0, 2.0)"
      ]
     },
     "execution_count": 29,
     "metadata": {},
     "output_type": "execute_result"
    }
   ],
   "source": [
    "get_waverange(wmin=1, wmax=2, wunit = \"cm-1\")"
   ]
  },
  {
   "cell_type": "markdown",
   "metadata": {},
   "source": [
    "### wmin wmax is both value and unit"
   ]
  },
  {
   "cell_type": "markdown",
   "metadata": {},
   "source": [
    "#### wavenumber is passed"
   ]
  },
  {
   "cell_type": "code",
   "execution_count": 30,
   "metadata": {},
   "outputs": [
    {
     "ename": "ValueError",
     "evalue": "Cannot pass more than one set of values as input",
     "output_type": "error",
     "traceback": [
      "\u001b[0;31m---------------------------------------------------------------------------\u001b[0m",
      "\u001b[0;31mValueError\u001b[0m                                Traceback (most recent call last)",
      "\u001b[0;32m<ipython-input-30-3af3c0389cf0>\u001b[0m in \u001b[0;36m<module>\u001b[0;34m\u001b[0m\n\u001b[0;32m----> 1\u001b[0;31m \u001b[0mget_waverange\u001b[0m\u001b[0;34m(\u001b[0m\u001b[0mwmin\u001b[0m \u001b[0;34m=\u001b[0m\u001b[0;36m1\u001b[0m\u001b[0;34m*\u001b[0m\u001b[0mu\u001b[0m\u001b[0;34m.\u001b[0m\u001b[0mcm\u001b[0m\u001b[0;34m,\u001b[0m \u001b[0mwmax\u001b[0m \u001b[0;34m=\u001b[0m \u001b[0;36m2\u001b[0m\u001b[0;34m*\u001b[0m\u001b[0mu\u001b[0m\u001b[0;34m.\u001b[0m\u001b[0mcm\u001b[0m\u001b[0;34m,\u001b[0m\u001b[0mwavenum_min\u001b[0m \u001b[0;34m=\u001b[0m \u001b[0;36m10\u001b[0m\u001b[0;34m,\u001b[0m \u001b[0mwavenum_max\u001b[0m \u001b[0;34m=\u001b[0m \u001b[0;36m20\u001b[0m\u001b[0;34m,\u001b[0m \u001b[0mwunit\u001b[0m \u001b[0;34m=\u001b[0m \u001b[0;34m\"cm\"\u001b[0m\u001b[0;34m)\u001b[0m\u001b[0;34m\u001b[0m\u001b[0;34m\u001b[0m\u001b[0m\n\u001b[0m",
      "\u001b[0;32m<ipython-input-7-c7feddd5c68b>\u001b[0m in \u001b[0;36mget_waverange\u001b[0;34m(wmin, wmax, wunit, wavenum_min, wavenum_max, wavelength_min, wavelength_max, medium)\u001b[0m\n\u001b[1;32m     98\u001b[0m     \u001b[0mwavelength_present\u001b[0m \u001b[0;34m=\u001b[0m \u001b[0mwavelength_min\u001b[0m \u001b[0;32mis\u001b[0m \u001b[0;32mnot\u001b[0m \u001b[0;32mNone\u001b[0m \u001b[0;32mor\u001b[0m \u001b[0mwavelength_max\u001b[0m \u001b[0;32mis\u001b[0m \u001b[0;32mnot\u001b[0m \u001b[0;32mNone\u001b[0m\u001b[0;34m\u001b[0m\u001b[0;34m\u001b[0m\u001b[0m\n\u001b[1;32m     99\u001b[0m     \u001b[0;32mif\u001b[0m \u001b[0mw_present\u001b[0m \u001b[0;34m+\u001b[0m \u001b[0mwavenum_present\u001b[0m \u001b[0;34m+\u001b[0m \u001b[0mwavelength_present\u001b[0m \u001b[0;34m>=\u001b[0m \u001b[0;36m2\u001b[0m\u001b[0;34m:\u001b[0m\u001b[0;34m\u001b[0m\u001b[0;34m\u001b[0m\u001b[0m\n\u001b[0;32m--> 100\u001b[0;31m         \u001b[0;32mraise\u001b[0m \u001b[0mValueError\u001b[0m\u001b[0;34m(\u001b[0m\u001b[0;34m\"Cannot pass more than one set of values as input\"\u001b[0m\u001b[0;34m)\u001b[0m\u001b[0;34m\u001b[0m\u001b[0;34m\u001b[0m\u001b[0m\n\u001b[0m\u001b[1;32m    101\u001b[0m     \u001b[0;32massert\u001b[0m \u001b[0mmedium\u001b[0m \u001b[0;32min\u001b[0m \u001b[0;34m[\u001b[0m\u001b[0;34m\"air\"\u001b[0m\u001b[0;34m,\u001b[0m \u001b[0;34m\"vacuum\"\u001b[0m\u001b[0;34m]\u001b[0m\u001b[0;34m\u001b[0m\u001b[0;34m\u001b[0m\u001b[0m\n\u001b[1;32m    102\u001b[0m \u001b[0;34m\u001b[0m\u001b[0m\n",
      "\u001b[0;31mValueError\u001b[0m: Cannot pass more than one set of values as input"
     ]
    }
   ],
   "source": [
    "get_waverange(wmin =1*u.cm, wmax = 2*u.cm,wavenum_min = 10, wavenum_max = 20, wunit = \"cm\")"
   ]
  },
  {
   "cell_type": "markdown",
   "metadata": {},
   "source": [
    "#### wavelength is passed"
   ]
  },
  {
   "cell_type": "code",
   "execution_count": 31,
   "metadata": {},
   "outputs": [
    {
     "ename": "ValueError",
     "evalue": "Cannot pass more than one set of values as input",
     "output_type": "error",
     "traceback": [
      "\u001b[0;31m---------------------------------------------------------------------------\u001b[0m",
      "\u001b[0;31mValueError\u001b[0m                                Traceback (most recent call last)",
      "\u001b[0;32m<ipython-input-31-089a3315a7cb>\u001b[0m in \u001b[0;36m<module>\u001b[0;34m\u001b[0m\n\u001b[0;32m----> 1\u001b[0;31m \u001b[0mget_waverange\u001b[0m\u001b[0;34m(\u001b[0m\u001b[0mwmin\u001b[0m\u001b[0;34m=\u001b[0m \u001b[0;36m1\u001b[0m\u001b[0;34m*\u001b[0m\u001b[0mu\u001b[0m\u001b[0;34m.\u001b[0m\u001b[0mcm\u001b[0m\u001b[0;34m,\u001b[0m \u001b[0mwmax\u001b[0m \u001b[0;34m=\u001b[0m \u001b[0;36m2\u001b[0m\u001b[0;34m*\u001b[0m\u001b[0mu\u001b[0m\u001b[0;34m.\u001b[0m\u001b[0mcm\u001b[0m\u001b[0;34m,\u001b[0m \u001b[0mwavelength_min\u001b[0m \u001b[0;34m=\u001b[0m \u001b[0;36m10\u001b[0m\u001b[0;34m,\u001b[0m \u001b[0mwavelength_max\u001b[0m \u001b[0;34m=\u001b[0m \u001b[0;36m20\u001b[0m \u001b[0;34m,\u001b[0m \u001b[0mwunit\u001b[0m\u001b[0;34m=\u001b[0m\u001b[0;34m\"cm\"\u001b[0m\u001b[0;34m)\u001b[0m\u001b[0;34m\u001b[0m\u001b[0;34m\u001b[0m\u001b[0m\n\u001b[0m",
      "\u001b[0;32m<ipython-input-7-c7feddd5c68b>\u001b[0m in \u001b[0;36mget_waverange\u001b[0;34m(wmin, wmax, wunit, wavenum_min, wavenum_max, wavelength_min, wavelength_max, medium)\u001b[0m\n\u001b[1;32m     98\u001b[0m     \u001b[0mwavelength_present\u001b[0m \u001b[0;34m=\u001b[0m \u001b[0mwavelength_min\u001b[0m \u001b[0;32mis\u001b[0m \u001b[0;32mnot\u001b[0m \u001b[0;32mNone\u001b[0m \u001b[0;32mor\u001b[0m \u001b[0mwavelength_max\u001b[0m \u001b[0;32mis\u001b[0m \u001b[0;32mnot\u001b[0m \u001b[0;32mNone\u001b[0m\u001b[0;34m\u001b[0m\u001b[0;34m\u001b[0m\u001b[0m\n\u001b[1;32m     99\u001b[0m     \u001b[0;32mif\u001b[0m \u001b[0mw_present\u001b[0m \u001b[0;34m+\u001b[0m \u001b[0mwavenum_present\u001b[0m \u001b[0;34m+\u001b[0m \u001b[0mwavelength_present\u001b[0m \u001b[0;34m>=\u001b[0m \u001b[0;36m2\u001b[0m\u001b[0;34m:\u001b[0m\u001b[0;34m\u001b[0m\u001b[0;34m\u001b[0m\u001b[0m\n\u001b[0;32m--> 100\u001b[0;31m         \u001b[0;32mraise\u001b[0m \u001b[0mValueError\u001b[0m\u001b[0;34m(\u001b[0m\u001b[0;34m\"Cannot pass more than one set of values as input\"\u001b[0m\u001b[0;34m)\u001b[0m\u001b[0;34m\u001b[0m\u001b[0;34m\u001b[0m\u001b[0m\n\u001b[0m\u001b[1;32m    101\u001b[0m     \u001b[0;32massert\u001b[0m \u001b[0mmedium\u001b[0m \u001b[0;32min\u001b[0m \u001b[0;34m[\u001b[0m\u001b[0;34m\"air\"\u001b[0m\u001b[0;34m,\u001b[0m \u001b[0;34m\"vacuum\"\u001b[0m\u001b[0;34m]\u001b[0m\u001b[0;34m\u001b[0m\u001b[0;34m\u001b[0m\u001b[0m\n\u001b[1;32m    102\u001b[0m \u001b[0;34m\u001b[0m\u001b[0m\n",
      "\u001b[0;31mValueError\u001b[0m: Cannot pass more than one set of values as input"
     ]
    }
   ],
   "source": [
    "get_waverange(wmin= 1*u.cm, wmax = 2*u.cm, wavelength_min = 10, wavelength_max = 20 , wunit=\"cm\")"
   ]
  },
  {
   "cell_type": "markdown",
   "metadata": {},
   "source": [
    "#### both are passed"
   ]
  },
  {
   "cell_type": "code",
   "execution_count": 32,
   "metadata": {},
   "outputs": [
    {
     "ename": "ValueError",
     "evalue": "Cannot pass more than one set of values as input",
     "output_type": "error",
     "traceback": [
      "\u001b[0;31m---------------------------------------------------------------------------\u001b[0m",
      "\u001b[0;31mValueError\u001b[0m                                Traceback (most recent call last)",
      "\u001b[0;32m<ipython-input-32-e2612ff275ab>\u001b[0m in \u001b[0;36m<module>\u001b[0;34m\u001b[0m\n\u001b[0;32m----> 1\u001b[0;31m \u001b[0mget_waverange\u001b[0m\u001b[0;34m(\u001b[0m\u001b[0mwmin\u001b[0m\u001b[0;34m=\u001b[0m\u001b[0;36m1\u001b[0m\u001b[0;34m*\u001b[0m\u001b[0mu\u001b[0m\u001b[0;34m.\u001b[0m\u001b[0mcm\u001b[0m\u001b[0;34m,\u001b[0m \u001b[0mwmax\u001b[0m\u001b[0;34m=\u001b[0m\u001b[0;36m2\u001b[0m\u001b[0;34m*\u001b[0m\u001b[0mu\u001b[0m\u001b[0;34m.\u001b[0m\u001b[0mcm\u001b[0m\u001b[0;34m,\u001b[0m \u001b[0mwavenum_min\u001b[0m\u001b[0;34m=\u001b[0m \u001b[0;36m1\u001b[0m\u001b[0;34m,\u001b[0m \u001b[0mwavenum_max\u001b[0m \u001b[0;34m=\u001b[0m \u001b[0;36m2\u001b[0m\u001b[0;34m,\u001b[0m \u001b[0mwavelength_min\u001b[0m \u001b[0;34m=\u001b[0m \u001b[0;36m10\u001b[0m\u001b[0;34m,\u001b[0m \u001b[0mwavelength_max\u001b[0m \u001b[0;34m=\u001b[0m \u001b[0;36m20\u001b[0m \u001b[0;34m,\u001b[0m \u001b[0mwunit\u001b[0m\u001b[0;34m=\u001b[0m\u001b[0;34m\"cm\"\u001b[0m\u001b[0;34m)\u001b[0m\u001b[0;34m\u001b[0m\u001b[0;34m\u001b[0m\u001b[0m\n\u001b[0m",
      "\u001b[0;32m<ipython-input-7-c7feddd5c68b>\u001b[0m in \u001b[0;36mget_waverange\u001b[0;34m(wmin, wmax, wunit, wavenum_min, wavenum_max, wavelength_min, wavelength_max, medium)\u001b[0m\n\u001b[1;32m     98\u001b[0m     \u001b[0mwavelength_present\u001b[0m \u001b[0;34m=\u001b[0m \u001b[0mwavelength_min\u001b[0m \u001b[0;32mis\u001b[0m \u001b[0;32mnot\u001b[0m \u001b[0;32mNone\u001b[0m \u001b[0;32mor\u001b[0m \u001b[0mwavelength_max\u001b[0m \u001b[0;32mis\u001b[0m \u001b[0;32mnot\u001b[0m \u001b[0;32mNone\u001b[0m\u001b[0;34m\u001b[0m\u001b[0;34m\u001b[0m\u001b[0m\n\u001b[1;32m     99\u001b[0m     \u001b[0;32mif\u001b[0m \u001b[0mw_present\u001b[0m \u001b[0;34m+\u001b[0m \u001b[0mwavenum_present\u001b[0m \u001b[0;34m+\u001b[0m \u001b[0mwavelength_present\u001b[0m \u001b[0;34m>=\u001b[0m \u001b[0;36m2\u001b[0m\u001b[0;34m:\u001b[0m\u001b[0;34m\u001b[0m\u001b[0;34m\u001b[0m\u001b[0m\n\u001b[0;32m--> 100\u001b[0;31m         \u001b[0;32mraise\u001b[0m \u001b[0mValueError\u001b[0m\u001b[0;34m(\u001b[0m\u001b[0;34m\"Cannot pass more than one set of values as input\"\u001b[0m\u001b[0;34m)\u001b[0m\u001b[0;34m\u001b[0m\u001b[0;34m\u001b[0m\u001b[0m\n\u001b[0m\u001b[1;32m    101\u001b[0m     \u001b[0;32massert\u001b[0m \u001b[0mmedium\u001b[0m \u001b[0;32min\u001b[0m \u001b[0;34m[\u001b[0m\u001b[0;34m\"air\"\u001b[0m\u001b[0;34m,\u001b[0m \u001b[0;34m\"vacuum\"\u001b[0m\u001b[0;34m]\u001b[0m\u001b[0;34m\u001b[0m\u001b[0;34m\u001b[0m\u001b[0m\n\u001b[1;32m    102\u001b[0m \u001b[0;34m\u001b[0m\u001b[0m\n",
      "\u001b[0;31mValueError\u001b[0m: Cannot pass more than one set of values as input"
     ]
    }
   ],
   "source": [
    "get_waverange(wmin=1*u.cm, wmax=2*u.cm, wavenum_min= 1, wavenum_max = 2, wavelength_min = 10, wavelength_max = 20 , wunit=\"cm\")"
   ]
  },
  {
   "cell_type": "markdown",
   "metadata": {},
   "source": [
    "#### NONE ARE PASSED"
   ]
  },
  {
   "cell_type": "code",
   "execution_count": 33,
   "metadata": {},
   "outputs": [
    {
     "data": {
      "text/plain": [
       "(2.4, 1.2)"
      ]
     },
     "execution_count": 33,
     "metadata": {},
     "output_type": "execute_result"
    }
   ],
   "source": [
    "get_waverange(wmin= 1*u.cm, wmax = 2*u.cm, wunit=\"cm\")"
   ]
  },
  {
   "cell_type": "code",
   "execution_count": 34,
   "metadata": {},
   "outputs": [
    {
     "data": {
      "text/plain": [
       "(1.0, 2.0)"
      ]
     },
     "execution_count": 34,
     "metadata": {},
     "output_type": "execute_result"
    }
   ],
   "source": [
    "get_waverange(wmin= 1*(1/u.cm), wmax = 2*(1/u.cm), wunit=\"cm-1\")"
   ]
  },
  {
   "cell_type": "code",
   "execution_count": 35,
   "metadata": {},
   "outputs": [
    {
     "data": {
      "text/plain": [
       "(2.4, 1.2)"
      ]
     },
     "execution_count": 35,
     "metadata": {},
     "output_type": "execute_result"
    }
   ],
   "source": [
    "get_waverange(wmin=1*u.cm, wmax=2*u.cm, wunit=\"cm\")"
   ]
  },
  {
   "cell_type": "code",
   "execution_count": 36,
   "metadata": {},
   "outputs": [
    {
     "data": {
      "text/plain": [
       "(2.4, 1.2)"
      ]
     },
     "execution_count": 36,
     "metadata": {},
     "output_type": "execute_result"
    }
   ],
   "source": [
    "get_waverange(wavelength_min = 1*u.cm, wavelength_max=2*u.cm)"
   ]
  },
  {
   "cell_type": "code",
   "execution_count": 37,
   "metadata": {
    "scrolled": true
   },
   "outputs": [
    {
     "ename": "ValueError",
     "evalue": "Conflicting units entered for wmin/wmax and wunit",
     "output_type": "error",
     "traceback": [
      "\u001b[0;31m---------------------------------------------------------------------------\u001b[0m",
      "\u001b[0;31mValueError\u001b[0m                                Traceback (most recent call last)",
      "\u001b[0;32m<ipython-input-37-d53e794ed649>\u001b[0m in \u001b[0;36m<module>\u001b[0;34m\u001b[0m\n\u001b[0;32m----> 1\u001b[0;31m \u001b[0mget_waverange\u001b[0m\u001b[0;34m(\u001b[0m\u001b[0mwmin\u001b[0m\u001b[0;34m=\u001b[0m\u001b[0;36m1\u001b[0m\u001b[0;34m*\u001b[0m\u001b[0mu\u001b[0m\u001b[0;34m.\u001b[0m\u001b[0mcm\u001b[0m\u001b[0;34m,\u001b[0m \u001b[0mwmax\u001b[0m\u001b[0;34m=\u001b[0m\u001b[0;36m2\u001b[0m\u001b[0;34m*\u001b[0m\u001b[0mu\u001b[0m\u001b[0;34m.\u001b[0m\u001b[0mcm\u001b[0m\u001b[0;34m,\u001b[0m \u001b[0mwunit\u001b[0m\u001b[0;34m=\u001b[0m\u001b[0;34m\"cm-1\"\u001b[0m\u001b[0;34m)\u001b[0m\u001b[0;34m\u001b[0m\u001b[0;34m\u001b[0m\u001b[0m\n\u001b[0m",
      "\u001b[0;32m<ipython-input-7-c7feddd5c68b>\u001b[0m in \u001b[0;36mget_waverange\u001b[0;34m(wmin, wmax, wunit, wavenum_min, wavenum_max, wavelength_min, wavelength_max, medium)\u001b[0m\n\u001b[1;32m     61\u001b[0m                 \u001b[0;32melse\u001b[0m\u001b[0;34m:\u001b[0m\u001b[0;34m\u001b[0m\u001b[0;34m\u001b[0m\u001b[0m\n\u001b[1;32m     62\u001b[0m                     raise ValueError(\n\u001b[0;32m---> 63\u001b[0;31m                         \u001b[0;34m\"Conflicting units entered for wmin/wmax and wunit\"\u001b[0m\u001b[0;34m\u001b[0m\u001b[0;34m\u001b[0m\u001b[0m\n\u001b[0m\u001b[1;32m     64\u001b[0m                     )\n\u001b[1;32m     65\u001b[0m             \u001b[0;31m# wmin/wmax do not have units\u001b[0m\u001b[0;34m\u001b[0m\u001b[0;34m\u001b[0m\u001b[0;34m\u001b[0m\u001b[0m\n",
      "\u001b[0;31mValueError\u001b[0m: Conflicting units entered for wmin/wmax and wunit"
     ]
    }
   ],
   "source": [
    "get_waverange(wmin=1*u.cm, wmax=2*u.cm, wunit=\"cm-1\")"
   ]
  },
  {
   "cell_type": "code",
   "execution_count": 38,
   "metadata": {},
   "outputs": [
    {
     "ename": "ValueError",
     "evalue": "Conflicting units entered for wmin/wmax and wunit",
     "output_type": "error",
     "traceback": [
      "\u001b[0;31m---------------------------------------------------------------------------\u001b[0m",
      "\u001b[0;31mValueError\u001b[0m                                Traceback (most recent call last)",
      "\u001b[0;32m<ipython-input-38-8788b7e7fef3>\u001b[0m in \u001b[0;36m<module>\u001b[0;34m\u001b[0m\n\u001b[0;32m----> 1\u001b[0;31m \u001b[0mget_waverange\u001b[0m\u001b[0;34m(\u001b[0m\u001b[0mwmin\u001b[0m\u001b[0;34m=\u001b[0m\u001b[0;36m1\u001b[0m\u001b[0;34m*\u001b[0m\u001b[0mu\u001b[0m\u001b[0;34m.\u001b[0m\u001b[0mcm\u001b[0m\u001b[0;34m,\u001b[0m \u001b[0mwmax\u001b[0m\u001b[0;34m=\u001b[0m\u001b[0;36m2\u001b[0m\u001b[0;34m*\u001b[0m\u001b[0mu\u001b[0m\u001b[0;34m.\u001b[0m\u001b[0mcm\u001b[0m\u001b[0;34m,\u001b[0m \u001b[0mwunit\u001b[0m\u001b[0;34m=\u001b[0m\u001b[0;34m\"m\"\u001b[0m\u001b[0;34m)\u001b[0m\u001b[0;34m\u001b[0m\u001b[0;34m\u001b[0m\u001b[0m\n\u001b[0m",
      "\u001b[0;32m<ipython-input-7-c7feddd5c68b>\u001b[0m in \u001b[0;36mget_waverange\u001b[0;34m(wmin, wmax, wunit, wavenum_min, wavenum_max, wavelength_min, wavelength_max, medium)\u001b[0m\n\u001b[1;32m     61\u001b[0m                 \u001b[0;32melse\u001b[0m\u001b[0;34m:\u001b[0m\u001b[0;34m\u001b[0m\u001b[0;34m\u001b[0m\u001b[0m\n\u001b[1;32m     62\u001b[0m                     raise ValueError(\n\u001b[0;32m---> 63\u001b[0;31m                         \u001b[0;34m\"Conflicting units entered for wmin/wmax and wunit\"\u001b[0m\u001b[0;34m\u001b[0m\u001b[0;34m\u001b[0m\u001b[0m\n\u001b[0m\u001b[1;32m     64\u001b[0m                     )\n\u001b[1;32m     65\u001b[0m             \u001b[0;31m# wmin/wmax do not have units\u001b[0m\u001b[0;34m\u001b[0m\u001b[0;34m\u001b[0m\u001b[0;34m\u001b[0m\u001b[0m\n",
      "\u001b[0;31mValueError\u001b[0m: Conflicting units entered for wmin/wmax and wunit"
     ]
    }
   ],
   "source": [
    "get_waverange(wmin=1*u.cm, wmax=2*u.cm, wunit=\"m\")"
   ]
  },
  {
   "cell_type": "code",
   "execution_count": 42,
   "metadata": {},
   "outputs": [],
   "source": [
    "import pytest\n",
    "with pytest.raises(ValueError):\n",
    "    get_waverange(wavenum_min= 1, wavenum_max = 2, wavelength_min = 10, wavelength_max = 20 , wunit=\"cm\")\n",
    "    get_waverange(wmin = 1 * u.cm, wmax = 2 * u.cm, medium = \"vacuum\")"
   ]
  },
  {
   "cell_type": "code",
   "execution_count": 47,
   "metadata": {},
   "outputs": [
    {
     "data": {
      "text/plain": [
       "(2e-07, 1e-07)"
      ]
     },
     "execution_count": 47,
     "metadata": {},
     "output_type": "execute_result"
    }
   ],
   "source": [
    "get_waverange(wavelength_min=1, wavelength_max=2, medium=\"vacuum\", wunit=Default(\"cm-1\"))"
   ]
  },
  {
   "cell_type": "code",
   "execution_count": 49,
   "metadata": {},
   "outputs": [],
   "source": [
    "assert get_waverange2(wavelength_min=1, wavelength_max=2, medium=\"vacuum\", wunit=Default(\"cm-1\")) == (2e-07, 1e-07)"
   ]
  },
  {
   "cell_type": "code",
   "execution_count": 46,
   "metadata": {},
   "outputs": [],
   "source": [
    "def get_waverange2(\n",
    "    wmin=None,\n",
    "    wmax=None,\n",
    "    wunit=None,\n",
    "    wavenum_min=None,\n",
    "    wavenum_max=None,\n",
    "    wavelength_min=None,\n",
    "    wavelength_max=None,\n",
    "    medium=\"air\",\n",
    "):\n",
    "    # check input consistency\n",
    "    # check if atleast one input is given\n",
    "    if (\n",
    "        wmin is None\n",
    "        and wmax is None\n",
    "        and wavelength_min is None\n",
    "        and wavelength_max is None\n",
    "        and wavenum_min is None\n",
    "        and wavenum_max is None\n",
    "    ):\n",
    "        raise ValueError(\"Give wavenumber or wavelength\")\n",
    "\n",
    "    # check if only one pair of values has been passed\n",
    "    w_present = wmin is not None and wmax is not None\n",
    "    wavenum_present = wavenum_min is not None and wavenum_max is not None\n",
    "    wavelength_present = wavelength_min is not None and wavelength_max is not None\n",
    "    if w_present + wavenum_present + wavelength_present != 1:\n",
    "        raise ValueError(\n",
    "            \"Please pass exactly one set of values as input: \"\n",
    "            \"choose either wmin/wmax (with astropy.units), \"\n",
    "            \"wavenum_min/wavenum_max, or wavelength_min/wavelength_max\"\n",
    "        )\n",
    "\n",
    "    complete_pairs = 0\n",
    "\n",
    "    # check for unit consistency\n",
    "\n",
    "    if not isinstance(wunit, Default):\n",
    "        if not u.Unit(wunit).is_equivalent(u.m) and not u.Unit(wunit).is_equivalent(\n",
    "            1 / u.m\n",
    "        ):\n",
    "            raise ValueError(\"Wunit dimensions should be either [length] or 1/[length]\")\n",
    "\n",
    "    if wavelength_min is not None or wavelength_max is not None:\n",
    "        assert wavelength_min is not None and wavelength_max is not None\n",
    "        assert wavelength_min < wavelength_max\n",
    "        if not isinstance(wunit, Default):\n",
    "            raise ValueError(\"Please use wmin/wmax when passing wunit\")\n",
    "        if isinstance(wavelength_min, u.Quantity):\n",
    "            assert isinstance(wavelength_min, u.Quantity) and isinstance(\n",
    "                wavelength_max, u.Quantity\n",
    "            )\n",
    "            assert wavelength_min.unit.is_equivalent(u.m)\n",
    "            assert wavelength_max.unit.is_equivalent(u.m)\n",
    "\n",
    "    if wavenum_min is not None or wavenum_max is not None:\n",
    "        assert wavenum_min is not None and wavenum_max is not None\n",
    "        assert wavenum_min < wavenum_max\n",
    "        if not isinstance(wunit, Default):\n",
    "            raise ValueError(\"Please use wmin/wmax when passing wunit\")\n",
    "        if isinstance(wavenum_min, u.Quantity) or isinstance(wavenum_max, u.Quantity):\n",
    "            assert isinstance(wavenum_min, u.Quantity) and isinstance(\n",
    "                wavenum_max, u.Quantity\n",
    "            )\n",
    "            assert wavenum_min.unit.is_equivalent(1 / u.cm)\n",
    "            assert wavenum_max.unit.is_equivalent(1 / u.cm)\n",
    "\n",
    "    if isinstance(wmin, u.Quantity) or isinstance(wmax, u.Quantity):\n",
    "        assert wmin is not None and wmax is not None\n",
    "        assert isinstance(wmin, u.Quantity) and isinstance(wmax, u.Quantity)\n",
    "        assert wmin.unit.is_equivalent(u.m) or wmin.unit.is_equivalent(1 / u.m)\n",
    "        assert wmax.unit.is_equivalent(u.m) or wmax.unit.is_equivalent(1 / u.m)\n",
    "        assert wmin.unit.is_equivalent(wmax.unit)\n",
    "        if not isinstance(wunit, Default):\n",
    "            if not wmin.unit.is_equivalent(u.Unit(wunit)):\n",
    "                raise ValueError(\"Conflicting units passed for wmin/wmax and wunit\")\n",
    "            # Should I keep this in?\n",
    "            # Deals with cases like: calc_spectrum(wmin=10*u.cm, wmax=1.u.m, wunit=\"cm\")\n",
    "    #             else:\n",
    "    #                 if wmin.unit != wmax.unit and (wmin.unit != u.Unit(wunit.value) or wmax.unit != u.Unit(wunit.value)):\n",
    "    #                     raise Warning(\"Ambiguous units passed, ignoring wunit\")\n",
    "\n",
    "    if wmin is not None and wmax is not None:\n",
    "        if isinstance(wmin, u.Quantity) or isinstance(wmax, u.Quantity):\n",
    "            if wmin.unit.is_equivalent(u.m):\n",
    "                wavelength_min = wmin\n",
    "                wavelength_max = wmax\n",
    "            else:\n",
    "                wavenum_min = wmin\n",
    "                wavenum_max = wmax\n",
    "        else:\n",
    "            if isinstance(wunit, Default):\n",
    "                wavenum_min = wmin * u.Unit(wunit.value)\n",
    "                wavenum_max = wmax * u.Unit(wunit.value)\n",
    "            else:\n",
    "                if u.Unit(wunit).is_equivalent(u.m):\n",
    "                    wavelength_min = wmin * u.Unit(wunit)\n",
    "                    wavelength_max = wmax * u.Unit(wunit)\n",
    "                else:\n",
    "                    wavenum_min = wmin * u.Unit(wunit)\n",
    "                    wavenum_max = wmax * u.Unit(wunit)\n",
    "\n",
    "    if wavenum_min is not None or wavenum_max is not None:\n",
    "        wavenum_min = convert_and_strip_units(wavenum_min, 1 / u.cm)\n",
    "        wavenum_max = convert_and_strip_units(wavenum_max, 1 / u.cm)\n",
    "\n",
    "    if wavelength_min is not None or wavelength_max is not None:\n",
    "        assert medium in [\"air\", \"vacuum\"]\n",
    "        wavelength_min = convert_and_strip_units(wavelength_min, u.nm)\n",
    "        wavelength_max = convert_and_strip_units(wavelength_max, u.nm)\n",
    "        if medium == \"air\":\n",
    "            wavelength_min_vac = air2vacuum(wavelength_min)\n",
    "            wavelength_max_vac = air2vacuum(wavelength_max)\n",
    "        else:\n",
    "            wavelength_min_vac = wavelength_min\n",
    "            wavelength_max_vac = wavelength_max\n",
    "\n",
    "        wavenum_min = nm2cm(wavelength_max_vac)\n",
    "        wavenum_max = nm2cm(wavelength_min_vac)\n",
    "\n",
    "    return wavenum_min, wavenum_max\n"
   ]
  },
  {
   "cell_type": "code",
   "execution_count": 50,
   "metadata": {},
   "outputs": [
    {
     "data": {
      "text/plain": [
       "(2e-07, 1e-07)"
      ]
     },
     "execution_count": 50,
     "metadata": {},
     "output_type": "execute_result"
    }
   ],
   "source": [
    "get_waverange(wavelength_min=1, wavelength_max=2, medium=\"vacuum\", wunit=Default(\"cm-1\"))"
   ]
  },
  {
   "cell_type": "code",
   "execution_count": 53,
   "metadata": {},
   "outputs": [],
   "source": [
    "assert get_waverange(wavelength_min=1, wavelength_max=2, medium=\"vacuum\", wunit=Default(\"cm-1\")) == (0.0000002, 0.0000001)\n"
   ]
  },
  {
   "cell_type": "code",
   "execution_count": null,
   "metadata": {},
   "outputs": [],
   "source": []
  }
 ],
 "metadata": {
  "kernelspec": {
   "display_name": "Python 3",
   "language": "python",
   "name": "python3"
  },
  "language_info": {
   "codemirror_mode": {
    "name": "ipython",
    "version": 3
   },
   "file_extension": ".py",
   "mimetype": "text/x-python",
   "name": "python",
   "nbconvert_exporter": "python",
   "pygments_lexer": "ipython3",
   "version": "3.6.10"
  }
 },
 "nbformat": 4,
 "nbformat_minor": 4
}
