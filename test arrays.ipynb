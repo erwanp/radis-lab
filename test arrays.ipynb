{
 "cells": [
  {
   "cell_type": "markdown",
   "metadata": {},
   "source": [
    "This is a notebook to execute and test the different miscellaneous functions implemented in `misc/arrays.py`. "
   ]
  },
  {
   "cell_type": "markdown",
   "metadata": {},
   "source": [
    "## `shift_array`"
   ]
  },
  {
   "cell_type": "code",
   "execution_count": 1,
   "metadata": {},
   "outputs": [],
   "source": [
    "import numpy as np\n",
    "def shift_array(t0, y0, shift, nmax=10, tab=0):\n",
    "    \"\"\"     \n",
    "    shift the array and interpolate when the shift is smaller than the time step\n",
    "\n",
    "\n",
    "    Parameters    \n",
    "    ----------\n",
    "\n",
    "    t0: array-like\n",
    "        x\n",
    "\n",
    "    y0: array-like\n",
    "        y\n",
    "\n",
    "    shift: float\n",
    "        value to shift x and y    \n",
    "\n",
    "    nmax : int\n",
    "        maximum interpolation step\n",
    "\n",
    "    tab: int\n",
    "        unless said otherwise (tab != 0), replace values with 0. Default 0 \n",
    "\n",
    "\n",
    "    Returns\n",
    "    -------\n",
    "\n",
    "    t, y: array-like\n",
    "        shifted arrays\n",
    "\n",
    "\n",
    "    Note\n",
    "    ----\n",
    "\n",
    "    Only tested with constant timesteps    \n",
    "    \"\"\"\n",
    "\n",
    "    if shift == 0:\n",
    "        return t0, y0\n",
    "\n",
    "    t = np.copy(t0)\n",
    "    y = np.copy(y0)\n",
    "\n",
    "    # Get the interpolation step required\n",
    "    dt = t[1] - t[0]\n",
    "    n = dt / (abs(shift) % dt)\n",
    "    n = round(n)\n",
    "\n",
    "    if n > nmax:\n",
    "        print(\"Interpolation step required\", n, \"has been reduced to\", nmax)\n",
    "        n = nmax\n",
    "\n",
    "    if n > 1:\n",
    "        # Interpolate\n",
    "        step = (max(t) - min(t)) / (len(t) - 1) / n\n",
    "        tint = np.arange(min(t), max(t), step)\n",
    "        tck = interpolate.splrep(t, y, s=0)\n",
    "        y = interpolate.splev(tint, tck, der=0)\n",
    "        t = tint\n",
    "\n",
    "    # Find shift coordinates (don't forget the negative shift case)\n",
    "    if shift > 0:\n",
    "        try:\n",
    "            n = np.argmax(t >= (t[0] + shift))\n",
    "        except ValueError:  # Empty sequence (shift probably too important)\n",
    "            n = len(t)\n",
    "    else:\n",
    "        try:\n",
    "            n = np.argmax(t >= (t[-1] + shift))\n",
    "        # Empty sequence (negative shift probably too important)\n",
    "        except ValueError:\n",
    "            n = 0\n",
    "\n",
    "    # Shift\n",
    "    if shift > 0:\n",
    "        y[n:] = y[:-n]\n",
    "        y[:n] *= 0\n",
    "        y[:n] += tab\n",
    "    else:\n",
    "        y[:n] = y[-n:]\n",
    "        y[n:] *= 0\n",
    "        y[n:] += tab\n",
    "\n",
    "    return t, y"
   ]
  },
  {
   "cell_type": "code",
   "execution_count": 2,
   "metadata": {},
   "outputs": [
    {
     "name": "stdout",
     "output_type": "stream",
     "text": [
      "Interpolation step required inf has been reduced to 10\n"
     ]
    },
    {
     "name": "stderr",
     "output_type": "stream",
     "text": [
      "/home/pankaj/anaconda3/envs/radis-dev/lib/python3.6/site-packages/ipykernel_launcher.py:47: RuntimeWarning: divide by zero encountered in long_scalars\n"
     ]
    },
    {
     "ename": "NameError",
     "evalue": "name 'interpolate' is not defined",
     "output_type": "error",
     "traceback": [
      "\u001b[0;31m---------------------------------------------------------------------------\u001b[0m",
      "\u001b[0;31mNameError\u001b[0m                                 Traceback (most recent call last)",
      "\u001b[0;32m<ipython-input-2-6e6e7b8c1227>\u001b[0m in \u001b[0;36m<module>\u001b[0;34m\u001b[0m\n\u001b[1;32m      1\u001b[0m \u001b[0mx\u001b[0m \u001b[0;34m=\u001b[0m \u001b[0;34m[\u001b[0m\u001b[0;36m1\u001b[0m\u001b[0;34m,\u001b[0m\u001b[0;36m2\u001b[0m\u001b[0;34m,\u001b[0m\u001b[0;36m3\u001b[0m\u001b[0;34m,\u001b[0m\u001b[0;36m4\u001b[0m\u001b[0;34m]\u001b[0m\u001b[0;34m\u001b[0m\u001b[0;34m\u001b[0m\u001b[0m\n\u001b[1;32m      2\u001b[0m \u001b[0my\u001b[0m \u001b[0;34m=\u001b[0m \u001b[0;34m[\u001b[0m\u001b[0;36m10\u001b[0m\u001b[0;34m,\u001b[0m\u001b[0;36m15\u001b[0m\u001b[0;34m,\u001b[0m\u001b[0;36m20\u001b[0m\u001b[0;34m,\u001b[0m\u001b[0;36m25\u001b[0m\u001b[0;34m]\u001b[0m\u001b[0;34m\u001b[0m\u001b[0;34m\u001b[0m\u001b[0m\n\u001b[0;32m----> 3\u001b[0;31m \u001b[0mshift_array\u001b[0m\u001b[0;34m(\u001b[0m\u001b[0mx\u001b[0m\u001b[0;34m,\u001b[0m\u001b[0my\u001b[0m\u001b[0;34m,\u001b[0m\u001b[0;36m2\u001b[0m\u001b[0;34m)\u001b[0m\u001b[0;34m\u001b[0m\u001b[0;34m\u001b[0m\u001b[0m\n\u001b[0m",
      "\u001b[0;32m<ipython-input-1-85bb595df8bc>\u001b[0m in \u001b[0;36mshift_array\u001b[0;34m(t0, y0, shift, nmax, tab)\u001b[0m\n\u001b[1;32m     56\u001b[0m         \u001b[0mstep\u001b[0m \u001b[0;34m=\u001b[0m \u001b[0;34m(\u001b[0m\u001b[0mmax\u001b[0m\u001b[0;34m(\u001b[0m\u001b[0mt\u001b[0m\u001b[0;34m)\u001b[0m \u001b[0;34m-\u001b[0m \u001b[0mmin\u001b[0m\u001b[0;34m(\u001b[0m\u001b[0mt\u001b[0m\u001b[0;34m)\u001b[0m\u001b[0;34m)\u001b[0m \u001b[0;34m/\u001b[0m \u001b[0;34m(\u001b[0m\u001b[0mlen\u001b[0m\u001b[0;34m(\u001b[0m\u001b[0mt\u001b[0m\u001b[0;34m)\u001b[0m \u001b[0;34m-\u001b[0m \u001b[0;36m1\u001b[0m\u001b[0;34m)\u001b[0m \u001b[0;34m/\u001b[0m \u001b[0mn\u001b[0m\u001b[0;34m\u001b[0m\u001b[0;34m\u001b[0m\u001b[0m\n\u001b[1;32m     57\u001b[0m         \u001b[0mtint\u001b[0m \u001b[0;34m=\u001b[0m \u001b[0mnp\u001b[0m\u001b[0;34m.\u001b[0m\u001b[0marange\u001b[0m\u001b[0;34m(\u001b[0m\u001b[0mmin\u001b[0m\u001b[0;34m(\u001b[0m\u001b[0mt\u001b[0m\u001b[0;34m)\u001b[0m\u001b[0;34m,\u001b[0m \u001b[0mmax\u001b[0m\u001b[0;34m(\u001b[0m\u001b[0mt\u001b[0m\u001b[0;34m)\u001b[0m\u001b[0;34m,\u001b[0m \u001b[0mstep\u001b[0m\u001b[0;34m)\u001b[0m\u001b[0;34m\u001b[0m\u001b[0;34m\u001b[0m\u001b[0m\n\u001b[0;32m---> 58\u001b[0;31m         \u001b[0mtck\u001b[0m \u001b[0;34m=\u001b[0m \u001b[0minterpolate\u001b[0m\u001b[0;34m.\u001b[0m\u001b[0msplrep\u001b[0m\u001b[0;34m(\u001b[0m\u001b[0mt\u001b[0m\u001b[0;34m,\u001b[0m \u001b[0my\u001b[0m\u001b[0;34m,\u001b[0m \u001b[0ms\u001b[0m\u001b[0;34m=\u001b[0m\u001b[0;36m0\u001b[0m\u001b[0;34m)\u001b[0m\u001b[0;34m\u001b[0m\u001b[0;34m\u001b[0m\u001b[0m\n\u001b[0m\u001b[1;32m     59\u001b[0m         \u001b[0my\u001b[0m \u001b[0;34m=\u001b[0m \u001b[0minterpolate\u001b[0m\u001b[0;34m.\u001b[0m\u001b[0msplev\u001b[0m\u001b[0;34m(\u001b[0m\u001b[0mtint\u001b[0m\u001b[0;34m,\u001b[0m \u001b[0mtck\u001b[0m\u001b[0;34m,\u001b[0m \u001b[0mder\u001b[0m\u001b[0;34m=\u001b[0m\u001b[0;36m0\u001b[0m\u001b[0;34m)\u001b[0m\u001b[0;34m\u001b[0m\u001b[0;34m\u001b[0m\u001b[0m\n\u001b[1;32m     60\u001b[0m         \u001b[0mt\u001b[0m \u001b[0;34m=\u001b[0m \u001b[0mtint\u001b[0m\u001b[0;34m\u001b[0m\u001b[0;34m\u001b[0m\u001b[0m\n",
      "\u001b[0;31mNameError\u001b[0m: name 'interpolate' is not defined"
     ]
    }
   ],
   "source": [
    "x = [1,2,3,4]\n",
    "y = [10,15,20,25]\n",
    "shift_array(x,y,2)"
   ]
  },
  {
   "cell_type": "markdown",
   "metadata": {},
   "source": [
    "## `find_nearest`"
   ]
  },
  {
   "cell_type": "code",
   "execution_count": 49,
   "metadata": {},
   "outputs": [],
   "source": [
    "def find_nearest(array, searched, returnarg=False):\n",
    "    \"\"\" Return the closest elements in array of 'searched' array. \n",
    "    Also returns a boolean index\n",
    "    \n",
    "    Examples\n",
    "    --------\n",
    "    \n",
    "    ::\n",
    "        \n",
    "        from numpy import array\n",
    "        find_nearest(array([1,2,3,4], array([2.1,2])\n",
    "        \n",
    "        >>> (array([2]), array([False, True, False, False], dtype=bool))\n",
    "        \n",
    "        find_nearest(np.array([1,2,3,4]), np.array([2.6,2]))\n",
    "        \n",
    "        >>> (array([2, 3]), array([False,  True,  True, False], dtype=bool))\n",
    "\n",
    "    \"\"\"\n",
    "\n",
    "    b = np.zeros_like(array, dtype=bool)\n",
    "\n",
    "    #    def find_nearest(array,value):\n",
    "    #    '''  assuming array is sorted. '''\n",
    "    #        idx = np.searchsorted(array, value, side=\"left\")\n",
    "    #        print('idx',idx)\n",
    "    #        if math.fabs(value - array[idx-1]) < math.fabs(value - array[idx]):\n",
    "    #            return idx-1\n",
    "    #        else:\n",
    "    #            return idx\n",
    "\n",
    "    def find_nearest(array, value):\n",
    "        return (np.abs(array - value)).argmin()\n",
    "\n",
    "    try:\n",
    "        for s in searched:\n",
    "            b[find_nearest(array, s)] = True\n",
    "    except:\n",
    "        b[find_nearest(array, searched)] = True\n",
    "\n",
    "    if returnarg:\n",
    "        out = array[b], b, np.argmax(b)\n",
    "    else:\n",
    "        out = array[b], b\n",
    "\n",
    "    return out"
   ]
  },
  {
   "cell_type": "code",
   "execution_count": 50,
   "metadata": {},
   "outputs": [
    {
     "data": {
      "text/plain": [
       "(array([ 5, 10, 13]),\n",
       " array([False, False,  True, False, False,  True,  True, False]))"
      ]
     },
     "execution_count": 50,
     "metadata": {},
     "output_type": "execute_result"
    }
   ],
   "source": [
    "from numpy import array\n",
    "find_nearest(array([1,3,5,7,9,10,13,20]),array([5,12,11.5]))"
   ]
  },
  {
   "cell_type": "markdown",
   "metadata": {},
   "source": [
    "`find_nearest`works fine even with an unsorted array provided `searched` array has a single variable"
   ]
  },
  {
   "cell_type": "code",
   "execution_count": 120,
   "metadata": {},
   "outputs": [
    {
     "data": {
      "text/plain": [
       "(array([25.]),\n",
       " array([False, False, False, False, False, False, False, False,  True]))"
      ]
     },
     "execution_count": 120,
     "metadata": {},
     "output_type": "execute_result"
    }
   ],
   "source": [
    "find_nearest(array([50, 17, 8.9, 30, 5, 2, 1, 100, 25]), array([24]))"
   ]
  },
  {
   "cell_type": "markdown",
   "metadata": {},
   "source": [
    "However, on passing multiple elements in `searched`, the return value is haphazard and the output is a sorted array, not in sync with the input `searched array`"
   ]
  },
  {
   "cell_type": "code",
   "execution_count": 122,
   "metadata": {},
   "outputs": [
    {
     "data": {
      "text/plain": [
       "(array([ 8.9, 25. ]),\n",
       " array([False, False,  True, False, False, False, False, False,  True]))"
      ]
     },
     "execution_count": 122,
     "metadata": {},
     "output_type": "execute_result"
    }
   ],
   "source": [
    "find_nearest(array([50, 17, 8.9, 30, 5, 2, 1, 100, 25]), array([24, 10]))"
   ]
  },
  {
   "cell_type": "code",
   "execution_count": 123,
   "metadata": {},
   "outputs": [
    {
     "data": {
      "text/plain": [
       "(array([ 8.9, 25. ]),\n",
       " array([False, False,  True, False, False, False, False, False,  True]))"
      ]
     },
     "execution_count": 123,
     "metadata": {},
     "output_type": "execute_result"
    }
   ],
   "source": [
    "find_nearest(array([50, 17, 8.9, 30, 5, 2, 1, 100, 25]), array([10, 24]))"
   ]
  },
  {
   "cell_type": "markdown",
   "metadata": {},
   "source": [
    "In case the answer is same for multiple elements of `searched` array, it appears only once in the output"
   ]
  },
  {
   "cell_type": "code",
   "execution_count": 125,
   "metadata": {},
   "outputs": [
    {
     "data": {
      "text/plain": [
       "(array([25.]),\n",
       " array([False, False, False, False, False,  True, False, False, False]))"
      ]
     },
     "execution_count": 125,
     "metadata": {},
     "output_type": "execute_result"
    }
   ],
   "source": [
    "find_nearest(array([1, 2, 5, 8.9,17,25,30,50, 100]), array([24,26]))"
   ]
  },
  {
   "cell_type": "code",
   "execution_count": 127,
   "metadata": {},
   "outputs": [
    {
     "data": {
      "text/plain": [
       "(array([ 1. ,  8.9, 25. ]),\n",
       " array([ True, False, False,  True, False,  True, False, False, False]))"
      ]
     },
     "execution_count": 127,
     "metadata": {},
     "output_type": "execute_result"
    }
   ],
   "source": [
    "find_nearest(array([1, 2, 5, 8.9,17,25,30,50, 100]), array([24,10, 26, 8, 0.5]))"
   ]
  },
  {
   "cell_type": "markdown",
   "metadata": {},
   "source": []
  },
  {
   "cell_type": "markdown",
   "metadata": {},
   "source": [
    "## `is_sorted` and `is_sorted_backward`"
   ]
  },
  {
   "cell_type": "markdown",
   "metadata": {},
   "source": []
  },
  {
   "cell_type": "code",
   "execution_count": 13,
   "metadata": {},
   "outputs": [],
   "source": [
    "def is_sorted_backward(a):\n",
    "    \"\"\" Returns whether ``a`` is sorted in descending order\n",
    "    \n",
    "    See Also\n",
    "    --------\n",
    "    \n",
    "    :func:`~radis.misc.arrays.is_sorted`\n",
    "    \"\"\"\n",
    "    for i in range(a.size - 1):\n",
    "        if a[i + 1] > a[i]:\n",
    "            return False\n",
    "    return True"
   ]
  },
  {
   "cell_type": "code",
   "execution_count": 19,
   "metadata": {},
   "outputs": [
    {
     "data": {
      "text/plain": [
       "True"
      ]
     },
     "execution_count": 19,
     "metadata": {},
     "output_type": "execute_result"
    }
   ],
   "source": [
    "is_sorted_backward(array([111,100,13,1]))"
   ]
  },
  {
   "cell_type": "code",
   "execution_count": 20,
   "metadata": {},
   "outputs": [],
   "source": [
    "def is_sorted(a):\n",
    "    \"\"\" Returns whether ``a`` is sorted in ascending order\n",
    "    \n",
    "    From B.M. answer on StackOverflow: https://stackoverflow.com/a/47004533/5622825\n",
    "    \n",
    "    See Also\n",
    "    --------\n",
    "    \n",
    "    :func:`~radis.misc.arrays.is_sorted_backward`\n",
    "    \"\"\"\n",
    "    for i in range(a.size - 1):\n",
    "        if a[i + 1] < a[i]:\n",
    "            return False\n",
    "    return True"
   ]
  },
  {
   "cell_type": "code",
   "execution_count": 22,
   "metadata": {},
   "outputs": [
    {
     "data": {
      "text/plain": [
       "False"
      ]
     },
     "execution_count": 22,
     "metadata": {},
     "output_type": "execute_result"
    }
   ],
   "source": [
    "is_sorted(array([10,2,3]))"
   ]
  },
  {
   "cell_type": "markdown",
   "metadata": {},
   "source": [
    "\n",
    "\n",
    "\n",
    "\n",
    "\n",
    "## `bining`"
   ]
  },
  {
   "cell_type": "code",
   "execution_count": 23,
   "metadata": {},
   "outputs": [],
   "source": [
    "def bining(I, ymin=None, ymax=None, axis=1):\n",
    "    \"\"\" Averages a I multi-dimensional array (typically an image) along the y axis\n",
    "    bining(I) corresponds to I.mean(axis=1)\n",
    "    Nan are not taken into account\n",
    "    Parameters    \n",
    "    ----------\n",
    "    I: numpy array\n",
    "        intensity\n",
    "    ymin: int [0-I.shape[1]]\n",
    "        If None, 0 is used. Default ``None``.\n",
    "    ymax: int [0-I.shape[1]]\n",
    "        If None, I.shape[1] is used. Default ``None``.\n",
    "    axis: int\n",
    "        Default 1\n",
    "    \"\"\"\n",
    "    I = np.array(I)  # convert to array in case it's a Pandas dataframe for instance\n",
    "    if ymin is None:\n",
    "        ymin = 0\n",
    "    if ymax is None:\n",
    "        ymax = I.shape[axis]\n",
    "    if ymin < 0:\n",
    "        print(\"Warning in bining. ymin ({0}) < 0\".format(ymin))\n",
    "    if ymax > I.shape[axis]:\n",
    "        print(\n",
    "            \"Warning in bining. ymax ({0}) > yaxis length ({1})\".format(\n",
    "                ymax, I.shape[axis]\n",
    "            )\n",
    "        )\n",
    "    return np.nanmean(I[:, ymin:ymax], axis=axis)"
   ]
  },
  {
   "cell_type": "code",
   "execution_count": 30,
   "metadata": {},
   "outputs": [
    {
     "name": "stdout",
     "output_type": "stream",
     "text": [
      "[[10  2 31]\n",
      " [ 5  8 12]\n",
      " [11 11 11]\n",
      " [ 0 -1  4]]\n"
     ]
    }
   ],
   "source": [
    "x = np.array([[10, 2, 31], [5, 8, 12], [11,11,11], [0,-1,4]])\n",
    "print(x)"
   ]
  },
  {
   "cell_type": "code",
   "execution_count": 32,
   "metadata": {},
   "outputs": [
    {
     "name": "stdout",
     "output_type": "stream",
     "text": [
      "[14.33333333  8.33333333 11.          1.        ]\n"
     ]
    }
   ],
   "source": [
    "print(bining(x))"
   ]
  },
  {
   "cell_type": "markdown",
   "metadata": {},
   "source": [
    "Final test for bining"
   ]
  },
  {
   "cell_type": "code",
   "execution_count": 89,
   "metadata": {},
   "outputs": [
    {
     "name": "stdout",
     "output_type": "stream",
     "text": [
      "[[ 0  1  2  3  4]\n",
      " [ 5  6  7  8  9]\n",
      " [10 11 12 13 14]\n",
      " [15 16 17 18 19]]\n"
     ]
    }
   ],
   "source": [
    "a = np.arange(20).reshape(4,5)\n",
    "print(a)"
   ]
  },
  {
   "cell_type": "code",
   "execution_count": 119,
   "metadata": {},
   "outputs": [
    {
     "name": "stdout",
     "output_type": "stream",
     "text": [
      "[ 2.  7. 12. 17.]\n",
      "[ 2.5  7.5 12.5 17.5]\n",
      "[ 1.  6. 11. 16.]\n",
      "Warning in bining. ymax (6) > yaxis length (5)\n",
      "[ 2.5  7.5 12.5 17.5]\n"
     ]
    }
   ],
   "source": [
    "b = bining(a)\n",
    "print((b))\n",
    "b == array([2, 7, 12, 17])\n",
    "c = bining(a, ymin= 1)\n",
    "print(c)\n",
    "assert (c==array([2.5, 7.5, 12.5, 17.5])).all()\n",
    "d = bining(a, ymax= 3)\n",
    "print(d)\n",
    "e = bining(a, ymin =1, ymax = )\n",
    "print(e)"
   ]
  },
  {
   "cell_type": "code",
   "execution_count": 114,
   "metadata": {},
   "outputs": [
    {
     "ename": "AssertionError",
     "evalue": "",
     "output_type": "error",
     "traceback": [
      "\u001b[0;31m---------------------------------------------------------------------------\u001b[0m",
      "\u001b[0;31mAssertionError\u001b[0m                            Traceback (most recent call last)",
      "\u001b[0;32m<ipython-input-114-b04a651b6ebc>\u001b[0m in \u001b[0;36m<module>\u001b[0;34m\u001b[0m\n\u001b[0;32m----> 1\u001b[0;31m \u001b[0;32massert\u001b[0m \u001b[0;32mnot\u001b[0m \u001b[0;36m1\u001b[0m\u001b[0;34m==\u001b[0m\u001b[0;36m1\u001b[0m\u001b[0;34m\u001b[0m\u001b[0;34m\u001b[0m\u001b[0m\n\u001b[0m",
      "\u001b[0;31mAssertionError\u001b[0m: "
     ]
    }
   ],
   "source": [
    "assert 1==1"
   ]
  },
  {
   "cell_type": "markdown",
   "metadata": {},
   "source": [
    "# `find_first`"
   ]
  },
  {
   "cell_type": "code",
   "execution_count": 33,
   "metadata": {},
   "outputs": [],
   "source": [
    "def find_first(arr, treshold):\n",
    "    \"\"\" Return the index of the first element of the array arr whose value\n",
    "    is more than the treshold \"\"\"\n",
    "    return np.argmax(arr > treshold)"
   ]
  },
  {
   "cell_type": "markdown",
   "metadata": {},
   "source": [
    "`find_first` returns `0` when no element in the array exceeds the threshold"
   ]
  },
  {
   "cell_type": "code",
   "execution_count": 71,
   "metadata": {},
   "outputs": [
    {
     "name": "stdout",
     "output_type": "stream",
     "text": [
      "3\n"
     ]
    }
   ],
   "source": [
    "print(find_first(array([5,1,8,10,13,2,20]), 9))"
   ]
  },
  {
   "cell_type": "code",
   "execution_count": 76,
   "metadata": {},
   "outputs": [
    {
     "name": "stdout",
     "output_type": "stream",
     "text": [
      "0\n"
     ]
    }
   ],
   "source": [
    "print(find_first(array([5,1,8,10,13,2,20]), 28))"
   ]
  },
  {
   "cell_type": "code",
   "execution_count": 74,
   "metadata": {},
   "outputs": [
    {
     "name": "stdout",
     "output_type": "stream",
     "text": [
      "4\n"
     ]
    }
   ],
   "source": [
    "print(find_first(array([5,1,8,10,13,2,20]), 11))"
   ]
  },
  {
   "cell_type": "markdown",
   "metadata": {},
   "source": [
    "Final test for `find_first`"
   ]
  },
  {
   "cell_type": "code",
   "execution_count": 87,
   "metadata": {},
   "outputs": [
    {
     "name": "stdout",
     "output_type": "stream",
     "text": [
      "[0 1 2 3 4 5 6 7 8 9]\n",
      "True\n",
      "True\n",
      "True\n",
      "True\n",
      "True\n",
      "True\n"
     ]
    }
   ],
   "source": [
    "a = np.arange(10)\n",
    "print(a)\n",
    "print(find_first(a, -1) == 0)\n",
    "print(find_first(a, 0) == 1)\n",
    "print(find_first(a, 5) == 6)\n",
    "print(find_first(a, 8) == 9)\n",
    "print(find_first(a, 9) == 0)\n",
    "print(find_first(a, 20) == 0)"
   ]
  },
  {
   "cell_type": "code",
   "execution_count": 63,
   "metadata": {},
   "outputs": [
    {
     "data": {
      "text/plain": [
       "array([9, 8, 7, 6, 5, 4, 3, 2, 1, 0])"
      ]
     },
     "execution_count": 63,
     "metadata": {},
     "output_type": "execute_result"
    }
   ],
   "source": [
    "a = np.arange(10)\n",
    "\n",
    "a[::-1]\n",
    "#print(is_sorted(a))\n",
    "#is_sorted_backward(a[::-1])"
   ]
  },
  {
   "cell_type": "markdown",
   "metadata": {},
   "source": [
    "## `calc_diff`"
   ]
  },
  {
   "cell_type": "code",
   "execution_count": 164,
   "metadata": {},
   "outputs": [],
   "source": [
    "from scipy import interpolate\n",
    "def calc_diff(t1, v1, t2, v2):\n",
    "    \"\"\" Substract two vectors that may have slightly offset abscisses \n",
    "    interpolating the correct values \n",
    "    Parameters    \n",
    "    ----------\n",
    "    t1, v1: array_like\n",
    "        first vector and its abscisses\n",
    "    t2, v2: array_like\n",
    "        second vector and its abscisses\n",
    "    Returns\n",
    "    -------\n",
    "    tdiff, vdiff: array_like\n",
    "        substracted vector and its abscisses\n",
    "    \"\"\"\n",
    "\n",
    "    t1, v1, t2, v2 = list(map(np.array, (t1, v1, t2, v2)))\n",
    "\n",
    "    # Deal with inversely sorted case\n",
    "    if t1[-1] < t1[0]:\n",
    "        t1, v1 = t1[::-1], v1[::-1]\n",
    "    if t2[-1] < t2[0]:\n",
    "        t2, v2 = t2[::-1], v2[::-1]\n",
    "\n",
    "    # Get the overlapping range\n",
    "    b = np.logical_and(t2 > t1[0], t2 < t1[-1])\n",
    "\n",
    "    tdiff = t2[b]\n",
    "    v2 = v2[b]\n",
    "\n",
    "    # Interpolate the correct values\n",
    "    f = interpolate.interp1d(t1, v1)\n",
    "    v1 = f(tdiff)\n",
    "\n",
    "    # Finally, substract:\n",
    "    vdiff = v1 - v2\n",
    "\n",
    "    return tdiff, vdiff"
   ]
  },
  {
   "cell_type": "code",
   "execution_count": 138,
   "metadata": {},
   "outputs": [],
   "source": [
    "t1 = array([1,2,3,4,5,6])\n",
    "v1 = array([4.5, 2.0, 3.0, 3.5, 4.0, 5.0])\n",
    "\n",
    "t2 = array([3,4,5,6,7,8])\n",
    "v2  = array([1.5, 5.0, 1.0, 2.5, 3.5, 4.0])\n",
    "\n",
    "td, vd = calc_diff(t1, v1, t2, v2)"
   ]
  },
  {
   "cell_type": "code",
   "execution_count": 139,
   "metadata": {},
   "outputs": [
    {
     "name": "stdout",
     "output_type": "stream",
     "text": [
      "[3 4 5]\n",
      "[ 1.5 -1.5  3. ]\n"
     ]
    }
   ],
   "source": [
    "print(td)\n",
    "print(vd)"
   ]
  },
  {
   "cell_type": "code",
   "execution_count": 145,
   "metadata": {},
   "outputs": [],
   "source": [
    "x1 = array([1,2,3])\n",
    "x2 = array([1,2,3])"
   ]
  },
  {
   "cell_type": "code",
   "execution_count": 182,
   "metadata": {},
   "outputs": [
    {
     "name": "stdout",
     "output_type": "stream",
     "text": [
      "[2 3 4]\n",
      "[ 4.  0. -4.]\n"
     ]
    }
   ],
   "source": [
    "#t1 = np.arange(5)\n",
    "#t2 = np.arange(5)\n",
    "t1 = array([1,2,3,4,5])\n",
    "t2 = array([1,2,3,4,5])\n",
    "v1 = np.array([10,12,14,16,18])\n",
    "v2 = np.array([10,12,14,16,18])\n",
    "\n",
    "tres, vres = calc_diff(t2[::-1], v1, t2, v2)\n",
    "# print(type(tres))\n",
    "# print(type(t1))\n",
    "# print(type(t2))\n",
    "print(tres)\n",
    "print(vres)\n",
    "# print(t1)\n",
    "# print(t2)\n",
    "#assert (calc_diff(t1, v1, t2, v2) == array([2,3,4]), array([0,0,0])\n",
    "#assert (tres == array([2,3,4])).all()\n",
    "#assert (vres == array([0,0,0])).all()"
   ]
  },
  {
   "cell_type": "code",
   "execution_count": 168,
   "metadata": {},
   "outputs": [
    {
     "data": {
      "text/plain": [
       "array([3, 4, 5, 6, 7])"
      ]
     },
     "execution_count": 168,
     "metadata": {},
     "output_type": "execute_result"
    }
   ],
   "source": [
    "t1+2"
   ]
  },
  {
   "cell_type": "code",
   "execution_count": null,
   "metadata": {},
   "outputs": [],
   "source": []
  }
 ],
 "metadata": {
  "kernelspec": {
   "display_name": "Python 3",
   "language": "python",
   "name": "python3"
  },
  "language_info": {
   "codemirror_mode": {
    "name": "ipython",
    "version": 3
   },
   "file_extension": ".py",
   "mimetype": "text/x-python",
   "name": "python",
   "nbconvert_exporter": "python",
   "pygments_lexer": "ipython3",
   "version": "3.6.10"
  }
 },
 "nbformat": 4,
 "nbformat_minor": 4
}
