{
 "cells": [
  {
   "cell_type": "code",
   "execution_count": 1,
   "metadata": {},
   "outputs": [],
   "source": [
    "from astropy import units as u"
   ]
  },
  {
   "cell_type": "code",
   "execution_count": 16,
   "metadata": {},
   "outputs": [],
   "source": [
    "def convert_and_strip_units(quantity, output_unit=None, digit=10):\n",
    "    \"\"\"\n",
    "    Strips units and return the numerical value.\n",
    "\n",
    "    Parameters\n",
    "    ----------\n",
    "    quantity : int or float or list or None or ~astropy.units.quantity.Quantity\n",
    "        Numerical quantity. Pass it without including units if default units are intended.\n",
    "    output_unit : ~astropy.units.core.UnitBase or ~astropy.units.quantity.Quantity\n",
    "        The default units in which the quantity is to be converted before extracting the value.\n",
    "\n",
    "    Other Parameters\n",
    "    ----------------\n",
    "    \n",
    "    round: int\n",
    "        round to that number of digit after conversion. Default ``10``. Set to \n",
    "        ``None`` to disable.\n",
    "\n",
    "    Returns\n",
    "    -------\n",
    "    int or float or None or ~numpy.ndarray\n",
    "        The numerical value extracted from ``quantity``\n",
    "\n",
    "    Examples\n",
    "    --------\n",
    "    \n",
    "        >>> convert_and_strip_units(4.5 * u.um, u.nm)\n",
    "        <<< 4500.0\n",
    "\n",
    "        >>> convert_and_strip_units(200000 * (u.m)**-1, 1/u.cm)\n",
    "        <<< 2000.0\n",
    "\n",
    "    Raises\n",
    "    ------\n",
    "    TypeError\n",
    "        Raised when ``quantity`` is a astropy.units quantity and ``output_unit`` is ``None``.\n",
    "    \n",
    "    \"\"\"\n",
    "    if isinstance(quantity, u.Quantity):\n",
    "        if output_unit in (u.deg_C, u.imperial.deg_F, u.K):\n",
    "            quantity = quantity.to_value(output_unit, equivalencies=u.temperature())\n",
    "        elif isinstance(output_unit, (u.UnitBase, u.Quantity)):\n",
    "            quantity = quantity.to_value(output_unit, equivalencies=u.spectral())\n",
    "        else:\n",
    "            raise TypeError(\n",
    "                \"'output_unit' parameter is not a valid astropy unit: {0}\".format(\n",
    "                    output_unit\n",
    "                )\n",
    "            )\n",
    "\n",
    "        if digit:\n",
    "            quantity = round(quantity, digit)\n",
    "\n",
    "    return quantity"
   ]
  },
  {
   "cell_type": "code",
   "execution_count": 3,
   "metadata": {},
   "outputs": [
    {
     "data": {
      "text/plain": [
       "10.0"
      ]
     },
     "execution_count": 3,
     "metadata": {},
     "output_type": "execute_result"
    }
   ],
   "source": [
    "casu(10*u.cm, (u.m)**-1)"
   ]
  },
  {
   "cell_type": "code",
   "execution_count": 4,
   "metadata": {},
   "outputs": [],
   "source": [
    "l = None"
   ]
  },
  {
   "cell_type": "code",
   "execution_count": 5,
   "metadata": {},
   "outputs": [
    {
     "name": "stdout",
     "output_type": "stream",
     "text": [
      "None\n"
     ]
    }
   ],
   "source": [
    "print(casu(l, u.cm))"
   ]
  },
  {
   "cell_type": "code",
   "execution_count": 6,
   "metadata": {},
   "outputs": [
    {
     "name": "stdout",
     "output_type": "stream",
     "text": [
      "<class 'int'>\n"
     ]
    }
   ],
   "source": [
    "print(type(casu(10, u.cm)))"
   ]
  },
  {
   "cell_type": "code",
   "execution_count": 7,
   "metadata": {},
   "outputs": [],
   "source": [
    "lm = 18 * u.m"
   ]
  },
  {
   "cell_type": "code",
   "execution_count": 8,
   "metadata": {},
   "outputs": [
    {
     "name": "stdout",
     "output_type": "stream",
     "text": [
      "<class 'astropy.units.quantity.Quantity'>\n"
     ]
    }
   ],
   "source": [
    "print(type(lm))"
   ]
  },
  {
   "cell_type": "code",
   "execution_count": 9,
   "metadata": {},
   "outputs": [
    {
     "data": {
      "text/plain": [
       "astropy.units.quantity.Quantity"
      ]
     },
     "execution_count": 9,
     "metadata": {},
     "output_type": "execute_result"
    }
   ],
   "source": [
    "type(10 * u.Unit(\"m-1\"))"
   ]
  },
  {
   "cell_type": "code",
   "execution_count": 11,
   "metadata": {},
   "outputs": [],
   "source": [
    "def air2vacuum(wv):\n",
    "    return 1.2*wv"
   ]
  },
  {
   "cell_type": "code",
   "execution_count": 12,
   "metadata": {},
   "outputs": [],
   "source": [
    "def nm2cm(wv):\n",
    "    return wv/(10**7)"
   ]
  },
  {
   "cell_type": "code",
   "execution_count": 26,
   "metadata": {},
   "outputs": [],
   "source": [
    "l = 10* u.cm"
   ]
  },
  {
   "cell_type": "code",
   "execution_count": 27,
   "metadata": {},
   "outputs": [
    {
     "name": "stdout",
     "output_type": "stream",
     "text": [
      "<class 'astropy.units.quantity.Quantity'>\n"
     ]
    }
   ],
   "source": [
    "print(type(l))"
   ]
  },
  {
   "cell_type": "code",
   "execution_count": 29,
   "metadata": {},
   "outputs": [
    {
     "data": {
      "text/plain": [
       "True"
      ]
     },
     "execution_count": 29,
     "metadata": {},
     "output_type": "execute_result"
    }
   ],
   "source": [
    "l.unit.is_equivalent(u.m)"
   ]
  },
  {
   "cell_type": "code",
   "execution_count": 21,
   "metadata": {},
   "outputs": [],
   "source": [
    "def get_waverange(\n",
    "    wmin=None,\n",
    "    wmax=None,\n",
    "    wunit=None,\n",
    "    wavenum_min=None,\n",
    "    wavenum_max=None,\n",
    "    wavelength_min=None,\n",
    "    wavelength_max=None,\n",
    "    medium=\"air\",\n",
    "):\n",
    "    \"\"\" Returns wavenumber based on whatever input was given: either ν_min, ν_max \n",
    "    directly, or λ_min, λ_max  in the given propagation ``medium``.\n",
    "\n",
    "    Parameters\n",
    "    ----------\n",
    "\n",
    "    medium: ``'air'``, ``'vacuum'``\n",
    "        propagation medium\n",
    "\n",
    "    wavenum_min, wavenum_max: float, or ~astropy.units.quantity.Quantity or ``None``\n",
    "        wavenumbers\n",
    "\n",
    "    wavelength_min, wavelength_max: float, or ~astropy.units.quantity.Quantity or ``None``\n",
    "        wavelengths in given ``medium``\n",
    "\n",
    "    Returns\n",
    "    -------\n",
    "\n",
    "    wavenum_min, wavenum_max,: float\n",
    "        wavenumbers\n",
    "\n",
    "    \"\"\"\n",
    "\n",
    "    # Check input\n",
    "    if (isinstance(wmin, u.Quantity) or isinstance(wmin, u.Quantity)) and wunit is not None:\n",
    "        raise ValueError(\"Cannot pass units with both wavelength and wave unit\")\n",
    "\n",
    "    if wunit is not None:\n",
    "        assert wunit.is_equivalent(u.m) or wunit.is_equivalent(u.m-1)\n",
    "        assert not isinstance(wmin, u.Quantity)\n",
    "        assert not isinstance(wmax, u.Quantity)\n",
    "\n",
    "        wmin = wmin * u.Unit(wunit)\n",
    "        wmax = wmax * u.Unit(wunit)\n",
    "    \n",
    "    elif wmin is not None or wmax is not None:\n",
    "        assert wmin is not None\n",
    "        assert wmax is not None\n",
    "        \n",
    "        assert wmin.unit.is_equivalent(u.m) or wmin.unit.is_equivalent(u.m-1)\n",
    "        assert wmax.unit.is_equivalent(u.m) or wmax.unit.is_equivalent(u.m-1)\n",
    "        assert wmin.unit.is_equivalent(wmax.unit)\n",
    "        \n",
    "        if wmin.unit.is_equivalent(u.m)\n",
    "            represent_wavelength = True\n",
    "        else \n",
    "            represent_wavenumber = True\n",
    "        \n",
    "        \n",
    "        \n",
    "\n",
    "    wmin = convert_and_strip_units(wmin, 1 / u.cm)\n",
    "    wmax = convert_and_strip_units(wmax, 1 / u.cm)\n",
    "    wavelength_min = convert_and_strip_units(wavelength_min, u.nm)\n",
    "    wavelength_max = convert_and_strip_units(wavelength_max, u.nm)\n",
    "    wavenum_min = convert_and_strip_units(wavenum_min, 1 / u.cm)\n",
    "    wavenum_max = convert_and_strip_units(wavenum_max, 1 / u.cm)\n",
    "    if (\n",
    "        wmin is None\n",
    "        and wmax is None\n",
    "        and wavelength_min is None\n",
    "        and wavelength_max is None\n",
    "        and wavenum_min is None\n",
    "        and wavenum_max is None\n",
    "    ):\n",
    "        raise ValueError(\"Give wavenumber or wavelength\")\n",
    "\n",
    "    # check if only one pair of values has been passed\n",
    "    w_present = wmin is not None or wmax is not None\n",
    "    wavenum_present = wavenum_min is not None or wavenum_max is not None\n",
    "    wavelength_present = wavelength_min is not None or wavelength_max is not None\n",
    "    if w_present + wavenum_present + wavelength_present >= 2:\n",
    "        raise ValueError(\"Cannot pass more than one set of values as input\")\n",
    "    assert medium in [\"air\", \"vacuum\"]\n",
    "\n",
    "    # Get all waveranges\n",
    "\n",
    "    if wmin is not None and wmax is not None:\n",
    "        assert wavenum_min is None and wavenum_max is None\n",
    "        assert wavelength_min is None and wavelength_max is None\n",
    "        print(\"wmin= \", wmin)\n",
    "        print(\"wmax=\", wmax)\n",
    "        assert wmin < wmax\n",
    "        wavenum_min = wmin\n",
    "        wavenum_max = wmax\n",
    "\n",
    "    # ... Input is in wavelength:\n",
    "    if wavenum_min is None and wavenum_max is None:\n",
    "        assert wavelength_max is not None\n",
    "        assert wavelength_min is not None\n",
    "        # Test range is correct:\n",
    "        assert wavelength_min < wavelength_max\n",
    "\n",
    "        # In wavelength mode, the propagating medium matters. Convert to\n",
    "        # calculation medium (vacuum) if needed:\n",
    "        if medium == \"air\":\n",
    "            wavelength_min_vac = air2vacuum(wavelength_min)\n",
    "            wavelength_max_vac = air2vacuum(wavelength_max)\n",
    "        else:\n",
    "            wavelength_min_vac = wavelength_min\n",
    "            wavelength_max_vac = wavelength_max\n",
    "\n",
    "        wavenum_min = nm2cm(wavelength_max_vac)\n",
    "        wavenum_max = nm2cm(wavelength_min_vac)\n",
    "    # ... or input is in wavenumber:\n",
    "    else:\n",
    "        assert wavenum_min is not None\n",
    "        assert wavenum_max is not None\n",
    "        # Test range is correct:\n",
    "        assert wavenum_min < wavenum_max\n",
    "\n",
    "    return wavenum_min, wavenum_max\n"
   ]
  },
  {
   "cell_type": "code",
   "execution_count": 25,
   "metadata": {},
   "outputs": [
    {
     "name": "stdout",
     "output_type": "stream",
     "text": [
      "wmin=  0.0008333333\n",
      "wmax= 0.0007142857\n"
     ]
    },
    {
     "ename": "AssertionError",
     "evalue": "",
     "output_type": "error",
     "traceback": [
      "\u001b[0;31m---------------------------------------------------------------------------\u001b[0m",
      "\u001b[0;31mAssertionError\u001b[0m                            Traceback (most recent call last)",
      "\u001b[0;32m<ipython-input-25-4e9392cb4226>\u001b[0m in \u001b[0;36m<module>\u001b[0;34m\u001b[0m\n\u001b[0;32m----> 1\u001b[0;31m \u001b[0mget_waverange\u001b[0m\u001b[0;34m(\u001b[0m\u001b[0;36m1200\u001b[0m \u001b[0;34m*\u001b[0m \u001b[0mu\u001b[0m\u001b[0;34m.\u001b[0m\u001b[0mcm\u001b[0m\u001b[0;34m,\u001b[0m \u001b[0;36m1400\u001b[0m \u001b[0;34m*\u001b[0m \u001b[0mu\u001b[0m\u001b[0;34m.\u001b[0m\u001b[0mcm\u001b[0m\u001b[0;34m)\u001b[0m\u001b[0;34m\u001b[0m\u001b[0;34m\u001b[0m\u001b[0m\n\u001b[0m",
      "\u001b[0;32m<ipython-input-21-241e222931fd>\u001b[0m in \u001b[0;36mget_waverange\u001b[0;34m(wmin, wmax, wunit, wavenum_min, wavenum_max, wavelength_min, wavelength_max, medium)\u001b[0m\n\u001b[1;32m     74\u001b[0m         \u001b[0mprint\u001b[0m\u001b[0;34m(\u001b[0m\u001b[0;34m\"wmin= \"\u001b[0m\u001b[0;34m,\u001b[0m \u001b[0mwmin\u001b[0m\u001b[0;34m)\u001b[0m\u001b[0;34m\u001b[0m\u001b[0;34m\u001b[0m\u001b[0m\n\u001b[1;32m     75\u001b[0m         \u001b[0mprint\u001b[0m\u001b[0;34m(\u001b[0m\u001b[0;34m\"wmax=\"\u001b[0m\u001b[0;34m,\u001b[0m \u001b[0mwmax\u001b[0m\u001b[0;34m)\u001b[0m\u001b[0;34m\u001b[0m\u001b[0;34m\u001b[0m\u001b[0m\n\u001b[0;32m---> 76\u001b[0;31m         \u001b[0;32massert\u001b[0m \u001b[0mwmin\u001b[0m \u001b[0;34m<\u001b[0m \u001b[0mwmax\u001b[0m\u001b[0;34m\u001b[0m\u001b[0;34m\u001b[0m\u001b[0m\n\u001b[0m\u001b[1;32m     77\u001b[0m         \u001b[0mwavenum_min\u001b[0m \u001b[0;34m=\u001b[0m \u001b[0mwmin\u001b[0m\u001b[0;34m\u001b[0m\u001b[0;34m\u001b[0m\u001b[0m\n\u001b[1;32m     78\u001b[0m         \u001b[0mwavenum_max\u001b[0m \u001b[0;34m=\u001b[0m \u001b[0mwmax\u001b[0m\u001b[0;34m\u001b[0m\u001b[0;34m\u001b[0m\u001b[0m\n",
      "\u001b[0;31mAssertionError\u001b[0m: "
     ]
    }
   ],
   "source": [
    "get_waverange(1200 * u.cm, 1400 * u.cm)"
   ]
  },
  {
   "cell_type": "code",
   "execution_count": null,
   "metadata": {},
   "outputs": [],
   "source": []
  }
 ],
 "metadata": {
  "kernelspec": {
   "display_name": "Python 3",
   "language": "python",
   "name": "python3"
  },
  "language_info": {
   "codemirror_mode": {
    "name": "ipython",
    "version": 3
   },
   "file_extension": ".py",
   "mimetype": "text/x-python",
   "name": "python",
   "nbconvert_exporter": "python",
   "pygments_lexer": "ipython3",
   "version": "3.6.10"
  }
 },
 "nbformat": 4,
 "nbformat_minor": 4
}
