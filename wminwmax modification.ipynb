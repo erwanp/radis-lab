{
 "cells": [
  {
   "cell_type": "code",
   "execution_count": 1,
   "metadata": {},
   "outputs": [],
   "source": [
    "from astropy import units as u"
   ]
  },
  {
   "cell_type": "code",
   "execution_count": 16,
   "metadata": {},
   "outputs": [],
   "source": [
    "def convert_and_strip_units(quantity, output_unit=None, digit=10):\n",
    "    \"\"\"\n",
    "    Strips units and return the numerical value.\n",
    "\n",
    "    Parameters\n",
    "    ----------\n",
    "    quantity : int or float or list or None or ~astropy.units.quantity.Quantity\n",
    "        Numerical quantity. Pass it without including units if default units are intended.\n",
    "    output_unit : ~astropy.units.core.UnitBase or ~astropy.units.quantity.Quantity\n",
    "        The default units in which the quantity is to be converted before extracting the value.\n",
    "\n",
    "    Other Parameters\n",
    "    ----------------\n",
    "    \n",
    "    round: int\n",
    "        round to that number of digit after conversion. Default ``10``. Set to \n",
    "        ``None`` to disable.\n",
    "\n",
    "    Returns\n",
    "    -------\n",
    "    int or float or None or ~numpy.ndarray\n",
    "        The numerical value extracted from ``quantity``\n",
    "\n",
    "    Examples\n",
    "    --------\n",
    "    \n",
    "        >>> convert_and_strip_units(4.5 * u.um, u.nm)\n",
    "        <<< 4500.0\n",
    "\n",
    "        >>> convert_and_strip_units(200000 * (u.m)**-1, 1/u.cm)\n",
    "        <<< 2000.0\n",
    "\n",
    "    Raises\n",
    "    ------\n",
    "    TypeError\n",
    "        Raised when ``quantity`` is a astropy.units quantity and ``output_unit`` is ``None``.\n",
    "    \n",
    "    \"\"\"\n",
    "    if isinstance(quantity, u.Quantity):\n",
    "        if output_unit in (u.deg_C, u.imperial.deg_F, u.K):\n",
    "            quantity = quantity.to_value(output_unit, equivalencies=u.temperature())\n",
    "        elif isinstance(output_unit, (u.UnitBase, u.Quantity)):\n",
    "            quantity = quantity.to_value(output_unit, equivalencies=u.spectral())\n",
    "        else:\n",
    "            raise TypeError(\n",
    "                \"'output_unit' parameter is not a valid astropy unit: {0}\".format(\n",
    "                    output_unit\n",
    "                )\n",
    "            )\n",
    "\n",
    "        if digit:\n",
    "            quantity = round(quantity, digit)\n",
    "\n",
    "    return quantity"
   ]
  },
  {
   "cell_type": "code",
   "execution_count": 3,
   "metadata": {},
   "outputs": [
    {
     "data": {
      "text/plain": [
       "10.0"
      ]
     },
     "execution_count": 3,
     "metadata": {},
     "output_type": "execute_result"
    }
   ],
   "source": [
    "casu(10*u.cm, (u.m)**-1)"
   ]
  },
  {
   "cell_type": "code",
   "execution_count": 4,
   "metadata": {},
   "outputs": [],
   "source": [
    "l = None"
   ]
  },
  {
   "cell_type": "code",
   "execution_count": 5,
   "metadata": {},
   "outputs": [
    {
     "name": "stdout",
     "output_type": "stream",
     "text": [
      "None\n"
     ]
    }
   ],
   "source": [
    "print(casu(l, u.cm))"
   ]
  },
  {
   "cell_type": "code",
   "execution_count": 6,
   "metadata": {},
   "outputs": [
    {
     "name": "stdout",
     "output_type": "stream",
     "text": [
      "<class 'int'>\n"
     ]
    }
   ],
   "source": [
    "print(type(casu(10, u.cm)))"
   ]
  },
  {
   "cell_type": "code",
   "execution_count": 7,
   "metadata": {},
   "outputs": [],
   "source": [
    "lm = 18 * u.m"
   ]
  },
  {
   "cell_type": "code",
   "execution_count": 8,
   "metadata": {},
   "outputs": [
    {
     "name": "stdout",
     "output_type": "stream",
     "text": [
      "<class 'astropy.units.quantity.Quantity'>\n"
     ]
    }
   ],
   "source": [
    "print(type(lm))"
   ]
  },
  {
   "cell_type": "code",
   "execution_count": 9,
   "metadata": {},
   "outputs": [
    {
     "data": {
      "text/plain": [
       "astropy.units.quantity.Quantity"
      ]
     },
     "execution_count": 9,
     "metadata": {},
     "output_type": "execute_result"
    }
   ],
   "source": [
    "type(10 * u.Unit(\"m-1\"))"
   ]
  },
  {
   "cell_type": "code",
   "execution_count": 11,
   "metadata": {},
   "outputs": [],
   "source": [
    "def air2vacuum(wv):\n",
    "    return 1.2*wv"
   ]
  },
  {
   "cell_type": "code",
   "execution_count": 12,
   "metadata": {},
   "outputs": [],
   "source": [
    "def nm2cm(wv):\n",
    "    return wv/(10**7)"
   ]
  },
  {
   "cell_type": "code",
   "execution_count": 26,
   "metadata": {},
   "outputs": [],
   "source": [
    "l = 10* u.cm"
   ]
  },
  {
   "cell_type": "code",
   "execution_count": 27,
   "metadata": {},
   "outputs": [
    {
     "name": "stdout",
     "output_type": "stream",
     "text": [
      "<class 'astropy.units.quantity.Quantity'>\n"
     ]
    }
   ],
   "source": [
    "print(type(l))"
   ]
  },
  {
   "cell_type": "code",
   "execution_count": 29,
   "metadata": {},
   "outputs": [
    {
     "data": {
      "text/plain": [
       "True"
      ]
     },
     "execution_count": 29,
     "metadata": {},
     "output_type": "execute_result"
    }
   ],
   "source": [
    "l.unit.is_equivalent(u.m)"
   ]
  },
  {
   "cell_type": "code",
   "execution_count": 118,
   "metadata": {},
   "outputs": [],
   "source": [
    "def get_waverange(\n",
    "    wmin=None,\n",
    "    wmax=None,\n",
    "    wunit=None,\n",
    "    wavenum_min=None,\n",
    "    wavenum_max=None,\n",
    "    wavelength_min=None,\n",
    "    wavelength_max=None,\n",
    "    medium=\"air\",\n",
    "):\n",
    "    \"\"\" Returns wavenumber based on whatever input was given: either ν_min, ν_max \n",
    "    directly, or λ_min, λ_max  in the given propagation ``medium``.\n",
    "\n",
    "    Parameters\n",
    "    ----------\n",
    "\n",
    "    medium: ``'air'``, ``'vacuum'``\n",
    "        propagation medium\n",
    "\n",
    "    wavenum_min, wavenum_max: float, or ~astropy.units.quantity.Quantity or ``None``\n",
    "        wavenumbers\n",
    "\n",
    "    wavelength_min, wavelength_max: float, or ~astropy.units.quantity.Quantity or ``None``\n",
    "        wavelengths in given ``medium``\n",
    "\n",
    "    Returns\n",
    "    -------\n",
    "\n",
    "    wavenum_min, wavenum_max,: float\n",
    "        wavenumbers\n",
    "\n",
    "    \"\"\"\n",
    "\n",
    "    # Check input\n",
    "    if (isinstance(wmin, u.Quantity) or isinstance(wmin, u.Quantity)) and wunit is not None:\n",
    "        raise ValueError(\"Cannot pass units with both wavelength and wave unit\")\n",
    "\n",
    "    represent_wavelength = False\n",
    "    represent_wavenum = False\n",
    "    \n",
    "    if wunit is not None:\n",
    "        assert wmin is not None and wmax is not None\n",
    "        assert u.Unit(wunit).is_equivalent(u.m) or u.Unit(wunit).is_equivalent(1 / u.m)\n",
    "        assert not isinstance(wmin, u.Quantity)\n",
    "        assert not isinstance(wmax, u.Quantity)\n",
    "        \n",
    "        wmin = wmin * u.Unit(wunit)\n",
    "        wmax = wmax * u.Unit(wunit)\n",
    "\n",
    "    if wmin is not None or wmax is not None:\n",
    "        assert wmin is not None and wmax is not None\n",
    "        assert isinstance(wmin, u.Quantity) and isinstance(wmax, u.Quantity)\n",
    "        assert wmin.unit.is_equivalent(u.m) or wmin.unit.is_equivalent(1 / u.m)\n",
    "        assert wmax.unit.is_equivalent(u.m) or wmax.unit.is_equivalent(1 / u.m)\n",
    "        assert wmin.unit.is_equivalent(wmax.unit)\n",
    "        \n",
    "        if wmin.unit.is_equivalent(u.m):\n",
    "            represent_wavelength = True\n",
    "            wmin = convert_and_strip_units(wmin, u.nm)\n",
    "            wmax = convert_and_strip_units(wmax, u.nm)\n",
    "        else:\n",
    "            represent_wavenum = True\n",
    "            wmin = convert_and_strip_units(wmin, 1 / u.cm)\n",
    "            wmax = convert_and_strip_units(wmax, 1 / u.cm)\n",
    "  \n",
    "    wavelength_min = convert_and_strip_units(wavelength_min, u.nm)\n",
    "    wavelength_max = convert_and_strip_units(wavelength_max, u.nm)\n",
    "    wavenum_min = convert_and_strip_units(wavenum_min, 1 / u.cm)\n",
    "    wavenum_max = convert_and_strip_units(wavenum_max, 1 / u.cm)\n",
    "    if (\n",
    "        wmin is None\n",
    "        and wmax is None\n",
    "        and wavelength_min is None\n",
    "        and wavelength_max is None\n",
    "        and wavenum_min is None\n",
    "        and wavenum_max is None\n",
    "    ):\n",
    "        raise ValueError(\"Give wavenumber or wavelength\")\n",
    "\n",
    "    # check if only one pair of values has been passed\n",
    "    w_present = wmin is not None or wmax is not None\n",
    "    wavenum_present = wavenum_min is not None or wavenum_max is not None\n",
    "    wavelength_present = wavelength_min is not None or wavelength_max is not None\n",
    "    if w_present + wavenum_present + wavelength_present >= 2:\n",
    "        raise ValueError(\"Cannot pass more than one set of values as input\")\n",
    "    assert medium in [\"air\", \"vacuum\"]\n",
    "\n",
    "    # Get all waveranges\n",
    "\n",
    "    if wmin is not None and wmax is not None:\n",
    "        assert wavenum_min is None and wavenum_max is None\n",
    "        assert wavelength_min is None and wavelength_max is None\n",
    "        \n",
    "        if represent_wavelength:\n",
    "            wavelength_min = wmin\n",
    "            wavelength_max = wmax\n",
    "        elif represent_wavenum:\n",
    "            wavenum_min = wmin\n",
    "            wavenum_max = wmax\n",
    "\n",
    "    # ... Input is in wavelength:\n",
    "    if wavenum_min is None and wavenum_max is None:\n",
    "        assert wavelength_max is not None\n",
    "        assert wavelength_min is not None\n",
    "        # Test range is correct:\n",
    "        assert wavelength_min < wavelength_max\n",
    "\n",
    "        # In wavelength mode, the propagating medium matters. Convert to\n",
    "        # calculation medium (vacuum) if needed:\n",
    "        if medium == \"air\":\n",
    "            wavelength_min_vac = air2vacuum(wavelength_min)\n",
    "            wavelength_max_vac = air2vacuum(wavelength_max)\n",
    "        else:\n",
    "            wavelength_min_vac = wavelength_min\n",
    "            wavelength_max_vac = wavelength_max\n",
    "\n",
    "        wavenum_min = nm2cm(wavelength_max_vac)\n",
    "        wavenum_max = nm2cm(wavelength_min_vac)\n",
    "    # ... or input is in wavenumber:\n",
    "    else:\n",
    "        assert wavenum_min is not None\n",
    "        assert wavenum_max is not None\n",
    "        # Test range is correct:\n",
    "        assert wavenum_min < wavenum_max\n",
    "\n",
    "    return wavenum_min, wavenum_max\n"
   ]
  },
  {
   "cell_type": "code",
   "execution_count": 107,
   "metadata": {},
   "outputs": [
    {
     "data": {
      "text/plain": [
       "(1680.0, 1440.0)"
      ]
     },
     "execution_count": 107,
     "metadata": {},
     "output_type": "execute_result"
    }
   ],
   "source": [
    "get_waverange(1200 * u.cm, 1400 * u.cm)"
   ]
  },
  {
   "cell_type": "code",
   "execution_count": 108,
   "metadata": {},
   "outputs": [
    {
     "data": {
      "text/plain": [
       "(1680.0, 1440.0)"
      ]
     },
     "execution_count": 108,
     "metadata": {},
     "output_type": "execute_result"
    }
   ],
   "source": [
    "get_waverange(wavelength_min=1200 * u.cm, wavelength_max=1400 * u.cm)"
   ]
  },
  {
   "cell_type": "code",
   "execution_count": 109,
   "metadata": {},
   "outputs": [
    {
     "data": {
      "text/plain": [
       "(1200.0, 1400.0)"
      ]
     },
     "execution_count": 109,
     "metadata": {},
     "output_type": "execute_result"
    }
   ],
   "source": [
    "get_waverange(1200 * u.cm**-1, 1400 * u.cm**-1)"
   ]
  },
  {
   "cell_type": "code",
   "execution_count": 110,
   "metadata": {},
   "outputs": [
    {
     "data": {
      "text/plain": [
       "(1200, 1400)"
      ]
     },
     "execution_count": 110,
     "metadata": {},
     "output_type": "execute_result"
    }
   ],
   "source": [
    "get_waverange(wavenum_min = 1200, wavenum_max=1400)"
   ]
  },
  {
   "cell_type": "code",
   "execution_count": 111,
   "metadata": {},
   "outputs": [
    {
     "data": {
      "text/plain": [
       "(0.000168, 0.000144)"
      ]
     },
     "execution_count": 111,
     "metadata": {},
     "output_type": "execute_result"
    }
   ],
   "source": [
    "get_waverange(1200, 1400, wunit='nm')"
   ]
  },
  {
   "cell_type": "code",
   "execution_count": 112,
   "metadata": {},
   "outputs": [
    {
     "data": {
      "text/plain": [
       "(0.000168, 0.000144)"
      ]
     },
     "execution_count": 112,
     "metadata": {},
     "output_type": "execute_result"
    }
   ],
   "source": [
    "get_waverange(wavelength_min=1200, wavelength_max=1400) "
   ]
  },
  {
   "cell_type": "code",
   "execution_count": 113,
   "metadata": {},
   "outputs": [
    {
     "data": {
      "text/plain": [
       "(1200.0, 1400.0)"
      ]
     },
     "execution_count": 113,
     "metadata": {},
     "output_type": "execute_result"
    }
   ],
   "source": [
    "get_waverange(1200, 1400, wunit='1/cm')"
   ]
  },
  {
   "cell_type": "code",
   "execution_count": 114,
   "metadata": {},
   "outputs": [
    {
     "data": {
      "text/plain": [
       "(1200, 1400)"
      ]
     },
     "execution_count": 114,
     "metadata": {},
     "output_type": "execute_result"
    }
   ],
   "source": [
    "get_waverange(wavenum_min=1200, wavenum_max=1400)"
   ]
  },
  {
   "cell_type": "code",
   "execution_count": 116,
   "metadata": {},
   "outputs": [
    {
     "ename": "ValueError",
     "evalue": "Cannot pass units with both wavelength and wave unit",
     "output_type": "error",
     "traceback": [
      "\u001b[0;31m---------------------------------------------------------------------------\u001b[0m",
      "\u001b[0;31mValueError\u001b[0m                                Traceback (most recent call last)",
      "\u001b[0;32m<ipython-input-116-e5c60997f807>\u001b[0m in \u001b[0;36m<module>\u001b[0;34m\u001b[0m\n\u001b[0;32m----> 1\u001b[0;31m \u001b[0mget_waverange\u001b[0m\u001b[0;34m(\u001b[0m\u001b[0;36m1200\u001b[0m\u001b[0;34m*\u001b[0m\u001b[0mu\u001b[0m\u001b[0;34m.\u001b[0m\u001b[0mcm\u001b[0m\u001b[0;34m,\u001b[0m \u001b[0;36m1000\u001b[0m\u001b[0;34m*\u001b[0m\u001b[0mu\u001b[0m\u001b[0;34m.\u001b[0m\u001b[0mcm\u001b[0m\u001b[0;34m,\u001b[0m \u001b[0mwunit\u001b[0m \u001b[0;34m=\u001b[0m \u001b[0;34m\"1/m\"\u001b[0m\u001b[0;34m)\u001b[0m\u001b[0;34m\u001b[0m\u001b[0;34m\u001b[0m\u001b[0m\n\u001b[0m",
      "\u001b[0;32m<ipython-input-106-20de2b4ffb5e>\u001b[0m in \u001b[0;36mget_waverange\u001b[0;34m(wmin, wmax, wunit, wavenum_min, wavenum_max, wavelength_min, wavelength_max, medium)\u001b[0m\n\u001b[1;32m     34\u001b[0m     \u001b[0;31m# Check input\u001b[0m\u001b[0;34m\u001b[0m\u001b[0;34m\u001b[0m\u001b[0;34m\u001b[0m\u001b[0m\n\u001b[1;32m     35\u001b[0m     \u001b[0;32mif\u001b[0m \u001b[0;34m(\u001b[0m\u001b[0misinstance\u001b[0m\u001b[0;34m(\u001b[0m\u001b[0mwmin\u001b[0m\u001b[0;34m,\u001b[0m \u001b[0mu\u001b[0m\u001b[0;34m.\u001b[0m\u001b[0mQuantity\u001b[0m\u001b[0;34m)\u001b[0m \u001b[0;32mor\u001b[0m \u001b[0misinstance\u001b[0m\u001b[0;34m(\u001b[0m\u001b[0mwmin\u001b[0m\u001b[0;34m,\u001b[0m \u001b[0mu\u001b[0m\u001b[0;34m.\u001b[0m\u001b[0mQuantity\u001b[0m\u001b[0;34m)\u001b[0m\u001b[0;34m)\u001b[0m \u001b[0;32mand\u001b[0m \u001b[0mwunit\u001b[0m \u001b[0;32mis\u001b[0m \u001b[0;32mnot\u001b[0m \u001b[0;32mNone\u001b[0m\u001b[0;34m:\u001b[0m\u001b[0;34m\u001b[0m\u001b[0;34m\u001b[0m\u001b[0m\n\u001b[0;32m---> 36\u001b[0;31m         \u001b[0;32mraise\u001b[0m \u001b[0mValueError\u001b[0m\u001b[0;34m(\u001b[0m\u001b[0;34m\"Cannot pass units with both wavelength and wave unit\"\u001b[0m\u001b[0;34m)\u001b[0m\u001b[0;34m\u001b[0m\u001b[0;34m\u001b[0m\u001b[0m\n\u001b[0m\u001b[1;32m     37\u001b[0m \u001b[0;34m\u001b[0m\u001b[0m\n\u001b[1;32m     38\u001b[0m     \u001b[0mrepresent_wavelength\u001b[0m \u001b[0;34m=\u001b[0m \u001b[0;32mFalse\u001b[0m\u001b[0;34m\u001b[0m\u001b[0;34m\u001b[0m\u001b[0m\n",
      "\u001b[0;31mValueError\u001b[0m: Cannot pass units with both wavelength and wave unit"
     ]
    }
   ],
   "source": [
    "get_waverange(1200*u.cm, 1000*u.cm, wunit = \"1/m\")"
   ]
  },
  {
   "cell_type": "code",
   "execution_count": 119,
   "metadata": {},
   "outputs": [
    {
     "ename": "AssertionError",
     "evalue": "",
     "output_type": "error",
     "traceback": [
      "\u001b[0;31m---------------------------------------------------------------------------\u001b[0m",
      "\u001b[0;31mAssertionError\u001b[0m                            Traceback (most recent call last)",
      "\u001b[0;32m<ipython-input-119-4af11100d178>\u001b[0m in \u001b[0;36m<module>\u001b[0;34m\u001b[0m\n\u001b[0;32m----> 1\u001b[0;31m \u001b[0mget_waverange\u001b[0m\u001b[0;34m(\u001b[0m\u001b[0;36m1200\u001b[0m\u001b[0;34m,\u001b[0m\u001b[0;36m1400\u001b[0m\u001b[0;34m)\u001b[0m\u001b[0;34m\u001b[0m\u001b[0;34m\u001b[0m\u001b[0m\n\u001b[0m",
      "\u001b[0;32m<ipython-input-118-d3f34c02a158>\u001b[0m in \u001b[0;36mget_waverange\u001b[0;34m(wmin, wmax, wunit, wavenum_min, wavenum_max, wavelength_min, wavelength_max, medium)\u001b[0m\n\u001b[1;32m     50\u001b[0m     \u001b[0;32mif\u001b[0m \u001b[0mwmin\u001b[0m \u001b[0;32mis\u001b[0m \u001b[0;32mnot\u001b[0m \u001b[0;32mNone\u001b[0m \u001b[0;32mor\u001b[0m \u001b[0mwmax\u001b[0m \u001b[0;32mis\u001b[0m \u001b[0;32mnot\u001b[0m \u001b[0;32mNone\u001b[0m\u001b[0;34m:\u001b[0m\u001b[0;34m\u001b[0m\u001b[0;34m\u001b[0m\u001b[0m\n\u001b[1;32m     51\u001b[0m         \u001b[0;32massert\u001b[0m \u001b[0mwmin\u001b[0m \u001b[0;32mis\u001b[0m \u001b[0;32mnot\u001b[0m \u001b[0;32mNone\u001b[0m \u001b[0;32mand\u001b[0m \u001b[0mwmax\u001b[0m \u001b[0;32mis\u001b[0m \u001b[0;32mnot\u001b[0m \u001b[0;32mNone\u001b[0m\u001b[0;34m\u001b[0m\u001b[0;34m\u001b[0m\u001b[0m\n\u001b[0;32m---> 52\u001b[0;31m         \u001b[0;32massert\u001b[0m \u001b[0misinstance\u001b[0m\u001b[0;34m(\u001b[0m\u001b[0mwmin\u001b[0m\u001b[0;34m,\u001b[0m \u001b[0mu\u001b[0m\u001b[0;34m.\u001b[0m\u001b[0mQuantity\u001b[0m\u001b[0;34m)\u001b[0m \u001b[0;32mand\u001b[0m \u001b[0misinstance\u001b[0m\u001b[0;34m(\u001b[0m\u001b[0mwmax\u001b[0m\u001b[0;34m,\u001b[0m \u001b[0mu\u001b[0m\u001b[0;34m.\u001b[0m\u001b[0mQuantity\u001b[0m\u001b[0;34m)\u001b[0m\u001b[0;34m\u001b[0m\u001b[0;34m\u001b[0m\u001b[0m\n\u001b[0m\u001b[1;32m     53\u001b[0m         \u001b[0;32massert\u001b[0m \u001b[0mwmin\u001b[0m\u001b[0;34m.\u001b[0m\u001b[0munit\u001b[0m\u001b[0;34m.\u001b[0m\u001b[0mis_equivalent\u001b[0m\u001b[0;34m(\u001b[0m\u001b[0mu\u001b[0m\u001b[0;34m.\u001b[0m\u001b[0mm\u001b[0m\u001b[0;34m)\u001b[0m \u001b[0;32mor\u001b[0m \u001b[0mwmin\u001b[0m\u001b[0;34m.\u001b[0m\u001b[0munit\u001b[0m\u001b[0;34m.\u001b[0m\u001b[0mis_equivalent\u001b[0m\u001b[0;34m(\u001b[0m\u001b[0;36m1\u001b[0m \u001b[0;34m/\u001b[0m \u001b[0mu\u001b[0m\u001b[0;34m.\u001b[0m\u001b[0mm\u001b[0m\u001b[0;34m)\u001b[0m\u001b[0;34m\u001b[0m\u001b[0;34m\u001b[0m\u001b[0m\n\u001b[1;32m     54\u001b[0m         \u001b[0;32massert\u001b[0m \u001b[0mwmax\u001b[0m\u001b[0;34m.\u001b[0m\u001b[0munit\u001b[0m\u001b[0;34m.\u001b[0m\u001b[0mis_equivalent\u001b[0m\u001b[0;34m(\u001b[0m\u001b[0mu\u001b[0m\u001b[0;34m.\u001b[0m\u001b[0mm\u001b[0m\u001b[0;34m)\u001b[0m \u001b[0;32mor\u001b[0m \u001b[0mwmax\u001b[0m\u001b[0;34m.\u001b[0m\u001b[0munit\u001b[0m\u001b[0;34m.\u001b[0m\u001b[0mis_equivalent\u001b[0m\u001b[0;34m(\u001b[0m\u001b[0;36m1\u001b[0m \u001b[0;34m/\u001b[0m \u001b[0mu\u001b[0m\u001b[0;34m.\u001b[0m\u001b[0mm\u001b[0m\u001b[0;34m)\u001b[0m\u001b[0;34m\u001b[0m\u001b[0;34m\u001b[0m\u001b[0m\n",
      "\u001b[0;31mAssertionError\u001b[0m: "
     ]
    }
   ],
   "source": [
    "get_waverange(1200,1400)"
   ]
  },
  {
   "cell_type": "code",
   "execution_count": null,
   "metadata": {},
   "outputs": [],
   "source": []
  }
 ],
 "metadata": {
  "kernelspec": {
   "display_name": "Python 3",
   "language": "python",
   "name": "python3"
  },
  "language_info": {
   "codemirror_mode": {
    "name": "ipython",
    "version": 3
   },
   "file_extension": ".py",
   "mimetype": "text/x-python",
   "name": "python",
   "nbconvert_exporter": "python",
   "pygments_lexer": "ipython3",
   "version": "3.6.10"
  }
 },
 "nbformat": 4,
 "nbformat_minor": 4
}
