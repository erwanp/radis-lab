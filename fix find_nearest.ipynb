{
 "cells": [
  {
   "cell_type": "code",
   "execution_count": 1,
   "metadata": {},
   "outputs": [],
   "source": [
    "import numpy as np\n",
    "from numpy import array"
   ]
  },
  {
   "cell_type": "code",
   "execution_count": 79,
   "metadata": {},
   "outputs": [],
   "source": [
    "def find_nearest(array, searched, return_bool=False):\n",
    "    \"\"\" Return the closest elements in array of 'searched' array.\n",
    "    In case of multiple elements having equal difference with `searched` element, the one with least index is \n",
    "    returned. Also returns a boolean index\n",
    "    \n",
    "    Examples\n",
    "    --------\n",
    "    \n",
    "    ::\n",
    "        \n",
    "        from numpy import array\n",
    "        find_nearest(array([1,2,3,4]), array([2.1,2]))\n",
    "        \n",
    "        >>> (array([2, 2]), array([False, True, False, False], dtype=bool))\n",
    "        \n",
    "        find_nearest(np.array([1,2,3,4]), np.array([2.6,2]))\n",
    "        \n",
    "        >>> (array([3, 2]), array([False,  True,  True, False], dtype=bool))\n",
    "\n",
    "    \"\"\"\n",
    "\n",
    "    b = np.zeros_like(array, dtype=bool)\n",
    "\n",
    "    def find_nearest(array, value):\n",
    "        idx = (np.abs(array - value)).argmin()\n",
    "        return idx, array[idx]\n",
    "\n",
    "    nearest_els = []\n",
    "    try:\n",
    "        for s in searched:\n",
    "            idx, el = find_nearest(array, s)\n",
    "            b[idx] = True\n",
    "            nearest_els.append(el)\n",
    "    except:\n",
    "        idx, el = find_nearest(array, searched)\n",
    "        b[idx] = True\n",
    "        nearest_els.append(el)\n",
    "\n",
    "    if return_bool:\n",
    "        out = nearest_els, b\n",
    "    else:\n",
    "        out = nearest_els\n",
    "    return out\n"
   ]
  },
  {
   "cell_type": "code",
   "execution_count": 80,
   "metadata": {},
   "outputs": [],
   "source": [
    "l = np.array([5, 9, 12, 10, 20, 30, 1])"
   ]
  },
  {
   "cell_type": "code",
   "execution_count": 81,
   "metadata": {},
   "outputs": [],
   "source": [
    "x = np.array([11,11,6,0,-1,50])"
   ]
  },
  {
   "cell_type": "code",
   "execution_count": 82,
   "metadata": {},
   "outputs": [],
   "source": [
    "x = 22"
   ]
  },
  {
   "cell_type": "code",
   "execution_count": 83,
   "metadata": {},
   "outputs": [
    {
     "data": {
      "text/plain": [
       "[20]"
      ]
     },
     "execution_count": 83,
     "metadata": {},
     "output_type": "execute_result"
    }
   ],
   "source": [
    "find_nearest(l, x)"
   ]
  },
  {
   "cell_type": "code",
   "execution_count": 74,
   "metadata": {},
   "outputs": [
    {
     "data": {
      "text/plain": [
       "([3, 2], array([False,  True,  True, False]))"
      ]
     },
     "execution_count": 74,
     "metadata": {},
     "output_type": "execute_result"
    }
   ],
   "source": [
    "        find_nearest(np.array([1,2,3,4]), np.array([2.6,2]))\n"
   ]
  },
  {
   "cell_type": "markdown",
   "metadata": {},
   "source": [
    "Changes in this version and original:\n",
    "1. if multiple elements in the searched array have identical answers, they are repeated as many times for each element in the output list.\n",
    "2. the index of elements in the output list equal the index of element they are nearest to in the input list\n",
    "3. return argmax as it served no purpose\n",
    "\n",
    "Also removed shift_array function"
   ]
  },
  {
   "cell_type": "code",
   "execution_count": 87,
   "metadata": {},
   "outputs": [],
   "source": [
    "l = np.arange(10)"
   ]
  },
  {
   "cell_type": "code",
   "execution_count": 88,
   "metadata": {},
   "outputs": [
    {
     "data": {
      "text/plain": [
       "array([0, 1, 2, 3, 4, 5, 6, 7, 8, 9])"
      ]
     },
     "execution_count": 88,
     "metadata": {},
     "output_type": "execute_result"
    }
   ],
   "source": [
    "l"
   ]
  },
  {
   "cell_type": "code",
   "execution_count": 89,
   "metadata": {},
   "outputs": [
    {
     "data": {
      "text/plain": [
       "[0, 1, 2, 3, 4, 5, 6, 7, 8, 9]"
      ]
     },
     "execution_count": 89,
     "metadata": {},
     "output_type": "execute_result"
    }
   ],
   "source": [
    "find_nearest(l,l)"
   ]
  },
  {
   "cell_type": "code",
   "execution_count": 93,
   "metadata": {},
   "outputs": [
    {
     "data": {
      "text/plain": [
       "[1, 1, 1, 1, 1, 1]"
      ]
     },
     "execution_count": 93,
     "metadata": {},
     "output_type": "execute_result"
    }
   ],
   "source": [
    "x1 = array([1,1,1,1,1,1])\n",
    "y1 = array([1,2,3,4,5,6])\n",
    "find_nearest(x1, y1)"
   ]
  },
  {
   "cell_type": "code",
   "execution_count": 96,
   "metadata": {},
   "outputs": [
    {
     "data": {
      "text/plain": [
       "[7, 6, 5, 4, 3, 2, 1, 0]"
      ]
     },
     "execution_count": 96,
     "metadata": {},
     "output_type": "execute_result"
    }
   ],
   "source": [
    "x1 = array([0,1,2,3,4,5,6,7])\n",
    "y1 = array([7,6,5,4,3,2,1,0])\n",
    "find_nearest(x1,y1)"
   ]
  },
  {
   "cell_type": "code",
   "execution_count": 95,
   "metadata": {},
   "outputs": [
    {
     "data": {
      "text/plain": [
       "[1.5, 3.0, 2.0]"
      ]
     },
     "execution_count": 95,
     "metadata": {},
     "output_type": "execute_result"
    }
   ],
   "source": [
    "x1 = array([1.5, 2.0, 2.5, 3.0])\n",
    "y1 = array([-10, 10, 2.25])\n",
    "find_nearest(x1, y1)"
   ]
  },
  {
   "cell_type": "code",
   "execution_count": 100,
   "metadata": {},
   "outputs": [],
   "source": [
    "from radis import SpectrumFactory"
   ]
  },
  {
   "cell_type": "code",
   "execution_count": 113,
   "metadata": {},
   "outputs": [
    {
     "name": "stdout",
     "output_type": "stream",
     "text": [
      "Using cache file: /home/pankaj/.astropy/cache/astroquery/Hitran/tempfile_CO_1_1895.00_2305.01.h5\n",
      "Using cache file: /home/pankaj/.astropy/cache/astroquery/Hitran/tempfile_CO_2_1895.00_2305.01.h5\n",
      "Using cache file: /home/pankaj/.astropy/cache/astroquery/Hitran/tempfile_CO_3_1895.00_2305.01.h5\n",
      "Calculating Equilibrium Spectrum\n",
      "Physical Conditions\n",
      "----------------------------------------\n",
      "   Tgas                 1000 K\n",
      "   Trot                 1000 K\n",
      "   Tvib                 1000 K\n",
      "   isotope              1,2,3\n",
      "   mole_fraction        0.1\n",
      "   molecule             CO\n",
      "   path_length          1 cm\n",
      "   pressure_mbar        1013.25 mbar\n",
      "   rot_distribution     boltzmann\n",
      "   self_absorption      True\n",
      "   state                X\n",
      "   vib_distribution     boltzmann\n",
      "   wavenum_max          2300.0000 cm-1\n",
      "   wavenum_min          1900.0000 cm-1\n",
      "Computation Parameters\n",
      "----------------------------------------\n",
      "   Tref                 296 K\n",
      "   broadening_max_width  10 cm-1\n",
      "   cutoff               1e-27 cm-1/(#.cm-2)\n",
      "   dbformat             hitran\n",
      "   dbpath               fetched from astroquery\n",
      "   dlm_res_G            0.01\n",
      "   dlm_res_L            0.01\n",
      "   include_neighbouring_lines  True\n",
      "   parfuncfmt           hapi\n",
      "   pseudo_continuum_threshold  0\n",
      "   wavenum_max_calc     2305.0100 cm-1\n",
      "   wavenum_min_calc     1895.0000 cm-1\n",
      "   waveunit             cm-1\n",
      "   wstep                0.01 cm-1\n",
      "Information\n",
      "----------------------------------------\n",
      "   chunksize            DLM\n",
      "   db_use_cached        True\n",
      "   export_lines         True\n",
      "   lvl_use_cached       True\n",
      "   parallel             False\n",
      "   warning_broadening_threshold  0.01\n",
      "   warning_linestrength_cutoff  0.01\n",
      "----------------------------------------\n",
      "Spectrum calculated in 0.07s\n"
     ]
    },
    {
     "name": "stderr",
     "output_type": "stream",
     "text": [
      "/home/pankaj/radis/radis/misc/warning.py:242: HighTemperatureWarning: HITRAN is valid for low temperatures (typically < 700 K). For higher temperatures you may need HITEMP or CDSD. See the 'databank=' parameter\n",
      "  warnings.warn(WarningType(message))\n",
      "/home/pankaj/radis/radis/misc/warning.py:242: MissingSelfBroadeningWarning: Self-broadening temperature coefficient Tdpsel not given in database: used Tdpair instead\n",
      "  warnings.warn(WarningType(message))\n"
     ]
    }
   ],
   "source": [
    "from radis import calc_spectrum\n",
    "s = calc_spectrum(1900, 2300,         # cm-1\n",
    "                  molecule='CO',\n",
    "                  isotope='1,2,3',\n",
    "                  pressure=1.01325,   # bar\n",
    "                  Tgas=1000,\n",
    "                  mole_fraction=0.1,\n",
    "                  )"
   ]
  },
  {
   "cell_type": "code",
   "execution_count": 115,
   "metadata": {},
   "outputs": [
    {
     "name": "stdout",
     "output_type": "stream",
     "text": [
      "Spectrum Name:  spectrum140651079568384\n",
      "Spectral Quantities\n",
      "----------------------------------------\n",
      "   abscoeff \t(10,000 points)\n",
      "   absorbance \t(10,000 points)\n",
      "   emissivity_noslit \t(10,000 points)\n",
      "   transmittance_noslit \t(10,000 points)\n",
      "   radiance_noslit \t(10,000 points)\n",
      "Populations Stored\n",
      "----------------------------------------\n",
      "Physical Conditions\n",
      "----------------------------------------\n",
      "   Tgas                 1000 K\n",
      "   Trot                 1000 K\n",
      "   Tvib                 1000 K\n",
      "   isotope              1,2,3\n",
      "   mole_fraction        0.1\n",
      "   molecule             CO\n",
      "   path_length          1 cm\n",
      "   pressure_mbar        1013.25 mbar\n",
      "   rot_distribution     boltzmann\n",
      "   self_absorption      True\n",
      "   state                X\n",
      "   thermal_equilibrium  True\n",
      "   vib_distribution     boltzmann\n",
      "   wavenum_max          2300.0000 cm-1\n",
      "   wavenum_min          1900.0000 cm-1\n",
      "Computation Parameters\n",
      "----------------------------------------\n",
      "   Tref                 296 K\n",
      "   broadening_max_width  10 cm-1\n",
      "   cutoff               1e-27 cm-1/(#.cm-2)\n",
      "   dbformat             hitran\n",
      "   dbpath               fetched from astroquery\n",
      "   dlm_res_G            0.01\n",
      "   dlm_res_L            0.01\n",
      "   include_neighbouring_lines  True\n",
      "   parfuncfmt           hapi\n",
      "   pseudo_continuum_threshold  0\n",
      "   radis_version        0.9.25\n",
      "   wavenum_max_calc     2305.0100 cm-1\n",
      "   wavenum_min_calc     1895.0000 cm-1\n",
      "   waveunit             cm-1\n",
      "   wstep                0.01 cm-1\n",
      "Information\n",
      "----------------------------------------\n",
      "   calculation_time     0.07 s\n",
      "   chunksize            DLM\n",
      "   db_use_cached        True\n",
      "   export_lines         True\n",
      "   lines_calculated     749\n",
      "   lines_cutoff         0\n",
      "   lines_in_continuum   0\n",
      "   lvl_use_cached       True\n",
      "   parallel             False\n",
      "   warning_broadening_threshold  0.01\n",
      "   warning_linestrength_cutoff  0.01\n",
      "----------------------------------------\n",
      "\n"
     ]
    }
   ],
   "source": [
    "print(s.crop(2000,2100, 'cm-1', inplace=True))"
   ]
  },
  {
   "cell_type": "code",
   "execution_count": 4,
   "metadata": {},
   "outputs": [],
   "source": [
    "def test_find_nearest(*args, **kwargs):\n",
    "    a = np.arange(10)\n",
    "    b = np.ones_like(a)\n",
    "    assert (find_nearest(a, a) == a).all()\n",
    "    assert (find_nearest(a, b) == b).all()\n",
    "    assert (find_nearest(a, a[::-1]) == a[::-1]).all()\n",
    "    assert (\n",
    "        find_nearest(\n",
    "            np.array([1.5, 2.0, 2.5, 3.0]),\n",
    "            np.array([-10, 10, 2.25]) == np.array([1.5, 3.0, 2.0]),\n",
    "        )\n",
    "    ).all()\n",
    "    assert find_nearest(np.array([10]), np.array([-10, 0, 10])) == np.array([0, 0, 0])\n"
   ]
  },
  {
   "cell_type": "code",
   "execution_count": 5,
   "metadata": {},
   "outputs": [],
   "source": [
    "def find_nearest(array, searched, return_bool=False):\n",
    "    \"\"\" Return the closest elements in array for each element in 'searched' array.\n",
    "    In case of multiple elements in `array` having equal difference with\n",
    "    `searched` element, one with least index is returned. Also returns a boolean\n",
    "    array with indices of elements occuring in output list set to true.\n",
    "\n",
    "    Examples\n",
    "    --------\n",
    "\n",
    "    ::\n",
    "\n",
    "        from numpy import array\n",
    "        find_nearest(array([1,2,3,4]), array([2.1,2]))\n",
    "\n",
    "        >>> (array([2, 2]), array([False, True, False, False], dtype=bool))\n",
    "\n",
    "        find_nearest(np.array([1,2,3,4]), np.array([2.6,2]))\n",
    "\n",
    "        >>> (array([3, 2]), array([False,  True,  True, False], dtype=bool))\n",
    "\n",
    "    \"\"\"\n",
    "\n",
    "    b = np.zeros_like(array, dtype=bool)\n",
    "\n",
    "    def find_nearest(array, value):\n",
    "        idx = (np.abs(array - value)).argmin()\n",
    "        return idx, array[idx]\n",
    "\n",
    "    nearest_els = []\n",
    "    try:\n",
    "        for s in searched:\n",
    "            idx, el = find_nearest(array, s)\n",
    "            b[idx] = True\n",
    "            nearest_els.append(el)\n",
    "    except:\n",
    "        idx, el = find_nearest(array, searched)\n",
    "        b[idx] = True\n",
    "        nearest_els.append(el)\n",
    "\n",
    "    if return_bool:\n",
    "        out = nearest_els, b\n",
    "    else:\n",
    "        out = nearest_els\n",
    "\n",
    "    return out"
   ]
  },
  {
   "cell_type": "code",
   "execution_count": 12,
   "metadata": {},
   "outputs": [
    {
     "name": "stderr",
     "output_type": "stream",
     "text": [
      "/home/pankaj/anaconda3/envs/radis-dev/lib/python3.6/site-packages/ipykernel_launcher.py:1: DeprecationWarning: elementwise comparison failed; this will raise an error in the future.\n",
      "  \"\"\"Entry point for launching an IPython kernel.\n"
     ]
    },
    {
     "ename": "AttributeError",
     "evalue": "'bool' object has no attribute 'all'",
     "output_type": "error",
     "traceback": [
      "\u001b[0;31m---------------------------------------------------------------------------\u001b[0m",
      "\u001b[0;31mAttributeError\u001b[0m                            Traceback (most recent call last)",
      "\u001b[0;32m<ipython-input-12-c370b3f81b94>\u001b[0m in \u001b[0;36m<module>\u001b[0;34m\u001b[0m\n\u001b[0;32m----> 1\u001b[0;31m \u001b[0;32massert\u001b[0m \u001b[0;34m(\u001b[0m\u001b[0mnp\u001b[0m\u001b[0;34m.\u001b[0m\u001b[0marray\u001b[0m\u001b[0;34m(\u001b[0m\u001b[0;34m[\u001b[0m\u001b[0;36m1\u001b[0m\u001b[0;34m,\u001b[0m\u001b[0;36m2\u001b[0m\u001b[0;34m,\u001b[0m\u001b[0;36m3\u001b[0m\u001b[0;34m]\u001b[0m\u001b[0;34m)\u001b[0m \u001b[0;34m==\u001b[0m \u001b[0mnp\u001b[0m\u001b[0;34m.\u001b[0m\u001b[0marray\u001b[0m\u001b[0;34m(\u001b[0m\u001b[0;34m[\u001b[0m\u001b[0;36m1\u001b[0m\u001b[0;34m,\u001b[0m\u001b[0;36m2\u001b[0m\u001b[0;34m,\u001b[0m\u001b[0;36m3\u001b[0m\u001b[0;34m,\u001b[0m\u001b[0;36m4\u001b[0m\u001b[0;34m]\u001b[0m\u001b[0;34m)\u001b[0m\u001b[0;34m)\u001b[0m\u001b[0;34m.\u001b[0m\u001b[0mall\u001b[0m\u001b[0;34m(\u001b[0m\u001b[0;34m)\u001b[0m\u001b[0;34m\u001b[0m\u001b[0;34m\u001b[0m\u001b[0m\n\u001b[0m",
      "\u001b[0;31mAttributeError\u001b[0m: 'bool' object has no attribute 'all'"
     ]
    }
   ],
   "source": [
    "assert (np.array([1,2,3]) == np.array([1,2,3,4])).all()"
   ]
  },
  {
   "cell_type": "code",
   "execution_count": 6,
   "metadata": {},
   "outputs": [],
   "source": [
    "a = np.arange(10)\n",
    "b = np.ones_like(a)\n",
    "\n",
    "x, y = find_nearest(a, a, True)\n",
    "assert (x == a).all()"
   ]
  },
  {
   "cell_type": "code",
   "execution_count": 13,
   "metadata": {},
   "outputs": [
    {
     "ename": "ValueError",
     "evalue": "too many values to unpack (expected 2)",
     "output_type": "error",
     "traceback": [
      "\u001b[0;31m---------------------------------------------------------------------------\u001b[0m",
      "\u001b[0;31mValueError\u001b[0m                                Traceback (most recent call last)",
      "\u001b[0;32m<ipython-input-13-a4c4a95cc920>\u001b[0m in \u001b[0;36m<module>\u001b[0;34m\u001b[0m\n\u001b[0;32m----> 1\u001b[0;31m \u001b[0mx\u001b[0m\u001b[0;34m,\u001b[0m \u001b[0my\u001b[0m\u001b[0;34m=\u001b[0m \u001b[0mfind_nearest\u001b[0m\u001b[0;34m(\u001b[0m\u001b[0ma\u001b[0m\u001b[0;34m,\u001b[0m\u001b[0ma\u001b[0m\u001b[0;34m)\u001b[0m\u001b[0;34m\u001b[0m\u001b[0;34m\u001b[0m\u001b[0m\n\u001b[0m",
      "\u001b[0;31mValueError\u001b[0m: too many values to unpack (expected 2)"
     ]
    }
   ],
   "source": [
    "x, y= find_nearest(a,a)"
   ]
  },
  {
   "cell_type": "code",
   "execution_count": 31,
   "metadata": {},
   "outputs": [],
   "source": [
    "def test_find_nearest(*args, **kwargs):\n",
    "    a = np.arange(10)\n",
    "    b = np.ones(5)\n",
    "    #print(\"b = \", b)\n",
    "    x1, y1 = find_nearest(a, a, True)\n",
    "    assert (x1 == a).all()\n",
    "    assert (len(y1) == len(a))\n",
    "    assert (y1 == np.array([True for i in a])).all()\n",
    "\n",
    "    x2, y2 = find_nearest(a, b, True)\n",
    "    print(\"y2 = \", y2)\n",
    "    assert (x2 == b).all()\n",
    "    assert (len(x2) == len(b))\n",
    "    assert (len(y2) == len(a))\n",
    "    assert (y2 == np.array([i==1 for i in a])).all()\n",
    "\n",
    "    assert (find_nearest(a, a[::-1]) == a[::-1]).all()\n",
    "    assert (find_nearest(np.array([1.5, 2.0, 2.5, 3.0]),np.array([-10, 10, 2.25])) == np.array([1.5, 3.0, 2.0])).all()\n",
    "\n",
    "    x3, y3 = find_nearest(np.array([10]), np.array([-10, 0, 10]), True)\n",
    "    assert (x3 == np.array([10, 10, 10])).all()\n",
    "    assert (len(y3) == 1)\n",
    "    assert (y3 == [True])"
   ]
  },
  {
   "cell_type": "code",
   "execution_count": 32,
   "metadata": {},
   "outputs": [
    {
     "name": "stdout",
     "output_type": "stream",
     "text": [
      "y2 =  [False  True False False False False False False False False]\n"
     ]
    }
   ],
   "source": [
    "test_find_nearest()"
   ]
  },
  {
   "cell_type": "code",
   "execution_count": null,
   "metadata": {},
   "outputs": [],
   "source": []
  }
 ],
 "metadata": {
  "kernelspec": {
   "display_name": "Python 3",
   "language": "python",
   "name": "python3"
  },
  "language_info": {
   "codemirror_mode": {
    "name": "ipython",
    "version": 3
   },
   "file_extension": ".py",
   "mimetype": "text/x-python",
   "name": "python",
   "nbconvert_exporter": "python",
   "pygments_lexer": "ipython3",
   "version": "3.6.10"
  }
 },
 "nbformat": 4,
 "nbformat_minor": 4
}
